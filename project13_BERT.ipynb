{
 "cells": [
  {
   "cell_type": "markdown",
   "metadata": {},
   "source": [
    "<div class=\"alert alert-info\">\n",
    "<font size=\"5\"><b>Комментарий ревьюера</b></font>\n",
    "\n",
    "Привет Максим! Меня зовут Марат, и я буду твоим ревьюером. Спешу сообщить что все ключевые этапы в работе выполнены,  с задачей тебе удалось справиться. По поводу обращения - в IT сфере принято общаться на «ты» :) Но, если привычней на «вы», дай знать. Как ревьюера моя задача помочь тебе в развитии, дав хорошие советы. Я внимательно посмотрю твой код, ознакомлюсь с твоими выводами и оставлю комментарии. Где то могу предложить небольшие исправление в коде, но ненавязчиво. Где потребуются уточнения, я оставлю много наводящих вопросов. Они помогут тебя с поиском верного решения.\n",
    "\n",
    "Все мои комментарии размечены по цветам, для лучшего восприятия. \n",
    "    \n",
    "<div class=\"alert alert-success\">Зеленым цветом и словом «Успех» отмечены особо удачные и элегантные решения, которыми ты можешь гордиться. </div>\n",
    "        \n",
    "<div class=\"alert alert-warning\">Желтым и значком словом «Совет», помечены решения у которых есть альтернативные решения, более оптимальные. Ты можешь найти их сразу и доработать проект, или отложить это на потом, для будущих проектах. Проект будет принят и без их доработки. </div>\n",
    "        \n",
    "<div class=\"alert alert-danger\"> Красным цветом и значком словом «Ошибка» помечу твои решения, на которые стоит обратить внимание прежде всего. После их доработки проект будет принят. </div>\n",
    "        \n",
    "Залог успеха - работа сообща, взаимное уважение и работа в диалоге. Поэтому, помечай свои ответные комментарии на мои реплики заметным цветом или курсивом, так мне будет легче их отслеживать. Пожалуйста, не изменяй и не удаляй мои комментарии. Все это поможет выполнить повторную проверку быстрей.\n",
    "\n",
    "</div>"
   ]
  },
  {
   "cell_type": "markdown",
   "metadata": {
    "toc": true
   },
   "source": [
    "<h1>Содержание<span class=\"tocSkip\"></span></h1>\n",
    "<div class=\"toc\"><ul class=\"toc-item\"><li><span><a href=\"#Подготовка\" data-toc-modified-id=\"Подготовка-1\"><span class=\"toc-item-num\">1&nbsp;&nbsp;</span>Подготовка</a></span><ul class=\"toc-item\"><li><span><a href=\"#Установка-библиотек\" data-toc-modified-id=\"Установка-библиотек-1.1\"><span class=\"toc-item-num\">1.1&nbsp;&nbsp;</span>Установка библиотек</a></span></li><li><span><a href=\"#Импорт-библиотек\" data-toc-modified-id=\"Импорт-библиотек-1.2\"><span class=\"toc-item-num\">1.2&nbsp;&nbsp;</span>Импорт библиотек</a></span></li><li><span><a href=\"#Подготовка-констант\" data-toc-modified-id=\"Подготовка-констант-1.3\"><span class=\"toc-item-num\">1.3&nbsp;&nbsp;</span>Подготовка констант</a></span></li><li><span><a href=\"#Знакомство-с-данными\" data-toc-modified-id=\"Знакомство-с-данными-1.4\"><span class=\"toc-item-num\">1.4&nbsp;&nbsp;</span>Знакомство с данными</a></span></li></ul></li><li><span><a href=\"#BERT\" data-toc-modified-id=\"BERT-2\"><span class=\"toc-item-num\">2&nbsp;&nbsp;</span>BERT</a></span><ul class=\"toc-item\"><li><span><a href=\"#Подготовка-данных-для-BERT\" data-toc-modified-id=\"Подготовка-данных-для-BERT-2.1\"><span class=\"toc-item-num\">2.1&nbsp;&nbsp;</span>Подготовка данных для BERT</a></span><ul class=\"toc-item\"><li><span><a href=\"#Загрузка-предобученных-модели-и-токенизатора.\" data-toc-modified-id=\"Загрузка-предобученных-модели-и-токенизатора.-2.1.1\"><span class=\"toc-item-num\">2.1.1&nbsp;&nbsp;</span>Загрузка предобученных модели и токенизатора.</a></span></li><li><span><a href=\"#Преобразуем-текст\" data-toc-modified-id=\"Преобразуем-текст-2.1.2\"><span class=\"toc-item-num\">2.1.2&nbsp;&nbsp;</span>Преобразуем текст</a></span></li><li><span><a href=\"#Фильтруем-данные\" data-toc-modified-id=\"Фильтруем-данные-2.1.3\"><span class=\"toc-item-num\">2.1.3&nbsp;&nbsp;</span>Фильтруем данные</a></span></li><li><span><a href=\"#Преобразуем-текст-предобработанных-данных\" data-toc-modified-id=\"Преобразуем-текст-предобработанных-данных-2.1.4\"><span class=\"toc-item-num\">2.1.4&nbsp;&nbsp;</span>Преобразуем текст предобработанных данных</a></span></li><li><span><a href=\"#Преобразование-векторов\" data-toc-modified-id=\"Преобразование-векторов-2.1.5\"><span class=\"toc-item-num\">2.1.5&nbsp;&nbsp;</span>Преобразование векторов</a></span></li><li><span><a href=\"#Преобразование-в-эмбеддинги\" data-toc-modified-id=\"Преобразование-в-эмбеддинги-2.1.6\"><span class=\"toc-item-num\">2.1.6&nbsp;&nbsp;</span>Преобразование в эмбеддинги</a></span></li><li><span><a href=\"#Выгрузка-датасета\" data-toc-modified-id=\"Выгрузка-датасета-2.1.7\"><span class=\"toc-item-num\">2.1.7&nbsp;&nbsp;</span>Выгрузка датасета</a></span></li><li><span><a href=\"#Загрузка-датасета\" data-toc-modified-id=\"Загрузка-датасета-2.1.8\"><span class=\"toc-item-num\">2.1.8&nbsp;&nbsp;</span>Загрузка датасета</a></span></li></ul></li><li><span><a href=\"#Обучение-для-BERT\" data-toc-modified-id=\"Обучение-для-BERT-2.2\"><span class=\"toc-item-num\">2.2&nbsp;&nbsp;</span>Обучение для BERT</a></span><ul class=\"toc-item\"><li><span><a href=\"#Ограничение-датасета\" data-toc-modified-id=\"Ограничение-датасета-2.2.1\"><span class=\"toc-item-num\">2.2.1&nbsp;&nbsp;</span>Ограничение датасета</a></span></li><li><span><a href=\"#Разбиение-данных\" data-toc-modified-id=\"Разбиение-данных-2.2.2\"><span class=\"toc-item-num\">2.2.2&nbsp;&nbsp;</span>Разбиение данных</a></span></li><li><span><a href=\"#Модель-логистической-регрессии\" data-toc-modified-id=\"Модель-логистической-регрессии-2.2.3\"><span class=\"toc-item-num\">2.2.3&nbsp;&nbsp;</span>Модель логистической регрессии</a></span></li><li><span><a href=\"#Модель-опорных-векторов\" data-toc-modified-id=\"Модель-опорных-векторов-2.2.4\"><span class=\"toc-item-num\">2.2.4&nbsp;&nbsp;</span>Модель опорных векторов</a></span></li><li><span><a href=\"#Модель-случайного-леса\" data-toc-modified-id=\"Модель-случайного-леса-2.2.5\"><span class=\"toc-item-num\">2.2.5&nbsp;&nbsp;</span>Модель случайного леса</a></span></li><li><span><a href=\"#LightGBM\" data-toc-modified-id=\"LightGBM-2.2.6\"><span class=\"toc-item-num\">2.2.6&nbsp;&nbsp;</span>LightGBM</a></span></li></ul></li><li><span><a href=\"#Выводы-по-методу-BERT\" data-toc-modified-id=\"Выводы-по-методу-BERT-2.3\"><span class=\"toc-item-num\">2.3&nbsp;&nbsp;</span>Выводы по методу BERT</a></span></li></ul></li><li><span><a href=\"#TF-IDF\" data-toc-modified-id=\"TF-IDF-3\"><span class=\"toc-item-num\">3&nbsp;&nbsp;</span>TF-IDF</a></span><ul class=\"toc-item\"><li><span><a href=\"#Подготовка\" data-toc-modified-id=\"Подготовка-3.1\"><span class=\"toc-item-num\">3.1&nbsp;&nbsp;</span>Подготовка</a></span><ul class=\"toc-item\"><li><span><a href=\"#Подгрузка-необходимых-данных\" data-toc-modified-id=\"Подгрузка-необходимых-данных-3.1.1\"><span class=\"toc-item-num\">3.1.1&nbsp;&nbsp;</span>Подгрузка необходимых данных</a></span></li><li><span><a href=\"#Функция-очистки-текста\" data-toc-modified-id=\"Функция-очистки-текста-3.1.2\"><span class=\"toc-item-num\">3.1.2&nbsp;&nbsp;</span>Функция очистки текста</a></span></li><li><span><a href=\"#Лемматизатор\" data-toc-modified-id=\"Лемматизатор-3.1.3\"><span class=\"toc-item-num\">3.1.3&nbsp;&nbsp;</span>Лемматизатор</a></span></li><li><span><a href=\"#Выгрузка-датасета\" data-toc-modified-id=\"Выгрузка-датасета-3.1.4\"><span class=\"toc-item-num\">3.1.4&nbsp;&nbsp;</span>Выгрузка датасета</a></span></li><li><span><a href=\"#Загрузка-лемматизированного-датасета\" data-toc-modified-id=\"Загрузка-лемматизированного-датасета-3.1.5\"><span class=\"toc-item-num\">3.1.5&nbsp;&nbsp;</span>Загрузка лемматизированного датасета</a></span></li><li><span><a href=\"#Облако-слов\" data-toc-modified-id=\"Облако-слов-3.1.6\"><span class=\"toc-item-num\">3.1.6&nbsp;&nbsp;</span>Облако слов</a></span></li></ul></li><li><span><a href=\"#Обучение-для-TF-IDF\" data-toc-modified-id=\"Обучение-для-TF-IDF-3.2\"><span class=\"toc-item-num\">3.2&nbsp;&nbsp;</span>Обучение для TF-IDF</a></span><ul class=\"toc-item\"><li><span><a href=\"#Разбиение-данных\" data-toc-modified-id=\"Разбиение-данных-3.2.1\"><span class=\"toc-item-num\">3.2.1&nbsp;&nbsp;</span>Разбиение данных</a></span></li><li><span><a href=\"#Вводим-стоп-слова\" data-toc-modified-id=\"Вводим-стоп-слова-3.2.2\"><span class=\"toc-item-num\">3.2.2&nbsp;&nbsp;</span>Вводим стоп слова</a></span></li><li><span><a href=\"#Мешки-слов\" data-toc-modified-id=\"Мешки-слов-3.2.3\"><span class=\"toc-item-num\">3.2.3&nbsp;&nbsp;</span>Мешки слов</a></span></li></ul></li><li><span><a href=\"#Обучение\" data-toc-modified-id=\"Обучение-3.3\"><span class=\"toc-item-num\">3.3&nbsp;&nbsp;</span>Обучение</a></span><ul class=\"toc-item\"><li><span><a href=\"#Модель-логистической-регрессии\" data-toc-modified-id=\"Модель-логистической-регрессии-3.3.1\"><span class=\"toc-item-num\">3.3.1&nbsp;&nbsp;</span>Модель логистической регрессии</a></span></li><li><span><a href=\"#Модель-опорных-векторов\" data-toc-modified-id=\"Модель-опорных-векторов-3.3.2\"><span class=\"toc-item-num\">3.3.2&nbsp;&nbsp;</span>Модель опорных векторов</a></span></li><li><span><a href=\"#Модель-случайного-леса\" data-toc-modified-id=\"Модель-случайного-леса-3.3.3\"><span class=\"toc-item-num\">3.3.3&nbsp;&nbsp;</span>Модель случайного леса</a></span></li><li><span><a href=\"#LightGBM\" data-toc-modified-id=\"LightGBM-3.3.4\"><span class=\"toc-item-num\">3.3.4&nbsp;&nbsp;</span>LightGBM</a></span></li></ul></li><li><span><a href=\"#Выводы-по-методу-TF-IDF\" data-toc-modified-id=\"Выводы-по-методу-TF-IDF-3.4\"><span class=\"toc-item-num\">3.4&nbsp;&nbsp;</span>Выводы по методу TF-IDF</a></span></li><li><span><a href=\"#Проверяем-лучшую-модель\" data-toc-modified-id=\"Проверяем-лучшую-модель-3.5\"><span class=\"toc-item-num\">3.5&nbsp;&nbsp;</span>Проверяем лучшую модель</a></span></li></ul></li><li><span><a href=\"#Выводы\" data-toc-modified-id=\"Выводы-4\"><span class=\"toc-item-num\">4&nbsp;&nbsp;</span>Выводы</a></span></li><li><span><a href=\"#Чек-лист-проверки\" data-toc-modified-id=\"Чек-лист-проверки-5\"><span class=\"toc-item-num\">5&nbsp;&nbsp;</span>Чек-лист проверки</a></span></li></ul></div>"
   ]
  },
  {
   "cell_type": "markdown",
   "metadata": {},
   "source": [
    "# Проект для «Викишоп» с BERT"
   ]
  },
  {
   "cell_type": "markdown",
   "metadata": {},
   "source": [
    "Интернет-магазин «Викишоп» запускает новый сервис. Теперь пользователи могут редактировать и дополнять описания товаров, как в вики-сообществах. То есть клиенты предлагают свои правки и комментируют изменения других. Магазину нужен инструмент, который будет искать токсичные комментарии и отправлять их на модерацию. \n",
    "\n",
    "Обучите модель классифицировать комментарии на позитивные и негативные. В вашем распоряжении набор данных с разметкой о токсичности правок.\n",
    "\n",
    "Постройте модель со значением метрики качества *F1* не меньше 0.75. \n",
    "\n",
    "**Инструкция по выполнению проекта**\n",
    "\n",
    "1. Загрузите и подготовьте данные.\n",
    "2. Обучите разные модели. \n",
    "3. Сделайте выводы.\n",
    "\n",
    "Для выполнения проекта применять *BERT* необязательно, но вы можете попробовать.\n",
    "\n",
    "**Описание данных**\n",
    "\n",
    "Данные находятся в файле `toxic_comments.csv`. Столбец *text* в нём содержит текст комментария, а *toxic* — целевой признак."
   ]
  },
  {
   "cell_type": "markdown",
   "metadata": {},
   "source": [
    "<div class=\"alert alert-success\">\n",
    "<font size=\"5\"><b>Комментарий ревьюера</b></font>\n",
    "\n",
    "Успех:\n",
    "\n",
    "Вступление в работу очень важно, так человек, который смотрит твой проект (и на работе в том числе) будет сразу введен в курс дела. \n",
    "     \n",
    "    \n",
    " \n",
    "\n",
    "<div class=\"alert alert-warning\">\n",
    "\n",
    "\n",
    "Совет: \n",
    "   \n",
    "Вопросик, при желании можешь ответить )\n",
    "    \n",
    "    \n",
    "- а почему по твоему была выбрана метрика f1? \n",
    "    \n",
    "    \n",
    "- а что если бы нам было нужно найти как можно больше токсичных комментариев, в этом случаи на какую метрику мы бы ориентировались?\n",
    "    \n",
    "    \n",
    "- каким образом мы можем изменить функцию ошибки в модели, чтобы она максимизировала интересующую нас метрику (accuracy, f1, precision, roc-auc итп)?    \n",
    "\n",
    "\n",
    "\n",
    "</div>"
   ]
  },
  {
   "cell_type": "markdown",
   "metadata": {},
   "source": [
    "<div class=\"alert alert-info\"> <b>Комментарий студента:</b> Марат, привет, ниже попытался ответить на вопросы, но понял, что не знаю точный ответ на второй и совсем не знаю на третий. Попрошу тебя самого ответить на них, было бы полезно понять это.</div>"
   ]
  },
  {
   "cell_type": "markdown",
   "metadata": {},
   "source": [
    "1. Для оценки токсичности комментариев используется метрика `F1`, так как имеется сильный дисбаланс классов. `Accuracy` является метрикой, которая будет работать только при сбалансированнных классах.\n",
    "\n",
    "`F1` метрика включает в себя сразу две метрики: `precision` (доля истинноположительных из набора всех положительных, в т.ч. отрицательноположительных) и `recall` (доля истинноположительных из всего набора положительного класса, т.е. включая ложноотрицательные предсказания). Таким образом, увеличение метрики `F1` влечет за собой:\n",
    "\n",
    "- либо уменьшение доли ложноположительных предсказаний (по метрике `precision`),\n",
    "- либо уменьшение доли ложноотрицательных предсказаний (по метрике `recall`),\n",
    "- либо оба варианта сразу.\n",
    "\n",
    "2. Тут имеется в виду `precision`? Не столько важно, какая будет метрика, важно, чтобы было, грубо говоря, отобрано как можно больше комментариев класса положительный, даже если это будет ложноположительный?\n",
    "\n",
    "\n",
    "3. Не знаю ответ, либо не понял вопрос."
   ]
  },
  {
   "cell_type": "markdown",
   "metadata": {},
   "source": [
    "## Подготовка"
   ]
  },
  {
   "cell_type": "markdown",
   "metadata": {},
   "source": [
    "### Установка библиотек"
   ]
  },
  {
   "cell_type": "code",
   "execution_count": 1,
   "metadata": {},
   "outputs": [],
   "source": [
    "# pip install nltk # доустанавливаем необходимые библиотеки\n",
    "# pip install pywsd\n",
    "# pip install transformers"
   ]
  },
  {
   "cell_type": "markdown",
   "metadata": {},
   "source": [
    "### Импорт библиотек"
   ]
  },
  {
   "cell_type": "code",
   "execution_count": 131,
   "metadata": {
    "scrolled": true
   },
   "outputs": [],
   "source": [
    "import pandas as pd\n",
    "import matplotlib.pyplot as plt\n",
    "import numpy as np\n",
    "import torch\n",
    "import transformers as ppb # pytorch transformers\n",
    "import requests #получить финальный url я.диска\n",
    "import lightgbm as lgb\n",
    "import nltk\n",
    "import re\n",
    "import warnings"
   ]
  },
  {
   "cell_type": "code",
   "execution_count": 132,
   "metadata": {},
   "outputs": [],
   "source": [
    "from sklearn.model_selection import cross_val_score\n",
    "from sklearn.model_selection import train_test_split\n",
    "from sklearn.model_selection import RandomizedSearchCV\n",
    "from sklearn.model_selection import GridSearchCV\n",
    "from sklearn.linear_model import LogisticRegression\n",
    "from sklearn.svm import SVC\n",
    "from sklearn.ensemble import RandomForestClassifier\n",
    "from sklearn.metrics import f1_score\n",
    "from pandas.core.common import flatten\n",
    "from sklearn.feature_extraction.text import CountVectorizer \n",
    "from sklearn.feature_extraction.text import TfidfVectorizer \n",
    "\n",
    "from tqdm import notebook\n",
    "from tqdm import tqdm\n",
    "from urllib.parse import urlencode # для задания адреса таблицы в я.диске\n",
    "from pywsd.utils import lemmatize_sentence #лемматизатор\n",
    "from nltk.corpus import wordnet\n",
    "from nltk import word_tokenize\n",
    "from nltk.probability import FreqDist\n",
    "from nltk.corpus import stopwords"
   ]
  },
  {
   "cell_type": "markdown",
   "metadata": {},
   "source": [
    "\n",
    "<div class=\"alert alert-warning\">\n",
    "<font size=\"5\"><b>Комментарий ревьюера</b></font>\n",
    "\n",
    "Совет:\n",
    "\n",
    "    \n",
    "\n",
    "    \n",
    "- есть рекомендации PEP-8 при написании кода, в том числе и для импортов. Если интересно можешь почитать [тут](https://pythonworld.ru/osnovy/pep-8-rukovodstvo-po-napisaniyu-koda-na-python.html). Есть что поправить \n",
    "\n"
   ]
  },
  {
   "cell_type": "markdown",
   "metadata": {},
   "source": [
    "<div class=\"alert alert-info\"> <b>Комментарий студента:</b> Сделано.</div>"
   ]
  },
  {
   "cell_type": "markdown",
   "metadata": {},
   "source": [
    "### Подготовка констант"
   ]
  },
  {
   "cell_type": "code",
   "execution_count": 5,
   "metadata": {},
   "outputs": [],
   "source": [
    "RANDOM_STATE = 100\n",
    "max_len = 512"
   ]
  },
  {
   "cell_type": "markdown",
   "metadata": {},
   "source": [
    "### Знакомство с данными"
   ]
  },
  {
   "cell_type": "code",
   "execution_count": 70,
   "metadata": {},
   "outputs": [
    {
     "data": {
      "text/plain": [
       "(159292, 2)"
      ]
     },
     "metadata": {},
     "output_type": "display_data"
    }
   ],
   "source": [
    "try:\n",
    "    df = pd.read_csv('/datasets/toxic_comments.csv', index_col=0)\n",
    "except:\n",
    "    df = pd.read_csv(r'C:\\Users\\maxpe\\Downloads\\Practicum\\Projects\\datasets\\toxic_comments.csv', index_col=0)\n",
    "display(df.shape);"
   ]
  },
  {
   "cell_type": "markdown",
   "metadata": {},
   "source": [
    "<div class=\"alert alert-danger\">\n",
    "<font size=\"5\"><b>Комментарий ревьюера</b></font>\n",
    "\n",
    "Ошибка:\n",
    "    \n",
    "Мне пришлось подправить твой код чтобы запустилось. Для некоторых особо строгих ревьюеров это основание завернуть работу без проверки, так что будь внимательней в следующий раз \n",
    "    \n",
    "  \n",
    "\tdf = pd.read_csv('/datasets/toxic_comments.csv')    \n",
    "\n",
    "    \n",
    "<div class=\"alert alert-warning\">\n",
    "\n",
    "Совет: \n",
    "\n",
    "\n",
    "Если не знаешь - чтобы не было столбца  `Unnamed: 0` при чтении файла можно так:\n",
    "\n",
    "\n",
    "    pd.read_csv(..., index_col=0)\n",
    "\n",
    "    \n",
    "(`Unnamed: 0` появляется при не совсем корректном сохранении файла)    \n",
    "\n",
    "<div>    "
   ]
  },
  {
   "cell_type": "markdown",
   "metadata": {},
   "source": [
    "<div class=\"alert alert-info\"> <b>Комментарий студента:</b> Прошу прощения, исправил</div>"
   ]
  },
  {
   "cell_type": "code",
   "execution_count": 7,
   "metadata": {},
   "outputs": [
    {
     "name": "stdout",
     "output_type": "stream",
     "text": [
      "<class 'pandas.core.frame.DataFrame'>\n",
      "Int64Index: 159292 entries, 0 to 159450\n",
      "Data columns (total 2 columns):\n",
      " #   Column  Non-Null Count   Dtype \n",
      "---  ------  --------------   ----- \n",
      " 0   text    159292 non-null  object\n",
      " 1   toxic   159292 non-null  int64 \n",
      "dtypes: int64(1), object(1)\n",
      "memory usage: 3.6+ MB\n"
     ]
    }
   ],
   "source": [
    "df.info()"
   ]
  },
  {
   "cell_type": "code",
   "execution_count": 8,
   "metadata": {},
   "outputs": [
    {
     "data": {
      "text/html": [
       "<div>\n",
       "<style scoped>\n",
       "    .dataframe tbody tr th:only-of-type {\n",
       "        vertical-align: middle;\n",
       "    }\n",
       "\n",
       "    .dataframe tbody tr th {\n",
       "        vertical-align: top;\n",
       "    }\n",
       "\n",
       "    .dataframe thead th {\n",
       "        text-align: right;\n",
       "    }\n",
       "</style>\n",
       "<table border=\"1\" class=\"dataframe\">\n",
       "  <thead>\n",
       "    <tr style=\"text-align: right;\">\n",
       "      <th></th>\n",
       "      <th>text</th>\n",
       "      <th>toxic</th>\n",
       "    </tr>\n",
       "  </thead>\n",
       "  <tbody>\n",
       "    <tr>\n",
       "      <th>5673</th>\n",
       "      <td>Phuu. That's warm. How do you cope?</td>\n",
       "      <td>0</td>\n",
       "    </tr>\n",
       "    <tr>\n",
       "      <th>26677</th>\n",
       "      <td>When using the  tag on an article, you need to...</td>\n",
       "      <td>0</td>\n",
       "    </tr>\n",
       "    <tr>\n",
       "      <th>51032</th>\n",
       "      <td>\"\\n\\n RE: I Think This Should Be Deleted \\nTo ...</td>\n",
       "      <td>0</td>\n",
       "    </tr>\n",
       "    <tr>\n",
       "      <th>60335</th>\n",
       "      <td>\"\\n\\n Citation quality \\n\\nFirst thing, I kiss...</td>\n",
       "      <td>0</td>\n",
       "    </tr>\n",
       "    <tr>\n",
       "      <th>129851</th>\n",
       "      <td>Jim1138, there was no edit warring. You kept a...</td>\n",
       "      <td>0</td>\n",
       "    </tr>\n",
       "    <tr>\n",
       "      <th>89330</th>\n",
       "      <td>Thank you for your response. I have since bloc...</td>\n",
       "      <td>0</td>\n",
       "    </tr>\n",
       "    <tr>\n",
       "      <th>9004</th>\n",
       "      <td>You jumped the gun here, you should not really...</td>\n",
       "      <td>0</td>\n",
       "    </tr>\n",
       "  </tbody>\n",
       "</table>\n",
       "</div>"
      ],
      "text/plain": [
       "                                                     text  toxic\n",
       "5673                  Phuu. That's warm. How do you cope?      0\n",
       "26677   When using the  tag on an article, you need to...      0\n",
       "51032   \"\\n\\n RE: I Think This Should Be Deleted \\nTo ...      0\n",
       "60335   \"\\n\\n Citation quality \\n\\nFirst thing, I kiss...      0\n",
       "129851  Jim1138, there was no edit warring. You kept a...      0\n",
       "89330   Thank you for your response. I have since bloc...      0\n",
       "9004    You jumped the gun here, you should not really...      0"
      ]
     },
     "execution_count": 8,
     "metadata": {},
     "output_type": "execute_result"
    }
   ],
   "source": [
    "df.sample(7)"
   ]
  },
  {
   "cell_type": "markdown",
   "metadata": {},
   "source": [
    "Датасет не содержит пустых строк, состоит из 2 столбцов, один из которых будет преобразован в признаки (`text`), а `toxic` - целевой признак."
   ]
  },
  {
   "cell_type": "code",
   "execution_count": 8,
   "metadata": {},
   "outputs": [
    {
     "data": {
      "image/png": "[encoded data removed]",
      "text/plain": [
       "<Figure size 1000x500 with 1 Axes>"
      ]
     },
     "metadata": {},
     "output_type": "display_data"
    }
   ],
   "source": [
    "bar = df.groupby('toxic')['toxic'].count()\n",
    "bar.plot(kind='bar', figsize=(10, 5), color='grey') #столб.диаграмма по сводной таблице с указанным размером\n",
    "bw = 0.3 #толщина столбика\n",
    "plt.title('Распределение классов датасета', fontsize=20) #имя графика\n",
    "plt.xticks(fontsize=14, rotation=0); #показать подпись, убрать поворот"
   ]
  },
  {
   "cell_type": "code",
   "execution_count": 14,
   "metadata": {},
   "outputs": [
    {
     "name": "stdout",
     "output_type": "stream",
     "text": [
      "89.84 %\n"
     ]
    }
   ],
   "source": [
    "print(round((df['toxic'].count() - df['toxic'].sum()) / df['toxic'].count() * 100, 2), '%')"
   ]
  },
  {
   "cell_type": "markdown",
   "metadata": {},
   "source": [
    "Наблюдаем сильный дисбаланс классов. Нетоксичных комментариев почти 90%."
   ]
  },
  {
   "cell_type": "markdown",
   "metadata": {},
   "source": [
    "<div class=\"alert alert-success\">\n",
    "<font size=\"5\"><b>Комментарий ревьюера</b></font>\n",
    "\n",
    "Успех:\n",
    "\n",
    "Данные изучены. Небольшой EDA не помешает, так как это аналитический проект. \n",
    "\n",
    "\n",
    "Плюс за\n",
    "\n",
    "    \n",
    "\n",
    "- промужуточный вывод в конце раздела\n",
    "\n",
    "\n",
    "<div class=\"alert alert-warning\">\n",
    "\n",
    "Совет: \n",
    "\n",
    "\n",
    "\n",
    "- стоило еще проверить на сбалансированность классов в таргете это важная информация при моделировании и  корректной оценки модели. и к нему график можно, ведь красивый, хорошо оформленный график может быть украшением проекта. \n",
    "\n",
    "\n",
    "    \n",
    "\n",
    "    \n",
    "- .sample вместо .head, ведь если данные каким то образом упорядоченны, то шансы увидеть что то разнообразное через .sample чуть выше чем через .head (или .tail)     \n",
    "   \n",
    "\n",
    "\n",
    "\n",
    "\n",
    "\n",
    "</div>\n",
    "\n",
    "\n"
   ]
  },
  {
   "cell_type": "markdown",
   "metadata": {},
   "source": [
    "<div class=\"alert alert-info\"> <b>Комментарий студента:</b> Сделано</div>"
   ]
  },
  {
   "cell_type": "markdown",
   "metadata": {},
   "source": [
    "## BERT"
   ]
  },
  {
   "cell_type": "markdown",
   "metadata": {},
   "source": [
    "### Подготовка данных для BERT"
   ]
  },
  {
   "cell_type": "markdown",
   "metadata": {},
   "source": [
    "#### Загрузка предобученных модели и токенизатора."
   ]
  },
  {
   "cell_type": "code",
   "execution_count": 15,
   "metadata": {},
   "outputs": [
    {
     "name": "stderr",
     "output_type": "stream",
     "text": [
      "Some weights of the model checkpoint at bert-base-uncased were not used when initializing BertModel: ['cls.seq_relationship.weight', 'cls.predictions.decoder.weight', 'cls.predictions.bias', 'cls.predictions.transform.LayerNorm.bias', 'cls.seq_relationship.bias', 'cls.predictions.transform.LayerNorm.weight', 'cls.predictions.transform.dense.bias', 'cls.predictions.transform.dense.weight']\n",
      "- This IS expected if you are initializing BertModel from the checkpoint of a model trained on another task or with another architecture (e.g. initializing a BertForSequenceClassification model from a BertForPreTraining model).\n",
      "- This IS NOT expected if you are initializing BertModel from the checkpoint of a model that you expect to be exactly identical (initializing a BertForSequenceClassification model from a BertForSequenceClassification model).\n"
     ]
    }
   ],
   "source": [
    "model_class, tokenizer_class, pretrained_weights = (ppb.BertModel, ppb.BertTokenizer, 'bert-base-uncased')\n",
    "\n",
    "tokenizer = tokenizer_class.from_pretrained(pretrained_weights)\n",
    "model = model_class.from_pretrained(pretrained_weights);"
   ]
  },
  {
   "cell_type": "markdown",
   "metadata": {},
   "source": [
    "\n",
    "\n",
    "<div class=\"alert alert-success\">\n",
    "<font size=\"5\"><b>Комментарий ревьюера</b></font>\n",
    "\n",
    "Успех:\n",
    "\n",
    "\n",
    "\n",
    "Принято\n",
    "\n",
    "\n",
    "\n",
    "\n",
    "<div class=\"alert alert-warning\">\n",
    "\n",
    "\n",
    "\n",
    "Совет: \n",
    "\n",
    "Есть модели обученных на специальных в текстах и предназначенные для специальных целей, их можно поискать на  на huggingface. Там авторы указывают,на каких данных учили и для каких целей, можно поискать. В частности для нашего датосета возможно будут интересна модель  toxic-bert. Судя по названию она самое то )"
   ]
  },
  {
   "cell_type": "markdown",
   "metadata": {},
   "source": [
    "<div class=\"alert alert-info\"> <b>Комментарий студента:</b> Честно говоря, не нашел ни примеров синтаксиса, ни ведеоматериалов, чтобы с текущими знаниями получилось реализовать BERT иначе.</div>"
   ]
  },
  {
   "cell_type": "markdown",
   "metadata": {},
   "source": [
    "Проверим любой рандомный текст."
   ]
  },
  {
   "cell_type": "code",
   "execution_count": 16,
   "metadata": {},
   "outputs": [
    {
     "data": {
      "text/plain": [
       "[101,\n",
       " 2017,\n",
       " 1010,\n",
       " 2909,\n",
       " 1010,\n",
       " 2024,\n",
       " 2026,\n",
       " 5394,\n",
       " 1012,\n",
       " 2151,\n",
       " 3382,\n",
       " 2017,\n",
       " 3342,\n",
       " 1012,\n",
       " 1012,\n",
       " 102]"
      ]
     },
     "execution_count": 16,
     "metadata": {},
     "output_type": "execute_result"
    }
   ],
   "source": [
    "tokenizer.encode('You, sir, are my hero. Any chance you remember..', add_special_tokens=True)"
   ]
  },
  {
   "cell_type": "markdown",
   "metadata": {},
   "source": [
    "Токенизатор отрабатывает корректно. Применим его предварительно к датасету."
   ]
  },
  {
   "cell_type": "markdown",
   "metadata": {},
   "source": [
    "#### Преобразуем текст"
   ]
  },
  {
   "cell_type": "code",
   "execution_count": 17,
   "metadata": {},
   "outputs": [
    {
     "name": "stderr",
     "output_type": "stream",
     "text": [
      "Token indices sequence length is longer than the specified maximum sequence length for this model (631 > 512). Running this sequence through the model will result in indexing errors\n"
     ]
    }
   ],
   "source": [
    "pre_tokenized = df['text'].apply(\n",
    "  lambda x: tokenizer.encode(x, add_special_tokens=True)) "
   ]
  },
  {
   "cell_type": "code",
   "execution_count": 18,
   "metadata": {},
   "outputs": [
    {
     "data": {
      "text/plain": [
       "0         [101, 7526, 2339, 1996, 10086, 2015, 2081, 210...\n",
       "1         [101, 1040, 1005, 22091, 2860, 999, 2002, 3503...\n",
       "2         [101, 4931, 2158, 1010, 1045, 1005, 1049, 2428...\n",
       "3         [101, 1000, 2062, 1045, 2064, 1005, 1056, 2191...\n",
       "4         [101, 2017, 1010, 2909, 1010, 2024, 2026, 5394...\n",
       "                                ...                        \n",
       "159446    [101, 1000, 1024, 1024, 1024, 1024, 1024, 1998...\n",
       "159447    [101, 2017, 2323, 2022, 14984, 1997, 4426, 200...\n",
       "159448    [101, 13183, 6290, 26114, 1010, 2045, 2015, 20...\n",
       "159449    [101, 1998, 2009, 3504, 2066, 2009, 2001, 2941...\n",
       "159450    [101, 1000, 1998, 1012, 1012, 1012, 1045, 2428...\n",
       "Name: text, Length: 159292, dtype: object"
      ]
     },
     "execution_count": 18,
     "metadata": {},
     "output_type": "execute_result"
    }
   ],
   "source": [
    "pre_tokenized"
   ]
  },
  {
   "cell_type": "markdown",
   "metadata": {},
   "source": [
    "Как видим из сообщения к `pre_tokenized`, имеем ограничение в 512 токенов в строке. Создадим такое ограничение."
   ]
  },
  {
   "cell_type": "markdown",
   "metadata": {},
   "source": [
    "#### Фильтруем данные"
   ]
  },
  {
   "cell_type": "markdown",
   "metadata": {},
   "source": [
    "Собираем датасет из токенизированных данных - столбец `text`, целевого признака и длин списков токенов."
   ]
  },
  {
   "cell_type": "code",
   "execution_count": 19,
   "metadata": {},
   "outputs": [
    {
     "data": {
      "text/html": [
       "<div>\n",
       "<style scoped>\n",
       "    .dataframe tbody tr th:only-of-type {\n",
       "        vertical-align: middle;\n",
       "    }\n",
       "\n",
       "    .dataframe tbody tr th {\n",
       "        vertical-align: top;\n",
       "    }\n",
       "\n",
       "    .dataframe thead th {\n",
       "        text-align: right;\n",
       "    }\n",
       "</style>\n",
       "<table border=\"1\" class=\"dataframe\">\n",
       "  <thead>\n",
       "    <tr style=\"text-align: right;\">\n",
       "      <th></th>\n",
       "      <th>text</th>\n",
       "      <th>toxic</th>\n",
       "      <th>len</th>\n",
       "    </tr>\n",
       "  </thead>\n",
       "  <tbody>\n",
       "    <tr>\n",
       "      <th>0</th>\n",
       "      <td>[101, 7526, 2339, 1996, 10086, 2015, 2081, 210...</td>\n",
       "      <td>0</td>\n",
       "      <td>68</td>\n",
       "    </tr>\n",
       "    <tr>\n",
       "      <th>1</th>\n",
       "      <td>[101, 1040, 1005, 22091, 2860, 999, 2002, 3503...</td>\n",
       "      <td>0</td>\n",
       "      <td>35</td>\n",
       "    </tr>\n",
       "    <tr>\n",
       "      <th>2</th>\n",
       "      <td>[101, 4931, 2158, 1010, 1045, 1005, 1049, 2428...</td>\n",
       "      <td>0</td>\n",
       "      <td>54</td>\n",
       "    </tr>\n",
       "    <tr>\n",
       "      <th>3</th>\n",
       "      <td>[101, 1000, 2062, 1045, 2064, 1005, 1056, 2191...</td>\n",
       "      <td>0</td>\n",
       "      <td>144</td>\n",
       "    </tr>\n",
       "    <tr>\n",
       "      <th>4</th>\n",
       "      <td>[101, 2017, 1010, 2909, 1010, 2024, 2026, 5394...</td>\n",
       "      <td>0</td>\n",
       "      <td>21</td>\n",
       "    </tr>\n",
       "    <tr>\n",
       "      <th>...</th>\n",
       "      <td>...</td>\n",
       "      <td>...</td>\n",
       "      <td>...</td>\n",
       "    </tr>\n",
       "    <tr>\n",
       "      <th>159446</th>\n",
       "      <td>[101, 1000, 1024, 1024, 1024, 1024, 1024, 1998...</td>\n",
       "      <td>0</td>\n",
       "      <td>68</td>\n",
       "    </tr>\n",
       "    <tr>\n",
       "      <th>159447</th>\n",
       "      <td>[101, 2017, 2323, 2022, 14984, 1997, 4426, 200...</td>\n",
       "      <td>0</td>\n",
       "      <td>27</td>\n",
       "    </tr>\n",
       "    <tr>\n",
       "      <th>159448</th>\n",
       "      <td>[101, 13183, 6290, 26114, 1010, 2045, 2015, 20...</td>\n",
       "      <td>0</td>\n",
       "      <td>19</td>\n",
       "    </tr>\n",
       "    <tr>\n",
       "      <th>159449</th>\n",
       "      <td>[101, 1998, 2009, 3504, 2066, 2009, 2001, 2941...</td>\n",
       "      <td>0</td>\n",
       "      <td>28</td>\n",
       "    </tr>\n",
       "    <tr>\n",
       "      <th>159450</th>\n",
       "      <td>[101, 1000, 1998, 1012, 1012, 1012, 1045, 2428...</td>\n",
       "      <td>0</td>\n",
       "      <td>51</td>\n",
       "    </tr>\n",
       "  </tbody>\n",
       "</table>\n",
       "<p>159292 rows × 3 columns</p>\n",
       "</div>"
      ],
      "text/plain": [
       "                                                     text  toxic  len\n",
       "0       [101, 7526, 2339, 1996, 10086, 2015, 2081, 210...      0   68\n",
       "1       [101, 1040, 1005, 22091, 2860, 999, 2002, 3503...      0   35\n",
       "2       [101, 4931, 2158, 1010, 1045, 1005, 1049, 2428...      0   54\n",
       "3       [101, 1000, 2062, 1045, 2064, 1005, 1056, 2191...      0  144\n",
       "4       [101, 2017, 1010, 2909, 1010, 2024, 2026, 5394...      0   21\n",
       "...                                                   ...    ...  ...\n",
       "159446  [101, 1000, 1024, 1024, 1024, 1024, 1024, 1998...      0   68\n",
       "159447  [101, 2017, 2323, 2022, 14984, 1997, 4426, 200...      0   27\n",
       "159448  [101, 13183, 6290, 26114, 1010, 2045, 2015, 20...      0   19\n",
       "159449  [101, 1998, 2009, 3504, 2066, 2009, 2001, 2941...      0   28\n",
       "159450  [101, 1000, 1998, 1012, 1012, 1012, 1045, 2428...      0   51\n",
       "\n",
       "[159292 rows x 3 columns]"
      ]
     },
     "execution_count": 19,
     "metadata": {},
     "output_type": "execute_result"
    }
   ],
   "source": [
    "df_temp = pd.DataFrame(pre_tokenized)\n",
    "df_temp['toxic'] = df['toxic']\n",
    "len_list = []\n",
    "for i in df_temp['text']:\n",
    "    len_list.append(len(i))\n",
    "df_temp['len'] = len_list\n",
    "df_temp"
   ]
  },
  {
   "cell_type": "markdown",
   "metadata": {},
   "source": [
    "Удаляем строки с превышающими лимит токенами. таких строк порядка 1.8%"
   ]
  },
  {
   "cell_type": "code",
   "execution_count": 20,
   "metadata": {},
   "outputs": [],
   "source": [
    "df_temp = df_temp.loc[df_temp['len'] < 513].drop(['len'], axis=1)"
   ]
  },
  {
   "cell_type": "markdown",
   "metadata": {},
   "source": [
    "<div class=\"alert alert-warning\">\n",
    "<font size=\"5\"><b>Комментарий ревьюера</b></font>\n",
    "\n",
    "\n",
    "\n",
    "Совет 🤔:\n",
    "\n",
    "\n",
    "Можно было подать с такими аргументами    \n",
    "\n",
    "    df['text'].apply(lambda x: tokenizer.encode(x, \n",
    "                                                            max_length=512,\n",
    "                                                            padding='max_length',\n",
    "                                                            truncation=True,\n",
    "                                                            add_special_tokens=True)\n"
   ]
  },
  {
   "cell_type": "markdown",
   "metadata": {},
   "source": [
    "<div class=\"alert alert-info\"> <b>Комментарий студента:</b> Вот этого я как раз не хотел делать, чтобы не обрезать текст. Вдруг в обрезках были бы слова, которые дают категорию 1. Лучше полность исключить строки, их не так много. Я неправ?</div>"
   ]
  },
  {
   "cell_type": "markdown",
   "metadata": {},
   "source": [
    "Собираем данные по индексу: слева - тексты из исходного датасета, справа - целевой признак из нового, отфильтрованного датасета. Так как `join` имеет значение `inner`, то остаются только те строки, в которых совпадает индекс, то есть прошедшие фильтрацию."
   ]
  },
  {
   "cell_type": "code",
   "execution_count": 21,
   "metadata": {},
   "outputs": [
    {
     "data": {
      "text/html": [
       "<div>\n",
       "<style scoped>\n",
       "    .dataframe tbody tr th:only-of-type {\n",
       "        vertical-align: middle;\n",
       "    }\n",
       "\n",
       "    .dataframe tbody tr th {\n",
       "        vertical-align: top;\n",
       "    }\n",
       "\n",
       "    .dataframe thead th {\n",
       "        text-align: right;\n",
       "    }\n",
       "</style>\n",
       "<table border=\"1\" class=\"dataframe\">\n",
       "  <thead>\n",
       "    <tr style=\"text-align: right;\">\n",
       "      <th></th>\n",
       "      <th>text</th>\n",
       "      <th>toxic</th>\n",
       "    </tr>\n",
       "  </thead>\n",
       "  <tbody>\n",
       "    <tr>\n",
       "      <th>0</th>\n",
       "      <td>Explanation\\nWhy the edits made under my usern...</td>\n",
       "      <td>0</td>\n",
       "    </tr>\n",
       "    <tr>\n",
       "      <th>1</th>\n",
       "      <td>D'aww! He matches this background colour I'm s...</td>\n",
       "      <td>0</td>\n",
       "    </tr>\n",
       "    <tr>\n",
       "      <th>2</th>\n",
       "      <td>Hey man, I'm really not trying to edit war. It...</td>\n",
       "      <td>0</td>\n",
       "    </tr>\n",
       "    <tr>\n",
       "      <th>3</th>\n",
       "      <td>\"\\nMore\\nI can't make any real suggestions on ...</td>\n",
       "      <td>0</td>\n",
       "    </tr>\n",
       "    <tr>\n",
       "      <th>4</th>\n",
       "      <td>You, sir, are my hero. Any chance you remember...</td>\n",
       "      <td>0</td>\n",
       "    </tr>\n",
       "    <tr>\n",
       "      <th>...</th>\n",
       "      <td>...</td>\n",
       "      <td>...</td>\n",
       "    </tr>\n",
       "    <tr>\n",
       "      <th>159446</th>\n",
       "      <td>\":::::And for the second time of asking, when ...</td>\n",
       "      <td>0</td>\n",
       "    </tr>\n",
       "    <tr>\n",
       "      <th>159447</th>\n",
       "      <td>You should be ashamed of yourself \\n\\nThat is ...</td>\n",
       "      <td>0</td>\n",
       "    </tr>\n",
       "    <tr>\n",
       "      <th>159448</th>\n",
       "      <td>Spitzer \\n\\nUmm, theres no actual article for ...</td>\n",
       "      <td>0</td>\n",
       "    </tr>\n",
       "    <tr>\n",
       "      <th>159449</th>\n",
       "      <td>And it looks like it was actually you who put ...</td>\n",
       "      <td>0</td>\n",
       "    </tr>\n",
       "    <tr>\n",
       "      <th>159450</th>\n",
       "      <td>\"\\nAnd ... I really don't think you understand...</td>\n",
       "      <td>0</td>\n",
       "    </tr>\n",
       "  </tbody>\n",
       "</table>\n",
       "<p>155789 rows × 2 columns</p>\n",
       "</div>"
      ],
      "text/plain": [
       "                                                     text  toxic\n",
       "0       Explanation\\nWhy the edits made under my usern...      0\n",
       "1       D'aww! He matches this background colour I'm s...      0\n",
       "2       Hey man, I'm really not trying to edit war. It...      0\n",
       "3       \"\\nMore\\nI can't make any real suggestions on ...      0\n",
       "4       You, sir, are my hero. Any chance you remember...      0\n",
       "...                                                   ...    ...\n",
       "159446  \":::::And for the second time of asking, when ...      0\n",
       "159447  You should be ashamed of yourself \\n\\nThat is ...      0\n",
       "159448  Spitzer \\n\\nUmm, theres no actual article for ...      0\n",
       "159449  And it looks like it was actually you who put ...      0\n",
       "159450  \"\\nAnd ... I really don't think you understand...      0\n",
       "\n",
       "[155789 rows x 2 columns]"
      ]
     },
     "execution_count": 21,
     "metadata": {},
     "output_type": "execute_result"
    }
   ],
   "source": [
    "df_left = df['text']\n",
    "df_right = df_temp['toxic']\n",
    "result = pd.concat([df_left, df_right], axis=1, join=\"inner\")\n",
    "result"
   ]
  },
  {
   "attachments": {},
   "cell_type": "markdown",
   "metadata": {},
   "source": [
    "В случае преобразования в эмбенддинги внутри ноутбука, код ниже - указывает количество семплов для будущего датасета, где `q_sample = len(result)` - это полный датасет.\n",
    "\n",
    "Ниже приведен пример расчета для очень маленькой выборки - взяли 256 строк, чтобы показать работоспособность кода. \n",
    "\n",
    "Полный преобразованный датасет будет использоваться уже на этапе разделения признаков и целевого признака."
   ]
  },
  {
   "cell_type": "code",
   "execution_count": 22,
   "metadata": {},
   "outputs": [],
   "source": [
    "q_sample = 256 # нужное число для датасета, вплоть до q_sample = len(result)\n",
    "result = result.sample(q_sample).reset_index(drop=True)"
   ]
  },
  {
   "cell_type": "markdown",
   "metadata": {},
   "source": [
    "#### Преобразуем текст предобработанных данных"
   ]
  },
  {
   "cell_type": "markdown",
   "metadata": {},
   "source": [
    "Токенизируем отфильтрованную выборку."
   ]
  },
  {
   "cell_type": "code",
   "execution_count": 23,
   "metadata": {},
   "outputs": [],
   "source": [
    "tokenized = result['text'].apply(\n",
    "  lambda x: tokenizer.encode(x, add_special_tokens=True)) "
   ]
  },
  {
   "cell_type": "markdown",
   "metadata": {},
   "source": [
    "Предупреждения больше нет. Максимальная длина токена `max_len` равна ограничению - 512. Вынесли это значения в константы.\n",
    "\n",
    "При исполнении преобразования внутри ноутбука, `max_len` расчитывается ниже. Так как мы случайным образом отберем какое-то количество строк, может случиться, что строки будут короче константной `max_len = 512`, это нужно учитывать"
   ]
  },
  {
   "cell_type": "code",
   "execution_count": 24,
   "metadata": {},
   "outputs": [
    {
     "data": {
      "text/plain": [
       "409"
      ]
     },
     "execution_count": 24,
     "metadata": {},
     "output_type": "execute_result"
    }
   ],
   "source": [
    "max_len = 0\n",
    "for i in tokenized.values:\n",
    "    if len(i) > max_len:\n",
    "        max_len = len(i)\n",
    "max_len"
   ]
  },
  {
   "cell_type": "markdown",
   "metadata": {},
   "source": [
    "#### Преобразование векторов"
   ]
  },
  {
   "cell_type": "markdown",
   "metadata": {},
   "source": [
    "Паддингом добавляем к каждому вектору нули в конец, так, чтобы длина каждого вектора была равна длине `max_len`.\n",
    "\n",
    "Маска тоже применяется к каждому вектору - значению, отличному от нуля, присваивается 1, нули остаются нулями."
   ]
  },
  {
   "cell_type": "code",
   "execution_count": 25,
   "metadata": {},
   "outputs": [],
   "source": [
    "padded = np.array([i + [0]*(max_len - len(i)) for i in tokenized.values])\n",
    "attention_mask = np.where(padded != 0, 1, 0)"
   ]
  },
  {
   "cell_type": "markdown",
   "metadata": {},
   "source": [
    "Заранее рассчитанные данные:\n",
    "- В Яндекс.Диске лежит датасет, содержащий 78% данных (ограничение по размеру файла), при батче равном 200. Он будет прочитан позже.\n",
    "\n",
    "Преобразование эмбеддингов было произведено в Google Colab, с использованием GPU."
   ]
  },
  {
   "cell_type": "markdown",
   "metadata": {},
   "source": [
    "#### Преобразование в эмбеддинги"
   ]
  },
  {
   "cell_type": "code",
   "execution_count": 26,
   "metadata": {},
   "outputs": [
    {
     "data": {
      "application/json": {
       "ascii": false,
       "bar_format": null,
       "colour": null,
       "elapsed": 0.017107725143432617,
       "initial": 0,
       "n": 0,
       "ncols": null,
       "nrows": null,
       "postfix": null,
       "prefix": "",
       "rate": null,
       "total": 8,
       "unit": "it",
       "unit_divisor": 1000,
       "unit_scale": false
      },
      "application/vnd.jupyter.widget-view+json": {
       "model_id": "3d9b512b575449868a0fe24328b17d06",
       "version_major": 2,
       "version_minor": 0
      },
      "text/plain": [
       "  0%|          | 0/8 [00:00<?, ?it/s]"
      ]
     },
     "metadata": {},
     "output_type": "display_data"
    },
    {
     "data": {
      "text/html": [
       "<div>\n",
       "<style scoped>\n",
       "    .dataframe tbody tr th:only-of-type {\n",
       "        vertical-align: middle;\n",
       "    }\n",
       "\n",
       "    .dataframe tbody tr th {\n",
       "        vertical-align: top;\n",
       "    }\n",
       "\n",
       "    .dataframe thead th {\n",
       "        text-align: right;\n",
       "    }\n",
       "</style>\n",
       "<table border=\"1\" class=\"dataframe\">\n",
       "  <thead>\n",
       "    <tr style=\"text-align: right;\">\n",
       "      <th></th>\n",
       "      <th>0</th>\n",
       "      <th>1</th>\n",
       "      <th>2</th>\n",
       "      <th>3</th>\n",
       "      <th>4</th>\n",
       "      <th>5</th>\n",
       "      <th>6</th>\n",
       "      <th>7</th>\n",
       "      <th>8</th>\n",
       "      <th>9</th>\n",
       "      <th>...</th>\n",
       "      <th>759</th>\n",
       "      <th>760</th>\n",
       "      <th>761</th>\n",
       "      <th>762</th>\n",
       "      <th>763</th>\n",
       "      <th>764</th>\n",
       "      <th>765</th>\n",
       "      <th>766</th>\n",
       "      <th>767</th>\n",
       "      <th>toxic</th>\n",
       "    </tr>\n",
       "  </thead>\n",
       "  <tbody>\n",
       "    <tr>\n",
       "      <th>0</th>\n",
       "      <td>0.270376</td>\n",
       "      <td>-0.109006</td>\n",
       "      <td>-0.477660</td>\n",
       "      <td>0.270684</td>\n",
       "      <td>-0.240516</td>\n",
       "      <td>-0.604802</td>\n",
       "      <td>0.764190</td>\n",
       "      <td>0.883395</td>\n",
       "      <td>-0.162878</td>\n",
       "      <td>-0.440548</td>\n",
       "      <td>...</td>\n",
       "      <td>-0.223434</td>\n",
       "      <td>0.023012</td>\n",
       "      <td>-0.216745</td>\n",
       "      <td>0.247818</td>\n",
       "      <td>0.385476</td>\n",
       "      <td>-0.331367</td>\n",
       "      <td>-0.066175</td>\n",
       "      <td>0.339361</td>\n",
       "      <td>0.561782</td>\n",
       "      <td>0</td>\n",
       "    </tr>\n",
       "    <tr>\n",
       "      <th>1</th>\n",
       "      <td>0.215965</td>\n",
       "      <td>-0.064486</td>\n",
       "      <td>0.171992</td>\n",
       "      <td>0.213599</td>\n",
       "      <td>0.262521</td>\n",
       "      <td>-0.149945</td>\n",
       "      <td>0.224523</td>\n",
       "      <td>0.414178</td>\n",
       "      <td>-0.083124</td>\n",
       "      <td>-0.178243</td>\n",
       "      <td>...</td>\n",
       "      <td>-0.107594</td>\n",
       "      <td>0.173650</td>\n",
       "      <td>0.084636</td>\n",
       "      <td>0.374016</td>\n",
       "      <td>0.304638</td>\n",
       "      <td>-0.209161</td>\n",
       "      <td>-0.142330</td>\n",
       "      <td>0.303607</td>\n",
       "      <td>0.599943</td>\n",
       "      <td>0</td>\n",
       "    </tr>\n",
       "    <tr>\n",
       "      <th>2</th>\n",
       "      <td>0.256517</td>\n",
       "      <td>-0.008255</td>\n",
       "      <td>0.000268</td>\n",
       "      <td>0.333179</td>\n",
       "      <td>0.205015</td>\n",
       "      <td>-0.249076</td>\n",
       "      <td>0.230479</td>\n",
       "      <td>0.332486</td>\n",
       "      <td>-0.057936</td>\n",
       "      <td>-0.221463</td>\n",
       "      <td>...</td>\n",
       "      <td>0.087054</td>\n",
       "      <td>-0.076492</td>\n",
       "      <td>-0.126979</td>\n",
       "      <td>0.518873</td>\n",
       "      <td>0.147304</td>\n",
       "      <td>-0.481433</td>\n",
       "      <td>-0.221487</td>\n",
       "      <td>0.474675</td>\n",
       "      <td>0.298737</td>\n",
       "      <td>0</td>\n",
       "    </tr>\n",
       "    <tr>\n",
       "      <th>3</th>\n",
       "      <td>-0.004680</td>\n",
       "      <td>-0.192381</td>\n",
       "      <td>0.131963</td>\n",
       "      <td>-0.306438</td>\n",
       "      <td>-0.280289</td>\n",
       "      <td>-0.481397</td>\n",
       "      <td>-0.003957</td>\n",
       "      <td>0.581554</td>\n",
       "      <td>0.180571</td>\n",
       "      <td>-0.448998</td>\n",
       "      <td>...</td>\n",
       "      <td>-0.488260</td>\n",
       "      <td>-0.225800</td>\n",
       "      <td>-0.547975</td>\n",
       "      <td>-0.103998</td>\n",
       "      <td>0.183307</td>\n",
       "      <td>-0.219604</td>\n",
       "      <td>-0.288737</td>\n",
       "      <td>0.227150</td>\n",
       "      <td>0.743948</td>\n",
       "      <td>0</td>\n",
       "    </tr>\n",
       "    <tr>\n",
       "      <th>4</th>\n",
       "      <td>-0.178259</td>\n",
       "      <td>0.296173</td>\n",
       "      <td>0.129975</td>\n",
       "      <td>-0.400100</td>\n",
       "      <td>-0.241940</td>\n",
       "      <td>-0.205647</td>\n",
       "      <td>0.574739</td>\n",
       "      <td>0.493405</td>\n",
       "      <td>-0.041588</td>\n",
       "      <td>-0.155493</td>\n",
       "      <td>...</td>\n",
       "      <td>-0.369010</td>\n",
       "      <td>-0.104315</td>\n",
       "      <td>-0.508261</td>\n",
       "      <td>0.367626</td>\n",
       "      <td>0.142204</td>\n",
       "      <td>0.098504</td>\n",
       "      <td>-0.296253</td>\n",
       "      <td>0.420840</td>\n",
       "      <td>0.457711</td>\n",
       "      <td>0</td>\n",
       "    </tr>\n",
       "    <tr>\n",
       "      <th>...</th>\n",
       "      <td>...</td>\n",
       "      <td>...</td>\n",
       "      <td>...</td>\n",
       "      <td>...</td>\n",
       "      <td>...</td>\n",
       "      <td>...</td>\n",
       "      <td>...</td>\n",
       "      <td>...</td>\n",
       "      <td>...</td>\n",
       "      <td>...</td>\n",
       "      <td>...</td>\n",
       "      <td>...</td>\n",
       "      <td>...</td>\n",
       "      <td>...</td>\n",
       "      <td>...</td>\n",
       "      <td>...</td>\n",
       "      <td>...</td>\n",
       "      <td>...</td>\n",
       "      <td>...</td>\n",
       "      <td>...</td>\n",
       "      <td>...</td>\n",
       "    </tr>\n",
       "    <tr>\n",
       "      <th>251</th>\n",
       "      <td>-0.251713</td>\n",
       "      <td>-0.149814</td>\n",
       "      <td>-0.435527</td>\n",
       "      <td>-0.074261</td>\n",
       "      <td>-0.562632</td>\n",
       "      <td>-0.407684</td>\n",
       "      <td>0.437929</td>\n",
       "      <td>0.345515</td>\n",
       "      <td>0.077336</td>\n",
       "      <td>-0.280696</td>\n",
       "      <td>...</td>\n",
       "      <td>-0.183804</td>\n",
       "      <td>-0.115963</td>\n",
       "      <td>-0.593659</td>\n",
       "      <td>0.618964</td>\n",
       "      <td>0.561259</td>\n",
       "      <td>-0.459574</td>\n",
       "      <td>0.147581</td>\n",
       "      <td>0.646249</td>\n",
       "      <td>0.283916</td>\n",
       "      <td>0</td>\n",
       "    </tr>\n",
       "    <tr>\n",
       "      <th>252</th>\n",
       "      <td>0.026077</td>\n",
       "      <td>0.181218</td>\n",
       "      <td>-0.059621</td>\n",
       "      <td>-0.283367</td>\n",
       "      <td>-0.223145</td>\n",
       "      <td>-0.195438</td>\n",
       "      <td>0.345665</td>\n",
       "      <td>0.109532</td>\n",
       "      <td>0.319496</td>\n",
       "      <td>-0.154305</td>\n",
       "      <td>...</td>\n",
       "      <td>-0.086503</td>\n",
       "      <td>-0.017991</td>\n",
       "      <td>-0.006160</td>\n",
       "      <td>0.079280</td>\n",
       "      <td>-0.164264</td>\n",
       "      <td>-0.127958</td>\n",
       "      <td>-0.419423</td>\n",
       "      <td>0.550043</td>\n",
       "      <td>0.654435</td>\n",
       "      <td>0</td>\n",
       "    </tr>\n",
       "    <tr>\n",
       "      <th>253</th>\n",
       "      <td>-0.892689</td>\n",
       "      <td>0.098495</td>\n",
       "      <td>0.402001</td>\n",
       "      <td>-0.179198</td>\n",
       "      <td>0.137741</td>\n",
       "      <td>-0.361135</td>\n",
       "      <td>-0.106007</td>\n",
       "      <td>0.093611</td>\n",
       "      <td>0.043195</td>\n",
       "      <td>-0.156481</td>\n",
       "      <td>...</td>\n",
       "      <td>-0.015632</td>\n",
       "      <td>0.000749</td>\n",
       "      <td>-0.558394</td>\n",
       "      <td>-0.010419</td>\n",
       "      <td>-0.050655</td>\n",
       "      <td>-0.111066</td>\n",
       "      <td>-0.523665</td>\n",
       "      <td>0.556151</td>\n",
       "      <td>0.793079</td>\n",
       "      <td>0</td>\n",
       "    </tr>\n",
       "    <tr>\n",
       "      <th>254</th>\n",
       "      <td>-0.077887</td>\n",
       "      <td>-0.416015</td>\n",
       "      <td>0.199894</td>\n",
       "      <td>-0.370491</td>\n",
       "      <td>-0.159890</td>\n",
       "      <td>-0.388170</td>\n",
       "      <td>0.101460</td>\n",
       "      <td>0.638184</td>\n",
       "      <td>0.218372</td>\n",
       "      <td>-0.756674</td>\n",
       "      <td>...</td>\n",
       "      <td>-0.413653</td>\n",
       "      <td>-0.117157</td>\n",
       "      <td>-0.575325</td>\n",
       "      <td>-0.077441</td>\n",
       "      <td>-0.058787</td>\n",
       "      <td>-0.572139</td>\n",
       "      <td>-0.151710</td>\n",
       "      <td>0.002426</td>\n",
       "      <td>0.684834</td>\n",
       "      <td>0</td>\n",
       "    </tr>\n",
       "    <tr>\n",
       "      <th>255</th>\n",
       "      <td>0.208991</td>\n",
       "      <td>-0.184688</td>\n",
       "      <td>-0.272500</td>\n",
       "      <td>0.018786</td>\n",
       "      <td>0.164206</td>\n",
       "      <td>0.053327</td>\n",
       "      <td>0.067971</td>\n",
       "      <td>0.147177</td>\n",
       "      <td>-0.405134</td>\n",
       "      <td>0.012086</td>\n",
       "      <td>...</td>\n",
       "      <td>0.262186</td>\n",
       "      <td>0.105450</td>\n",
       "      <td>-0.009845</td>\n",
       "      <td>0.297282</td>\n",
       "      <td>0.355816</td>\n",
       "      <td>-0.305125</td>\n",
       "      <td>-0.093553</td>\n",
       "      <td>0.498915</td>\n",
       "      <td>0.456015</td>\n",
       "      <td>0</td>\n",
       "    </tr>\n",
       "  </tbody>\n",
       "</table>\n",
       "<p>256 rows × 769 columns</p>\n",
       "</div>"
      ],
      "text/plain": [
       "            0         1         2         3         4         5         6  \\\n",
       "0    0.270376 -0.109006 -0.477660  0.270684 -0.240516 -0.604802  0.764190   \n",
       "1    0.215965 -0.064486  0.171992  0.213599  0.262521 -0.149945  0.224523   \n",
       "2    0.256517 -0.008255  0.000268  0.333179  0.205015 -0.249076  0.230479   \n",
       "3   -0.004680 -0.192381  0.131963 -0.306438 -0.280289 -0.481397 -0.003957   \n",
       "4   -0.178259  0.296173  0.129975 -0.400100 -0.241940 -0.205647  0.574739   \n",
       "..        ...       ...       ...       ...       ...       ...       ...   \n",
       "251 -0.251713 -0.149814 -0.435527 -0.074261 -0.562632 -0.407684  0.437929   \n",
       "252  0.026077  0.181218 -0.059621 -0.283367 -0.223145 -0.195438  0.345665   \n",
       "253 -0.892689  0.098495  0.402001 -0.179198  0.137741 -0.361135 -0.106007   \n",
       "254 -0.077887 -0.416015  0.199894 -0.370491 -0.159890 -0.388170  0.101460   \n",
       "255  0.208991 -0.184688 -0.272500  0.018786  0.164206  0.053327  0.067971   \n",
       "\n",
       "            7         8         9  ...       759       760       761  \\\n",
       "0    0.883395 -0.162878 -0.440548  ... -0.223434  0.023012 -0.216745   \n",
       "1    0.414178 -0.083124 -0.178243  ... -0.107594  0.173650  0.084636   \n",
       "2    0.332486 -0.057936 -0.221463  ...  0.087054 -0.076492 -0.126979   \n",
       "3    0.581554  0.180571 -0.448998  ... -0.488260 -0.225800 -0.547975   \n",
       "4    0.493405 -0.041588 -0.155493  ... -0.369010 -0.104315 -0.508261   \n",
       "..        ...       ...       ...  ...       ...       ...       ...   \n",
       "251  0.345515  0.077336 -0.280696  ... -0.183804 -0.115963 -0.593659   \n",
       "252  0.109532  0.319496 -0.154305  ... -0.086503 -0.017991 -0.006160   \n",
       "253  0.093611  0.043195 -0.156481  ... -0.015632  0.000749 -0.558394   \n",
       "254  0.638184  0.218372 -0.756674  ... -0.413653 -0.117157 -0.575325   \n",
       "255  0.147177 -0.405134  0.012086  ...  0.262186  0.105450 -0.009845   \n",
       "\n",
       "          762       763       764       765       766       767  toxic  \n",
       "0    0.247818  0.385476 -0.331367 -0.066175  0.339361  0.561782      0  \n",
       "1    0.374016  0.304638 -0.209161 -0.142330  0.303607  0.599943      0  \n",
       "2    0.518873  0.147304 -0.481433 -0.221487  0.474675  0.298737      0  \n",
       "3   -0.103998  0.183307 -0.219604 -0.288737  0.227150  0.743948      0  \n",
       "4    0.367626  0.142204  0.098504 -0.296253  0.420840  0.457711      0  \n",
       "..        ...       ...       ...       ...       ...       ...    ...  \n",
       "251  0.618964  0.561259 -0.459574  0.147581  0.646249  0.283916      0  \n",
       "252  0.079280 -0.164264 -0.127958 -0.419423  0.550043  0.654435      0  \n",
       "253 -0.010419 -0.050655 -0.111066 -0.523665  0.556151  0.793079      0  \n",
       "254 -0.077441 -0.058787 -0.572139 -0.151710  0.002426  0.684834      0  \n",
       "255  0.297282  0.355816 -0.305125 -0.093553  0.498915  0.456015      0  \n",
       "\n",
       "[256 rows x 769 columns]"
      ]
     },
     "execution_count": 26,
     "metadata": {},
     "output_type": "execute_result"
    }
   ],
   "source": [
    "batch_size = 32 # задаем размер батча (кратен q_sample, если уменьшаем q_sample - уменьшаем и батч)\n",
    "embeddings = [] # список эмбеддингов\n",
    "for i in notebook.tqdm(range(padded.shape[0] // batch_size)): # цикл по батчам, отображать прогресс будет функция notebook()\n",
    "        batch = torch.IntTensor(padded[batch_size*i:batch_size*(i+1)]) # преобразуем данные в формат тензоров\n",
    "        attention_mask_batch = torch.IntTensor(attention_mask[batch_size*i:batch_size*(i+1)]) # преобразуем маску\n",
    "        \n",
    "        with torch.no_grad(): # для ускорения вычисления функцией no_grad() в библиотеке torch укажем, что градиенты не нужны\n",
    "            batch_embeddings = model(batch, attention_mask=attention_mask_batch) # чтобы получить эмбеддинги для батча, передадим модели данные и маску\n",
    "        \n",
    "        embeddings.append(batch_embeddings[0][:,0,:].numpy()) # преобразуем элементы методом numpy() к типу numpy.array\n",
    "\n",
    "df_ed = pd.DataFrame(np.concatenate(embeddings)) # соберём все эмбеддинги в матрицу признаков вызовом функции concatenate()\n",
    "df_ed['toxic'] = result['toxic'] # добавляем целевой признак\n",
    "df_ed"
   ]
  },
  {
   "cell_type": "markdown",
   "metadata": {},
   "source": [
    "\n",
    "<div class=\"alert alert-warning\">\n",
    "<font size=\"5\"><b>Комментарий ревьюера</b></font>\n",
    "\n",
    "\n",
    "\n",
    "Совет 🤔:\n",
    "\n",
    "\n",
    "\n",
    "\n",
    "- Обычно размер бача берут 32 или 64/128 (что-то кратное 2^N), чтобы код бежал быстрее.\n",
    "    \n",
    "    \n"
   ]
  },
  {
   "cell_type": "markdown",
   "metadata": {},
   "source": [
    "<div class=\"alert alert-info\"> <b>Комментарий студента:</b> Про это не знал, в теории про это не было ни слова. Спасибо</div>"
   ]
  },
  {
   "cell_type": "markdown",
   "metadata": {},
   "source": [
    "Код выше, показывает механизм преобразования эмбеддингов на маленькой выборке. То же самое было расчитано на всем датасете. Прочитаем его."
   ]
  },
  {
   "cell_type": "markdown",
   "metadata": {},
   "source": [
    "#### Выгрузка датасета"
   ]
  },
  {
   "cell_type": "code",
   "execution_count": null,
   "metadata": {},
   "outputs": [],
   "source": [
    "# df_ed.to_csv('df_ed_20k.csv', index=False)"
   ]
  },
  {
   "cell_type": "markdown",
   "metadata": {},
   "source": [
    "Выгружаем датасет после этапа преобразования в эмбеддинги, для того, чтобы не пересчитывать их в следующий сеанс или на другом устройстве. Выгрузка датасета закомментирована, она не должна больше исполняться."
   ]
  },
  {
   "cell_type": "markdown",
   "metadata": {},
   "source": [
    "#### Загрузка датасета"
   ]
  },
  {
   "cell_type": "markdown",
   "metadata": {},
   "source": [
    "Рассчитанные эмбендинги в Colab я сохранил в Яндекс.Диске. Здесь сохранен неполный датасет, порядка 78% от исходного. Прочитаем `csv-файл`."
   ]
  },
  {
   "cell_type": "code",
   "execution_count": 27,
   "metadata": {},
   "outputs": [
    {
     "data": {
      "text/html": [
       "<div>\n",
       "<style scoped>\n",
       "    .dataframe tbody tr th:only-of-type {\n",
       "        vertical-align: middle;\n",
       "    }\n",
       "\n",
       "    .dataframe tbody tr th {\n",
       "        vertical-align: top;\n",
       "    }\n",
       "\n",
       "    .dataframe thead th {\n",
       "        text-align: right;\n",
       "    }\n",
       "</style>\n",
       "<table border=\"1\" class=\"dataframe\">\n",
       "  <thead>\n",
       "    <tr style=\"text-align: right;\">\n",
       "      <th></th>\n",
       "      <th>0</th>\n",
       "      <th>1</th>\n",
       "      <th>2</th>\n",
       "      <th>3</th>\n",
       "      <th>4</th>\n",
       "      <th>5</th>\n",
       "      <th>6</th>\n",
       "      <th>7</th>\n",
       "      <th>8</th>\n",
       "      <th>9</th>\n",
       "      <th>...</th>\n",
       "      <th>759</th>\n",
       "      <th>760</th>\n",
       "      <th>761</th>\n",
       "      <th>762</th>\n",
       "      <th>763</th>\n",
       "      <th>764</th>\n",
       "      <th>765</th>\n",
       "      <th>766</th>\n",
       "      <th>767</th>\n",
       "      <th>toxic</th>\n",
       "    </tr>\n",
       "  </thead>\n",
       "  <tbody>\n",
       "    <tr>\n",
       "      <th>0</th>\n",
       "      <td>-0.214180</td>\n",
       "      <td>0.147004</td>\n",
       "      <td>-0.198792</td>\n",
       "      <td>0.039257</td>\n",
       "      <td>-0.117727</td>\n",
       "      <td>-0.340003</td>\n",
       "      <td>-0.144716</td>\n",
       "      <td>0.312527</td>\n",
       "      <td>-0.208113</td>\n",
       "      <td>-0.603441</td>\n",
       "      <td>...</td>\n",
       "      <td>-0.209616</td>\n",
       "      <td>0.381346</td>\n",
       "      <td>0.129333</td>\n",
       "      <td>0.156410</td>\n",
       "      <td>-0.196734</td>\n",
       "      <td>-0.076245</td>\n",
       "      <td>-0.302536</td>\n",
       "      <td>0.222647</td>\n",
       "      <td>0.358534</td>\n",
       "      <td>0</td>\n",
       "    </tr>\n",
       "    <tr>\n",
       "      <th>1</th>\n",
       "      <td>0.352702</td>\n",
       "      <td>0.166299</td>\n",
       "      <td>0.279629</td>\n",
       "      <td>-0.027249</td>\n",
       "      <td>0.170146</td>\n",
       "      <td>-0.320978</td>\n",
       "      <td>0.132645</td>\n",
       "      <td>0.255978</td>\n",
       "      <td>-0.076715</td>\n",
       "      <td>-0.255779</td>\n",
       "      <td>...</td>\n",
       "      <td>-0.071787</td>\n",
       "      <td>-0.004774</td>\n",
       "      <td>-0.050075</td>\n",
       "      <td>0.283952</td>\n",
       "      <td>0.130654</td>\n",
       "      <td>-0.132127</td>\n",
       "      <td>-0.168120</td>\n",
       "      <td>0.573513</td>\n",
       "      <td>0.351487</td>\n",
       "      <td>1</td>\n",
       "    </tr>\n",
       "    <tr>\n",
       "      <th>2</th>\n",
       "      <td>-0.390808</td>\n",
       "      <td>0.389703</td>\n",
       "      <td>0.201352</td>\n",
       "      <td>-0.158126</td>\n",
       "      <td>-0.351628</td>\n",
       "      <td>-0.587400</td>\n",
       "      <td>0.745436</td>\n",
       "      <td>0.543038</td>\n",
       "      <td>0.301617</td>\n",
       "      <td>-0.075048</td>\n",
       "      <td>...</td>\n",
       "      <td>-0.401640</td>\n",
       "      <td>0.525003</td>\n",
       "      <td>-0.361147</td>\n",
       "      <td>0.151722</td>\n",
       "      <td>0.284467</td>\n",
       "      <td>-0.114487</td>\n",
       "      <td>-0.712322</td>\n",
       "      <td>0.500326</td>\n",
       "      <td>0.233124</td>\n",
       "      <td>1</td>\n",
       "    </tr>\n",
       "    <tr>\n",
       "      <th>3</th>\n",
       "      <td>-0.172516</td>\n",
       "      <td>-0.347529</td>\n",
       "      <td>0.091326</td>\n",
       "      <td>0.274101</td>\n",
       "      <td>-0.638771</td>\n",
       "      <td>-0.430128</td>\n",
       "      <td>0.085095</td>\n",
       "      <td>0.347237</td>\n",
       "      <td>-0.185096</td>\n",
       "      <td>-0.064509</td>\n",
       "      <td>...</td>\n",
       "      <td>0.003850</td>\n",
       "      <td>0.156936</td>\n",
       "      <td>-0.172188</td>\n",
       "      <td>-0.043264</td>\n",
       "      <td>0.498429</td>\n",
       "      <td>-0.266780</td>\n",
       "      <td>-0.493660</td>\n",
       "      <td>0.516713</td>\n",
       "      <td>0.692796</td>\n",
       "      <td>0</td>\n",
       "    </tr>\n",
       "    <tr>\n",
       "      <th>4</th>\n",
       "      <td>-0.525008</td>\n",
       "      <td>-0.264399</td>\n",
       "      <td>-0.078045</td>\n",
       "      <td>-0.365558</td>\n",
       "      <td>-0.029540</td>\n",
       "      <td>-0.140087</td>\n",
       "      <td>0.207137</td>\n",
       "      <td>0.112012</td>\n",
       "      <td>-0.148200</td>\n",
       "      <td>-0.204890</td>\n",
       "      <td>...</td>\n",
       "      <td>-0.169026</td>\n",
       "      <td>-0.345219</td>\n",
       "      <td>-0.417685</td>\n",
       "      <td>-0.296221</td>\n",
       "      <td>-0.003516</td>\n",
       "      <td>-0.313758</td>\n",
       "      <td>-0.492042</td>\n",
       "      <td>0.370257</td>\n",
       "      <td>0.604431</td>\n",
       "      <td>0</td>\n",
       "    </tr>\n",
       "    <tr>\n",
       "      <th>...</th>\n",
       "      <td>...</td>\n",
       "      <td>...</td>\n",
       "      <td>...</td>\n",
       "      <td>...</td>\n",
       "      <td>...</td>\n",
       "      <td>...</td>\n",
       "      <td>...</td>\n",
       "      <td>...</td>\n",
       "      <td>...</td>\n",
       "      <td>...</td>\n",
       "      <td>...</td>\n",
       "      <td>...</td>\n",
       "      <td>...</td>\n",
       "      <td>...</td>\n",
       "      <td>...</td>\n",
       "      <td>...</td>\n",
       "      <td>...</td>\n",
       "      <td>...</td>\n",
       "      <td>...</td>\n",
       "      <td>...</td>\n",
       "      <td>...</td>\n",
       "    </tr>\n",
       "    <tr>\n",
       "      <th>121363</th>\n",
       "      <td>-0.212598</td>\n",
       "      <td>0.256898</td>\n",
       "      <td>-0.447700</td>\n",
       "      <td>0.227991</td>\n",
       "      <td>0.286868</td>\n",
       "      <td>-0.134953</td>\n",
       "      <td>0.286301</td>\n",
       "      <td>0.290358</td>\n",
       "      <td>-0.119520</td>\n",
       "      <td>-0.162863</td>\n",
       "      <td>...</td>\n",
       "      <td>0.228032</td>\n",
       "      <td>0.299517</td>\n",
       "      <td>-0.117757</td>\n",
       "      <td>0.055547</td>\n",
       "      <td>0.581419</td>\n",
       "      <td>-0.358383</td>\n",
       "      <td>-0.404726</td>\n",
       "      <td>0.595774</td>\n",
       "      <td>0.296562</td>\n",
       "      <td>0</td>\n",
       "    </tr>\n",
       "    <tr>\n",
       "      <th>121364</th>\n",
       "      <td>0.159202</td>\n",
       "      <td>0.578980</td>\n",
       "      <td>0.106536</td>\n",
       "      <td>-0.247540</td>\n",
       "      <td>-0.566379</td>\n",
       "      <td>-0.770876</td>\n",
       "      <td>0.918120</td>\n",
       "      <td>0.894100</td>\n",
       "      <td>0.635024</td>\n",
       "      <td>-0.554825</td>\n",
       "      <td>...</td>\n",
       "      <td>-0.121072</td>\n",
       "      <td>0.448461</td>\n",
       "      <td>-0.421211</td>\n",
       "      <td>-0.195475</td>\n",
       "      <td>0.213188</td>\n",
       "      <td>-0.265779</td>\n",
       "      <td>-0.492184</td>\n",
       "      <td>0.749388</td>\n",
       "      <td>0.467811</td>\n",
       "      <td>1</td>\n",
       "    </tr>\n",
       "    <tr>\n",
       "      <th>121365</th>\n",
       "      <td>-0.183408</td>\n",
       "      <td>-0.071542</td>\n",
       "      <td>-0.303102</td>\n",
       "      <td>-0.209128</td>\n",
       "      <td>-0.538787</td>\n",
       "      <td>-0.419055</td>\n",
       "      <td>0.380409</td>\n",
       "      <td>0.182944</td>\n",
       "      <td>0.382511</td>\n",
       "      <td>-0.468929</td>\n",
       "      <td>...</td>\n",
       "      <td>-0.184913</td>\n",
       "      <td>-0.053646</td>\n",
       "      <td>-0.508643</td>\n",
       "      <td>-0.307283</td>\n",
       "      <td>0.272276</td>\n",
       "      <td>-0.089274</td>\n",
       "      <td>0.003302</td>\n",
       "      <td>0.500062</td>\n",
       "      <td>0.727596</td>\n",
       "      <td>0</td>\n",
       "    </tr>\n",
       "    <tr>\n",
       "      <th>121366</th>\n",
       "      <td>-0.865203</td>\n",
       "      <td>-0.198704</td>\n",
       "      <td>-0.309393</td>\n",
       "      <td>-0.249649</td>\n",
       "      <td>-0.151374</td>\n",
       "      <td>0.112604</td>\n",
       "      <td>0.326239</td>\n",
       "      <td>0.257939</td>\n",
       "      <td>-0.153978</td>\n",
       "      <td>-0.107524</td>\n",
       "      <td>...</td>\n",
       "      <td>0.156371</td>\n",
       "      <td>-0.256471</td>\n",
       "      <td>-0.130817</td>\n",
       "      <td>0.261458</td>\n",
       "      <td>-0.010640</td>\n",
       "      <td>-0.337773</td>\n",
       "      <td>-0.589161</td>\n",
       "      <td>0.084944</td>\n",
       "      <td>0.195185</td>\n",
       "      <td>0</td>\n",
       "    </tr>\n",
       "    <tr>\n",
       "      <th>121367</th>\n",
       "      <td>-0.350851</td>\n",
       "      <td>0.153475</td>\n",
       "      <td>-0.000659</td>\n",
       "      <td>-0.175750</td>\n",
       "      <td>0.097799</td>\n",
       "      <td>-0.125996</td>\n",
       "      <td>0.166500</td>\n",
       "      <td>0.109540</td>\n",
       "      <td>-0.282164</td>\n",
       "      <td>-0.295945</td>\n",
       "      <td>...</td>\n",
       "      <td>-0.013262</td>\n",
       "      <td>-0.041247</td>\n",
       "      <td>0.148737</td>\n",
       "      <td>0.262797</td>\n",
       "      <td>0.274336</td>\n",
       "      <td>-0.072843</td>\n",
       "      <td>-0.352375</td>\n",
       "      <td>0.213584</td>\n",
       "      <td>0.661390</td>\n",
       "      <td>0</td>\n",
       "    </tr>\n",
       "  </tbody>\n",
       "</table>\n",
       "<p>121368 rows × 769 columns</p>\n",
       "</div>"
      ],
      "text/plain": [
       "               0         1         2         3         4         5         6  \\\n",
       "0      -0.214180  0.147004 -0.198792  0.039257 -0.117727 -0.340003 -0.144716   \n",
       "1       0.352702  0.166299  0.279629 -0.027249  0.170146 -0.320978  0.132645   \n",
       "2      -0.390808  0.389703  0.201352 -0.158126 -0.351628 -0.587400  0.745436   \n",
       "3      -0.172516 -0.347529  0.091326  0.274101 -0.638771 -0.430128  0.085095   \n",
       "4      -0.525008 -0.264399 -0.078045 -0.365558 -0.029540 -0.140087  0.207137   \n",
       "...          ...       ...       ...       ...       ...       ...       ...   \n",
       "121363 -0.212598  0.256898 -0.447700  0.227991  0.286868 -0.134953  0.286301   \n",
       "121364  0.159202  0.578980  0.106536 -0.247540 -0.566379 -0.770876  0.918120   \n",
       "121365 -0.183408 -0.071542 -0.303102 -0.209128 -0.538787 -0.419055  0.380409   \n",
       "121366 -0.865203 -0.198704 -0.309393 -0.249649 -0.151374  0.112604  0.326239   \n",
       "121367 -0.350851  0.153475 -0.000659 -0.175750  0.097799 -0.125996  0.166500   \n",
       "\n",
       "               7         8         9  ...       759       760       761  \\\n",
       "0       0.312527 -0.208113 -0.603441  ... -0.209616  0.381346  0.129333   \n",
       "1       0.255978 -0.076715 -0.255779  ... -0.071787 -0.004774 -0.050075   \n",
       "2       0.543038  0.301617 -0.075048  ... -0.401640  0.525003 -0.361147   \n",
       "3       0.347237 -0.185096 -0.064509  ...  0.003850  0.156936 -0.172188   \n",
       "4       0.112012 -0.148200 -0.204890  ... -0.169026 -0.345219 -0.417685   \n",
       "...          ...       ...       ...  ...       ...       ...       ...   \n",
       "121363  0.290358 -0.119520 -0.162863  ...  0.228032  0.299517 -0.117757   \n",
       "121364  0.894100  0.635024 -0.554825  ... -0.121072  0.448461 -0.421211   \n",
       "121365  0.182944  0.382511 -0.468929  ... -0.184913 -0.053646 -0.508643   \n",
       "121366  0.257939 -0.153978 -0.107524  ...  0.156371 -0.256471 -0.130817   \n",
       "121367  0.109540 -0.282164 -0.295945  ... -0.013262 -0.041247  0.148737   \n",
       "\n",
       "             762       763       764       765       766       767  toxic  \n",
       "0       0.156410 -0.196734 -0.076245 -0.302536  0.222647  0.358534      0  \n",
       "1       0.283952  0.130654 -0.132127 -0.168120  0.573513  0.351487      1  \n",
       "2       0.151722  0.284467 -0.114487 -0.712322  0.500326  0.233124      1  \n",
       "3      -0.043264  0.498429 -0.266780 -0.493660  0.516713  0.692796      0  \n",
       "4      -0.296221 -0.003516 -0.313758 -0.492042  0.370257  0.604431      0  \n",
       "...          ...       ...       ...       ...       ...       ...    ...  \n",
       "121363  0.055547  0.581419 -0.358383 -0.404726  0.595774  0.296562      0  \n",
       "121364 -0.195475  0.213188 -0.265779 -0.492184  0.749388  0.467811      1  \n",
       "121365 -0.307283  0.272276 -0.089274  0.003302  0.500062  0.727596      0  \n",
       "121366  0.261458 -0.010640 -0.337773 -0.589161  0.084944  0.195185      0  \n",
       "121367  0.262797  0.274336 -0.072843 -0.352375  0.213584  0.661390      0  \n",
       "\n",
       "[121368 rows x 769 columns]"
      ]
     },
     "execution_count": 27,
     "metadata": {},
     "output_type": "execute_result"
    }
   ],
   "source": [
    "# используем api \n",
    "base_url = 'https://cloud-api.yandex.net/v1/disk/public/resources/download?' \n",
    "public_key = 'https://disk.yandex.ru/d/KLot7E--emZcKg' \n",
    " \n",
    "# получаем url \n",
    "final_url = base_url + urlencode(dict(public_key=public_key)) \n",
    "response = requests.get(final_url) \n",
    "download_url = response.json()['href'] \n",
    " \n",
    "# загружаем файл в df \n",
    "download_response = requests.get(download_url)\n",
    "df_ed_78 = pd.read_csv(download_url, sep=',')\n",
    "df_ed_78"
   ]
  },
  {
   "cell_type": "code",
   "execution_count": 28,
   "metadata": {},
   "outputs": [],
   "source": [
    "df_ed_78 = df_ed_78.astype('float32') #меняем тип - чтобы при работе с данными требовалось меньше памяти\n",
    "df_ed_78['toxic'] = df_ed_78['toxic'].astype('int16')"
   ]
  },
  {
   "cell_type": "markdown",
   "metadata": {},
   "source": [
    "### Обучение для BERT"
   ]
  },
  {
   "cell_type": "markdown",
   "metadata": {},
   "source": [
    "#### Ограничение датасета"
   ]
  },
  {
   "cell_type": "markdown",
   "metadata": {},
   "source": [
    "Так как датасет получается тяжелым, чтобы была возможность на его данных провести обучение, их нужно немного разделить. Сделаем это с помощью `train_test_split`, чтобы сохранить соотношение в целевом признаке.\n",
    "\n",
    "Таблица `out` - это таблица неиспользуемых данных. Их слишком много, чтобы оборудование было способно их обработать.\n",
    "\n",
    "Соотношение 0.1 - это 10% на второй сет в сплите, то есть порядка 12 тысяч строк будет при таком соотношении во втором датасете."
   ]
  },
  {
   "cell_type": "code",
   "execution_count": 32,
   "metadata": {},
   "outputs": [],
   "source": [
    "out, df_ed = train_test_split(df_ed_78, test_size=0.1, random_state=RANDOM_STATE, stratify= df_ed_78['toxic']) "
   ]
  },
  {
   "cell_type": "code",
   "execution_count": 33,
   "metadata": {},
   "outputs": [
    {
     "name": "stdout",
     "output_type": "stream",
     "text": [
      "<class 'pandas.core.frame.DataFrame'>\n",
      "Int64Index: 12137 entries, 39465 to 20976\n",
      "Columns: 769 entries, 0 to toxic\n",
      "dtypes: float32(768), int16(1)\n",
      "memory usage: 35.7 MB\n"
     ]
    }
   ],
   "source": [
    "df_ed.info()"
   ]
  },
  {
   "cell_type": "markdown",
   "metadata": {},
   "source": [
    "#### Разбиение данных"
   ]
  },
  {
   "cell_type": "code",
   "execution_count": 34,
   "metadata": {},
   "outputs": [],
   "source": [
    "features_train, features_test, target_train, target_test = train_test_split( #создаем 4 датасета, два признаков (тест+валидация) и два целевых, \n",
    "    df_ed.drop(columns='toxic'), #для датасетов признаков удаляем целевой\n",
    "    df_ed['toxic'], #для целевого оставляем только целевой\n",
    "    test_size=0.2, #с соотношением \n",
    "    random_state=RANDOM_STATE, #с заданной опорой для рандома \n",
    "    stratify= df_ed['toxic']) #с заданной стратификацией по целевому признаку"
   ]
  },
  {
   "cell_type": "markdown",
   "metadata": {},
   "source": [
    "#### Модель логистической регрессии"
   ]
  },
  {
   "cell_type": "code",
   "execution_count": 78,
   "metadata": {},
   "outputs": [
    {
     "name": "stdout",
     "output_type": "stream",
     "text": [
      "Лучшие параметры для модели логистической регрессии с использованием кросс-валидации: {'max_iter': 800, 'C': 0.8}\n",
      "Наибольшее значение метрики F1 для модели логистической регрессии при лучших гиперпараметрах с использованием кросс-валидации: 0.6494990514316098\n",
      "CPU times: total: 3.25 s\n",
      "Wall time: 37.3 s\n"
     ]
    }
   ],
   "source": [
    "%%time\n",
    "\n",
    "log_reg = LogisticRegression(solver='liblinear', random_state=RANDOM_STATE, class_weight= 'balanced') #максимальное количество итераций 1000, \n",
    "parameters = {'max_iter': range (100, 1000, 100), 'C': np.arange(0.1, 1.0, 0.1)} #перебор гиперпараметров\n",
    "rand_log_reg = RandomizedSearchCV(log_reg, n_iter=20, param_distributions= parameters, scoring='f1', n_jobs= -3, cv=3)\n",
    "rand_log_reg.fit(features_train, target_train.values)\n",
    "\n",
    "best_log_reg = rand_log_reg.best_score_\n",
    "\n",
    "print(\"Лучшие параметры для модели логистической регрессии с \"\\\n",
    "    \"использованием кросс-валидации:\", rand_log_reg.best_params_)\n",
    "print(\"Наибольшее значение метрики F1 для модели логистической регрессии \"\\\n",
    "    \"при лучших гиперпараметрах с использованием кросс-валидации:\", best_log_reg)"
   ]
  },
  {
   "cell_type": "markdown",
   "metadata": {},
   "source": [
    "<div class=\"alert alert-danger\">\n",
    "<font size=\"5\"><b>Комментарий ревьюера</b></font>\n",
    "\n",
    "Ошибка:\n",
    "\n",
    "\n",
    "Не забываем при инициализации модели о random_state, иначе после каждого запуска кода у нас может быть разный результат. Это касается очень многих моделей\n",
    "\n",
    "\n",
    "</div>\n"
   ]
  },
  {
   "cell_type": "markdown",
   "metadata": {},
   "source": [
    "<div class=\"alert alert-info\"> <b>Комментарий студента:</b> Справедливо, исправил</div>"
   ]
  },
  {
   "cell_type": "markdown",
   "metadata": {},
   "source": [
    "#### Модель опорных векторов"
   ]
  },
  {
   "cell_type": "code",
   "execution_count": 88,
   "metadata": {},
   "outputs": [
    {
     "name": "stdout",
     "output_type": "stream",
     "text": [
      "Лучшие параметры для модели SVC с использованием кросс-валидации: {'C': 0.05}\n",
      "Наибольшее значение метрики F1 для модели SVC при лучших гиперпараметрах с использованием кросс-валидации: 0.6227423902616643\n",
      "CPU times: total: 7.28 s\n",
      "Wall time: 1min 26s\n"
     ]
    }
   ],
   "source": [
    "%%time\n",
    "\n",
    "svclassifier = SVC(kernel='linear', random_state=RANDOM_STATE, class_weight= 'balanced') #максимальное количество итераций 1000, \n",
    "parameters = {'C': np.arange(0.05, 1.0, 0.05)} #перебор гиперпараметров\n",
    "rand_svclassifier = RandomizedSearchCV(svclassifier, n_iter=10, param_distributions= parameters, scoring='f1', n_jobs= -3, cv=3)\n",
    "rand_svclassifier.fit(features_train, target_train.values)\n",
    "\n",
    "best_svclassifier = rand_svclassifier.best_score_\n",
    "\n",
    "print(\"Лучшие параметры для модели SVC с \"\\\n",
    "    \"использованием кросс-валидации:\", rand_svclassifier.best_params_)\n",
    "print(\"Наибольшее значение метрики F1 для модели SVC \"\\\n",
    "    \"при лучших гиперпараметрах с использованием кросс-валидации:\", best_svclassifier)"
   ]
  },
  {
   "cell_type": "markdown",
   "metadata": {},
   "source": [
    "#### Модель случайного леса"
   ]
  },
  {
   "cell_type": "code",
   "execution_count": 81,
   "metadata": {},
   "outputs": [
    {
     "name": "stdout",
     "output_type": "stream",
     "text": [
      "Лучшие параметры для модели случайного леса с использованием кросс-валидации: {'n_estimators': 6, 'max_depth': 7}\n",
      "Наибольшее значение метрики F1 для модели случайного леса при лучших гиперпараметрах с использованием кросс-валидации: 0.5553040863929963\n",
      "CPU times: total: 609 ms\n",
      "Wall time: 2min 18s\n"
     ]
    }
   ],
   "source": [
    "%%time\n",
    "\n",
    "forest = RandomForestClassifier(random_state=RANDOM_STATE, class_weight= 'balanced') #модель случайного леса\n",
    "parameters = {'n_estimators': range (1, 300), 'max_depth': range (1, 50)} #перебор гиперпараметров\n",
    "#применение метода гридсёрч со встроенной кросс-валидацией к модели леса с перебором указанных параметров\n",
    "\n",
    "randomized_forest = RandomizedSearchCV(forest, n_iter=20, param_distributions= parameters, scoring='f1', n_jobs= -3, cv=5)\n",
    "#обучение модели\n",
    "randomized_forest.fit(features_train, target_train.values)\n",
    "\n",
    "#лучшее значение после перебора параметров \n",
    "best_forest = randomized_forest.best_score_\n",
    "\n",
    "print(\"Лучшие параметры для модели случайного леса с \"\\\n",
    "    \"использованием кросс-валидации:\", randomized_forest.best_params_)\n",
    "print(\"Наибольшее значение метрики F1 для модели случайного леса \"\\\n",
    "    \"при лучших гиперпараметрах с использованием кросс-валидации:\", best_forest)"
   ]
  },
  {
   "cell_type": "markdown",
   "metadata": {},
   "source": [
    "#### LightGBM"
   ]
  },
  {
   "cell_type": "code",
   "execution_count": 82,
   "metadata": {},
   "outputs": [
    {
     "name": "stdout",
     "output_type": "stream",
     "text": [
      "Лучшие параметры для модели LGBMClassifier с использованием кросс-валидации: {'n_estimators': 592, 'max_depth': 69, 'learning_rate': 0.35000000000000003}\n",
      "Наибольшее значение метрики F1 для модели LGBMClassifier при лучших гиперпараметрах с использованием кросс-валидации: 0.6702944547451882\n",
      "CPU times: total: 1min 9s\n",
      "Wall time: 9min 14s\n"
     ]
    }
   ],
   "source": [
    "%%time\n",
    "\n",
    "lgbm = lgb.LGBMClassifier(class_weight= 'balanced') #\n",
    "parameters = {'n_estimators': range (1, 1000), 'max_depth': range (1, 100), 'learning_rate': np.arange(0.05, 0.5, 0.05)}\n",
    "#применение метода гридсёрч со встроенной кросс-валидацией\n",
    "\n",
    "rand_lgbm = RandomizedSearchCV(lgbm, n_iter=20, param_distributions= parameters, scoring='f1', n_jobs= -3, cv=5)\n",
    "#обучение модели\n",
    "rand_lgbm.fit(features_train, target_train.values)\n",
    "\n",
    "#лучшее значение после перебора параметров \n",
    "best_lgbm = rand_lgbm.best_score_\n",
    "\n",
    "print(\"Лучшие параметры для модели LGBMClassifier с \"\\\n",
    "    \"использованием кросс-валидации:\", rand_lgbm.best_params_)\n",
    "print(\"Наибольшее значение метрики F1 для модели LGBMClassifier \"\\\n",
    "    \"при лучших гиперпараметрах с использованием кросс-валидации:\", best_lgbm)"
   ]
  },
  {
   "cell_type": "markdown",
   "metadata": {},
   "source": [
    "### Выводы по методу BERT"
   ]
  },
  {
   "cell_type": "code",
   "execution_count": 90,
   "metadata": {},
   "outputs": [
    {
     "data": {
      "text/html": [
       "<div>\n",
       "<style scoped>\n",
       "    .dataframe tbody tr th:only-of-type {\n",
       "        vertical-align: middle;\n",
       "    }\n",
       "\n",
       "    .dataframe tbody tr th {\n",
       "        vertical-align: top;\n",
       "    }\n",
       "\n",
       "    .dataframe thead th {\n",
       "        text-align: right;\n",
       "    }\n",
       "</style>\n",
       "<table border=\"1\" class=\"dataframe\">\n",
       "  <thead>\n",
       "    <tr style=\"text-align: right;\">\n",
       "      <th></th>\n",
       "      <th>Модель</th>\n",
       "      <th>Значение метрики F1</th>\n",
       "      <th>Время расчета (~10 000 строк)</th>\n",
       "    </tr>\n",
       "  </thead>\n",
       "  <tbody>\n",
       "    <tr>\n",
       "      <th>0</th>\n",
       "      <td>Логистическая регрессия</td>\n",
       "      <td>0.649499</td>\n",
       "      <td>~1 минута</td>\n",
       "    </tr>\n",
       "    <tr>\n",
       "      <th>1</th>\n",
       "      <td>Модель опорных векторов</td>\n",
       "      <td>0.622742</td>\n",
       "      <td>~1.5 минут</td>\n",
       "    </tr>\n",
       "    <tr>\n",
       "      <th>2</th>\n",
       "      <td>Случайный лес</td>\n",
       "      <td>0.555304</td>\n",
       "      <td>~3 минуты</td>\n",
       "    </tr>\n",
       "    <tr>\n",
       "      <th>3</th>\n",
       "      <td>LGBMClassifier</td>\n",
       "      <td>0.670294</td>\n",
       "      <td>~10 минут</td>\n",
       "    </tr>\n",
       "  </tbody>\n",
       "</table>\n",
       "</div>"
      ],
      "text/plain": [
       "                    Модель  Значение метрики F1 Время расчета (~10 000 строк)\n",
       "0  Логистическая регрессия             0.649499                     ~1 минута\n",
       "1  Модель опорных векторов             0.622742                    ~1.5 минут\n",
       "2            Случайный лес             0.555304                     ~3 минуты\n",
       "3           LGBMClassifier             0.670294                     ~10 минут"
      ]
     },
     "execution_count": 90,
     "metadata": {},
     "output_type": "execute_result"
    }
   ],
   "source": [
    "models = ['Логистическая регрессия', 'Модель опорных векторов', 'Случайный лес', 'LGBMClassifier']\n",
    "F1 = [best_log_reg, best_svclassifier, best_forest, best_lgbm]\n",
    "total_time = ['~1 минута', '~1.5 минут', '~3 минуты', '~10 минут']\n",
    "\n",
    "bert_result_table = pd.DataFrame({ #созаем датафрейм\n",
    "    'Модель': models, #\n",
    "    'Значение метрики F1': F1,\n",
    "    'Время расчета (~10 000 строк)': total_time\n",
    "}) #\n",
    "bert_result_table"
   ]
  },
  {
   "attachments": {},
   "cell_type": "markdown",
   "metadata": {},
   "source": [
    "Мы получили довольно неплохие показатели метрики `F1` на модели `LGBMClassifier`, самые высокие для метода `BERT` для сильно урезанной выборки. В то же время, модель самая медленная. Модели векторов и регрессии обучаются на порядок быстрее, а значение метрики уступает совсем немного. Модель леса показывает очень плохой результат: она не быстрая и с низким зачеством метрики `F1`"
   ]
  },
  {
   "cell_type": "markdown",
   "metadata": {},
   "source": [
    "<div class=\"alert alert-success\">\n",
    "<font size=\"5\"><b>Комментарий ревьюера</b></font>\n",
    "\n",
    "\n",
    "\n",
    "Успех 👍:\n",
    "\n",
    "\n",
    "\n",
    "Здорово Что использовал коллаб и GPU.  Если хочешь всё-таки попробовать получить метрику выше то можно сделать перебор гиперпараметров модели, или/и используй toxic-bert\n",
    "\n",
    "\n",
    "\n",
    "\n",
    "</div>\n"
   ]
  },
  {
   "cell_type": "markdown",
   "metadata": {},
   "source": [
    "## TF-IDF"
   ]
  },
  {
   "cell_type": "markdown",
   "metadata": {},
   "source": [
    "Оценка важности слова определяется величиной `TF-IDF`. `TF` отвечает за количество упоминаний слова в отдельном тексте, а `IDF` отражает частоту его употребления во всём корпусе."
   ]
  },
  {
   "cell_type": "markdown",
   "metadata": {},
   "source": [
    "### Подготовка"
   ]
  },
  {
   "cell_type": "markdown",
   "metadata": {},
   "source": [
    "#### Подгрузка необходимых данных"
   ]
  },
  {
   "cell_type": "code",
   "execution_count": 9,
   "metadata": {},
   "outputs": [],
   "source": [
    "dft = df.copy() #исходный датасет, до преобразований BERTa\n",
    "df_check = df.sample(200) #таблица для проверки работоспособности лемматизатора"
   ]
  },
  {
   "cell_type": "code",
   "execution_count": 10,
   "metadata": {},
   "outputs": [
    {
     "name": "stderr",
     "output_type": "stream",
     "text": [
      "[nltk_data] Downloading package averaged_perceptron_tagger to\n",
      "[nltk_data]     C:\\Users\\maxpe\\AppData\\Roaming\\nltk_data...\n",
      "[nltk_data]   Package averaged_perceptron_tagger is already up-to-\n",
      "[nltk_data]       date!\n",
      "[nltk_data] Downloading package wordnet to\n",
      "[nltk_data]     C:\\Users\\maxpe\\AppData\\Roaming\\nltk_data...\n",
      "[nltk_data]   Package wordnet is already up-to-date!\n",
      "[nltk_data] Downloading package punkt to\n",
      "[nltk_data]     C:\\Users\\maxpe\\AppData\\Roaming\\nltk_data...\n",
      "[nltk_data]   Package punkt is already up-to-date!\n",
      "[nltk_data] Downloading package stopwords to\n",
      "[nltk_data]     C:\\Users\\maxpe\\AppData\\Roaming\\nltk_data...\n",
      "[nltk_data]   Package stopwords is already up-to-date!\n"
     ]
    },
    {
     "data": {
      "text/plain": [
       "True"
      ]
     },
     "execution_count": 10,
     "metadata": {},
     "output_type": "execute_result"
    }
   ],
   "source": [
    "#загружаем необходимые дополнения для библиотеки\n",
    "nltk.download('averaged_perceptron_tagger')\n",
    "nltk.download('wordnet') \n",
    "nltk.download('punkt')\n",
    "nltk.download('stopwords') "
   ]
  },
  {
   "cell_type": "code",
   "execution_count": 11,
   "metadata": {},
   "outputs": [],
   "source": [
    "pd.options.mode.chained_assignment = None #убираем предупреждения"
   ]
  },
  {
   "cell_type": "markdown",
   "metadata": {},
   "source": [
    "#### Функция очистки текста"
   ]
  },
  {
   "cell_type": "code",
   "execution_count": 12,
   "metadata": {},
   "outputs": [],
   "source": [
    "def clear_text(text):\n",
    "\n",
    "    def limit(text):\n",
    "        #убираем из комментариев слова длиной от 50 до 10000 символов\n",
    "        #это ограничение необходимо, т.к. есть \"слово\", ломающее лемматизатор\n",
    "        lim = re.sub(r'\\b\\w{50,10000}\\b', ' ', text) \n",
    "        lim1 = \" \".join(lim.split()) #применяем фильтр\n",
    "        return lim1\n",
    "\n",
    "    clear = re.sub(r'[^a-zA-Z ]', ' ', limit(text)) #фильтруем латиницу, символы\n",
    "    clear1 = \" \".join(clear.split()) #применяем фильтр\n",
    "    return clear1"
   ]
  },
  {
   "cell_type": "markdown",
   "metadata": {},
   "source": [
    "#### Лемматизатор"
   ]
  },
  {
   "cell_type": "code",
   "execution_count": 13,
   "metadata": {},
   "outputs": [],
   "source": [
    "def lemmatize_text(text):\n",
    "    #лемматизируем текст с помощью лемматизатора предложений из пакета pywsd\n",
    "    lemma = lemmatize_sentence(text) \n",
    "    return \" \".join(lemma)"
   ]
  },
  {
   "cell_type": "markdown",
   "metadata": {},
   "source": [
    "Лемматизатор, так же как и преобразование эмбеддингов, считается довольно долго, порядка 50 минут. Ниже лемматизирован кусочек из 100 строк оригинальной таблицы, чтобы показать работу лемматизатора.\n",
    "\n",
    "Полный датасет рассчитан заранее и загружается после проверки."
   ]
  },
  {
   "cell_type": "code",
   "execution_count": 14,
   "metadata": {},
   "outputs": [
    {
     "name": "stderr",
     "output_type": "stream",
     "text": [
      "100%|██████████| 200/200 [00:00<00:00, 33284.16it/s]\n",
      "100%|██████████| 200/200 [00:02<00:00, 69.42it/s]\n"
     ]
    },
    {
     "data": {
      "text/html": [
       "<div>\n",
       "<style scoped>\n",
       "    .dataframe tbody tr th:only-of-type {\n",
       "        vertical-align: middle;\n",
       "    }\n",
       "\n",
       "    .dataframe tbody tr th {\n",
       "        vertical-align: top;\n",
       "    }\n",
       "\n",
       "    .dataframe thead th {\n",
       "        text-align: right;\n",
       "    }\n",
       "</style>\n",
       "<table border=\"1\" class=\"dataframe\">\n",
       "  <thead>\n",
       "    <tr style=\"text-align: right;\">\n",
       "      <th></th>\n",
       "      <th>text</th>\n",
       "      <th>toxic</th>\n",
       "      <th>lemma</th>\n",
       "    </tr>\n",
       "  </thead>\n",
       "  <tbody>\n",
       "    <tr>\n",
       "      <th>115799</th>\n",
       "      <td>Placenames with numbers \\n\\nPerhaps include Nu...</td>\n",
       "      <td>0</td>\n",
       "      <td>placenames with number perhaps include number ...</td>\n",
       "    </tr>\n",
       "    <tr>\n",
       "      <th>33157</th>\n",
       "      <td>\"\\n\\n Gendergap v gender gap \\n\\nRe this edit ...</td>\n",
       "      <td>0</td>\n",
       "      <td>gendergap v gender gap re this edit i personal...</td>\n",
       "    </tr>\n",
       "    <tr>\n",
       "      <th>7547</th>\n",
       "      <td>Please - DON'T ERASE CONTENT WITHOUT DISCUSSION.</td>\n",
       "      <td>0</td>\n",
       "      <td>please don t erase content without discussion</td>\n",
       "    </tr>\n",
       "    <tr>\n",
       "      <th>44180</th>\n",
       "      <td>Illegal usernames \\nPersonally I think this ap...</td>\n",
       "      <td>0</td>\n",
       "      <td>illegal usernames personally i think this appr...</td>\n",
       "    </tr>\n",
       "    <tr>\n",
       "      <th>143265</th>\n",
       "      <td>One should add that a user who has been given ...</td>\n",
       "      <td>0</td>\n",
       "      <td>one should add that a user who have be give a ...</td>\n",
       "    </tr>\n",
       "  </tbody>\n",
       "</table>\n",
       "</div>"
      ],
      "text/plain": [
       "                                                     text  toxic  \\\n",
       "115799  Placenames with numbers \\n\\nPerhaps include Nu...      0   \n",
       "33157   \"\\n\\n Gendergap v gender gap \\n\\nRe this edit ...      0   \n",
       "7547     Please - DON'T ERASE CONTENT WITHOUT DISCUSSION.      0   \n",
       "44180   Illegal usernames \\nPersonally I think this ap...      0   \n",
       "143265  One should add that a user who has been given ...      0   \n",
       "\n",
       "                                                    lemma  \n",
       "115799  placenames with number perhaps include number ...  \n",
       "33157   gendergap v gender gap re this edit i personal...  \n",
       "7547        please don t erase content without discussion  \n",
       "44180   illegal usernames personally i think this appr...  \n",
       "143265  one should add that a user who have be give a ...  "
      ]
     },
     "execution_count": 14,
     "metadata": {},
     "output_type": "execute_result"
    }
   ],
   "source": [
    "tqdm.pandas()\n",
    "df_check['lemma'] = df_check['text'].progress_apply(clear_text) #повторяем очистку, т.к. датасет - другой\n",
    "df_check['lemma'] = df_check['lemma'].progress_apply(lemmatize_text) #лемматизируем текст\n",
    "df_check.head()"
   ]
  },
  {
   "cell_type": "markdown",
   "metadata": {},
   "source": [
    "<div class=\"alert alert-success\">\n",
    "<font size=\"5\"><b>Комментарий ревьюера</b></font>\n",
    "\n",
    "Успех:\n",
    "\n",
    "\n",
    "\n",
    "- Лематизация удалась. Отличная библиотека pywsd, хотя впервые  вижу ее использование\n",
    "\n",
    "\n",
    "\n",
    "- Плюс за использование apply, неэффективные циклы нам ни к чему.\n",
    "\n",
    "\n",
    "- Да, всегда лучше проверить что получилось  в итоге, так всегда будет возможность поправить ошбку\n",
    "\n",
    "\n",
    "\n",
    "<div class=\"alert alert-warning\">\n",
    "\n",
    "\n",
    "Совет: \n",
    "\n",
    "\n",
    "- попробуй .progress_apply, делает что .apply, но еще и показывает на какой итерации находится процесс\n",
    "\n",
    "\n",
    "    \n",
    "- после очистки и лемитизации можно провести частотный анализ текста/[облако слов](https://habr.com/ru/post/517410/) - чтобы получить общее представление о тематике и о наиболее часто встерчаемых словах Кроме того графики, рисунки делают проект визуально интересней\n",
    "    \n",
    "    "
   ]
  },
  {
   "cell_type": "markdown",
   "metadata": {},
   "source": [
    "#### Выгрузка датасета"
   ]
  },
  {
   "cell_type": "markdown",
   "metadata": {},
   "source": [
    "Так же, как и с таблицей после преобразования эмбеддингов `df_ed`, этот датасет был выгружен один раз, после чего вывод таблицы - закомментирован. \n",
    "\n",
    "Лемматизировался полный датасет `df`. "
   ]
  },
  {
   "cell_type": "code",
   "execution_count": 98,
   "metadata": {},
   "outputs": [],
   "source": [
    "# dft.to_csv('df_lemma.csv', index=False)"
   ]
  },
  {
   "cell_type": "markdown",
   "metadata": {},
   "source": [
    "#### Загрузка лемматизированного датасета"
   ]
  },
  {
   "cell_type": "code",
   "execution_count": 105,
   "metadata": {
    "scrolled": true
   },
   "outputs": [
    {
     "data": {
      "text/html": [
       "<div>\n",
       "<style scoped>\n",
       "    .dataframe tbody tr th:only-of-type {\n",
       "        vertical-align: middle;\n",
       "    }\n",
       "\n",
       "    .dataframe tbody tr th {\n",
       "        vertical-align: top;\n",
       "    }\n",
       "\n",
       "    .dataframe thead th {\n",
       "        text-align: right;\n",
       "    }\n",
       "</style>\n",
       "<table border=\"1\" class=\"dataframe\">\n",
       "  <thead>\n",
       "    <tr style=\"text-align: right;\">\n",
       "      <th></th>\n",
       "      <th>text</th>\n",
       "      <th>toxic</th>\n",
       "      <th>lemma</th>\n",
       "    </tr>\n",
       "  </thead>\n",
       "  <tbody>\n",
       "    <tr>\n",
       "      <th>0</th>\n",
       "      <td>Explanation\\nWhy the edits made under my usern...</td>\n",
       "      <td>0</td>\n",
       "      <td>explanation why the edits make under my userna...</td>\n",
       "    </tr>\n",
       "    <tr>\n",
       "      <th>1</th>\n",
       "      <td>D'aww! He matches this background colour I'm s...</td>\n",
       "      <td>0</td>\n",
       "      <td>d aww he match this background colour i m seem...</td>\n",
       "    </tr>\n",
       "    <tr>\n",
       "      <th>2</th>\n",
       "      <td>Hey man, I'm really not trying to edit war. It...</td>\n",
       "      <td>0</td>\n",
       "      <td>hey man i m really not try to edit war it s ju...</td>\n",
       "    </tr>\n",
       "    <tr>\n",
       "      <th>3</th>\n",
       "      <td>\"\\nMore\\nI can't make any real suggestions on ...</td>\n",
       "      <td>0</td>\n",
       "      <td>more i can t make any real suggestion on impro...</td>\n",
       "    </tr>\n",
       "    <tr>\n",
       "      <th>4</th>\n",
       "      <td>You, sir, are my hero. Any chance you remember...</td>\n",
       "      <td>0</td>\n",
       "      <td>you sir be my hero any chance you remember wha...</td>\n",
       "    </tr>\n",
       "    <tr>\n",
       "      <th>...</th>\n",
       "      <td>...</td>\n",
       "      <td>...</td>\n",
       "      <td>...</td>\n",
       "    </tr>\n",
       "    <tr>\n",
       "      <th>159287</th>\n",
       "      <td>\":::::And for the second time of asking, when ...</td>\n",
       "      <td>0</td>\n",
       "      <td>and for the second time of ask when your view ...</td>\n",
       "    </tr>\n",
       "    <tr>\n",
       "      <th>159288</th>\n",
       "      <td>You should be ashamed of yourself \\n\\nThat is ...</td>\n",
       "      <td>0</td>\n",
       "      <td>you should be ashamed of yourself that be a ho...</td>\n",
       "    </tr>\n",
       "    <tr>\n",
       "      <th>159289</th>\n",
       "      <td>Spitzer \\n\\nUmm, theres no actual article for ...</td>\n",
       "      <td>0</td>\n",
       "      <td>spitzer umm theres no actual article for prost...</td>\n",
       "    </tr>\n",
       "    <tr>\n",
       "      <th>159290</th>\n",
       "      <td>And it looks like it was actually you who put ...</td>\n",
       "      <td>0</td>\n",
       "      <td>and it look like it be actually you who put on...</td>\n",
       "    </tr>\n",
       "    <tr>\n",
       "      <th>159291</th>\n",
       "      <td>\"\\nAnd ... I really don't think you understand...</td>\n",
       "      <td>0</td>\n",
       "      <td>and i really don t think you understand i come...</td>\n",
       "    </tr>\n",
       "  </tbody>\n",
       "</table>\n",
       "<p>159292 rows × 3 columns</p>\n",
       "</div>"
      ],
      "text/plain": [
       "                                                     text  toxic  \\\n",
       "0       Explanation\\nWhy the edits made under my usern...      0   \n",
       "1       D'aww! He matches this background colour I'm s...      0   \n",
       "2       Hey man, I'm really not trying to edit war. It...      0   \n",
       "3       \"\\nMore\\nI can't make any real suggestions on ...      0   \n",
       "4       You, sir, are my hero. Any chance you remember...      0   \n",
       "...                                                   ...    ...   \n",
       "159287  \":::::And for the second time of asking, when ...      0   \n",
       "159288  You should be ashamed of yourself \\n\\nThat is ...      0   \n",
       "159289  Spitzer \\n\\nUmm, theres no actual article for ...      0   \n",
       "159290  And it looks like it was actually you who put ...      0   \n",
       "159291  \"\\nAnd ... I really don't think you understand...      0   \n",
       "\n",
       "                                                    lemma  \n",
       "0       explanation why the edits make under my userna...  \n",
       "1       d aww he match this background colour i m seem...  \n",
       "2       hey man i m really not try to edit war it s ju...  \n",
       "3       more i can t make any real suggestion on impro...  \n",
       "4       you sir be my hero any chance you remember wha...  \n",
       "...                                                   ...  \n",
       "159287  and for the second time of ask when your view ...  \n",
       "159288  you should be ashamed of yourself that be a ho...  \n",
       "159289  spitzer umm theres no actual article for prost...  \n",
       "159290  and it look like it be actually you who put on...  \n",
       "159291  and i really don t think you understand i come...  \n",
       "\n",
       "[159292 rows x 3 columns]"
      ]
     },
     "execution_count": 105,
     "metadata": {},
     "output_type": "execute_result"
    }
   ],
   "source": [
    "# используем api \n",
    "base_url = 'https://cloud-api.yandex.net/v1/disk/public/resources/download?' \n",
    "public_key = 'https://disk.yandex.ru/d/zNN-U7f8m-UaaQ' \n",
    " \n",
    "# получаем url \n",
    "final_url = base_url + urlencode(dict(public_key=public_key)) \n",
    "response = requests.get(final_url) \n",
    "download_url = response.json()['href'] \n",
    " \n",
    "# загружаем файл в df \n",
    "download_response = requests.get(download_url)\n",
    "df_lem = pd.read_csv(download_url, sep=',')\n",
    "df_lem"
   ]
  },
  {
   "cell_type": "code",
   "execution_count": 106,
   "metadata": {},
   "outputs": [
    {
     "name": "stdout",
     "output_type": "stream",
     "text": [
      "<class 'pandas.core.frame.DataFrame'>\n",
      "RangeIndex: 159292 entries, 0 to 159291\n",
      "Data columns (total 3 columns):\n",
      " #   Column  Non-Null Count   Dtype \n",
      "---  ------  --------------   ----- \n",
      " 0   text    159292 non-null  object\n",
      " 1   toxic   159292 non-null  int64 \n",
      " 2   lemma   159281 non-null  object\n",
      "dtypes: int64(1), object(2)\n",
      "memory usage: 3.6+ MB\n"
     ]
    }
   ],
   "source": [
    "df_lem.info()"
   ]
  },
  {
   "attachments": {},
   "cell_type": "markdown",
   "metadata": {},
   "source": [
    "Как мы видим, появились пустые значения в столбце `lemma`, это значит, что там были только такие символы, которые не пропустил фильтр. Их нужно убрать."
   ]
  },
  {
   "cell_type": "code",
   "execution_count": 107,
   "metadata": {},
   "outputs": [],
   "source": [
    "df_lem.dropna(inplace=True)\n",
    "df_lem = df_lem.reset_index(drop=True)"
   ]
  },
  {
   "cell_type": "markdown",
   "metadata": {},
   "source": [
    "#### Облако слов"
   ]
  },
  {
   "cell_type": "markdown",
   "metadata": {},
   "source": [
    "После очистки текста, можем просмотреть наиболее часто встречающиеся слова в датасете. Для этого сначала токенизируем текст - разобьем на составные части.\n",
    "\n",
    "Облако слов будем делать на отдельном датасете, чтобы не перегружать рабочий. Эти данные в обучении не пригодятся."
   ]
  },
  {
   "cell_type": "code",
   "execution_count": 110,
   "metadata": {},
   "outputs": [
    {
     "data": {
      "text/html": [
       "<div>\n",
       "<style scoped>\n",
       "    .dataframe tbody tr th:only-of-type {\n",
       "        vertical-align: middle;\n",
       "    }\n",
       "\n",
       "    .dataframe tbody tr th {\n",
       "        vertical-align: top;\n",
       "    }\n",
       "\n",
       "    .dataframe thead th {\n",
       "        text-align: right;\n",
       "    }\n",
       "</style>\n",
       "<table border=\"1\" class=\"dataframe\">\n",
       "  <thead>\n",
       "    <tr style=\"text-align: right;\">\n",
       "      <th></th>\n",
       "      <th>text</th>\n",
       "      <th>toxic</th>\n",
       "      <th>lemma</th>\n",
       "      <th>tokens</th>\n",
       "    </tr>\n",
       "  </thead>\n",
       "  <tbody>\n",
       "    <tr>\n",
       "      <th>0</th>\n",
       "      <td>Explanation\\nWhy the edits made under my usern...</td>\n",
       "      <td>0</td>\n",
       "      <td>explanation why the edits make under my userna...</td>\n",
       "      <td>explanation why the edits make under my userna...</td>\n",
       "    </tr>\n",
       "    <tr>\n",
       "      <th>1</th>\n",
       "      <td>D'aww! He matches this background colour I'm s...</td>\n",
       "      <td>0</td>\n",
       "      <td>d aww he match this background colour i m seem...</td>\n",
       "      <td>d aww he match this background colour i m seem...</td>\n",
       "    </tr>\n",
       "    <tr>\n",
       "      <th>2</th>\n",
       "      <td>Hey man, I'm really not trying to edit war. It...</td>\n",
       "      <td>0</td>\n",
       "      <td>hey man i m really not try to edit war it s ju...</td>\n",
       "      <td>hey man i m really not try to edit war it s ju...</td>\n",
       "    </tr>\n",
       "    <tr>\n",
       "      <th>3</th>\n",
       "      <td>\"\\nMore\\nI can't make any real suggestions on ...</td>\n",
       "      <td>0</td>\n",
       "      <td>more i can t make any real suggestion on impro...</td>\n",
       "      <td>more i can t make any real suggestion on impro...</td>\n",
       "    </tr>\n",
       "    <tr>\n",
       "      <th>4</th>\n",
       "      <td>You, sir, are my hero. Any chance you remember...</td>\n",
       "      <td>0</td>\n",
       "      <td>you sir be my hero any chance you remember wha...</td>\n",
       "      <td>you sir be my hero any chance you remember wha...</td>\n",
       "    </tr>\n",
       "    <tr>\n",
       "      <th>...</th>\n",
       "      <td>...</td>\n",
       "      <td>...</td>\n",
       "      <td>...</td>\n",
       "      <td>...</td>\n",
       "    </tr>\n",
       "    <tr>\n",
       "      <th>159276</th>\n",
       "      <td>\":::::And for the second time of asking, when ...</td>\n",
       "      <td>0</td>\n",
       "      <td>and for the second time of ask when your view ...</td>\n",
       "      <td>and for the second time of ask when your view ...</td>\n",
       "    </tr>\n",
       "    <tr>\n",
       "      <th>159277</th>\n",
       "      <td>You should be ashamed of yourself \\n\\nThat is ...</td>\n",
       "      <td>0</td>\n",
       "      <td>you should be ashamed of yourself that be a ho...</td>\n",
       "      <td>you should be ashamed of yourself that be a ho...</td>\n",
       "    </tr>\n",
       "    <tr>\n",
       "      <th>159278</th>\n",
       "      <td>Spitzer \\n\\nUmm, theres no actual article for ...</td>\n",
       "      <td>0</td>\n",
       "      <td>spitzer umm theres no actual article for prost...</td>\n",
       "      <td>spitzer umm theres no actual article for prost...</td>\n",
       "    </tr>\n",
       "    <tr>\n",
       "      <th>159279</th>\n",
       "      <td>And it looks like it was actually you who put ...</td>\n",
       "      <td>0</td>\n",
       "      <td>and it look like it be actually you who put on...</td>\n",
       "      <td>and it look like it be actually you who put on...</td>\n",
       "    </tr>\n",
       "    <tr>\n",
       "      <th>159280</th>\n",
       "      <td>\"\\nAnd ... I really don't think you understand...</td>\n",
       "      <td>0</td>\n",
       "      <td>and i really don t think you understand i come...</td>\n",
       "      <td>and i really don t think you understand i come...</td>\n",
       "    </tr>\n",
       "  </tbody>\n",
       "</table>\n",
       "<p>159281 rows × 4 columns</p>\n",
       "</div>"
      ],
      "text/plain": [
       "                                                     text  toxic  \\\n",
       "0       Explanation\\nWhy the edits made under my usern...      0   \n",
       "1       D'aww! He matches this background colour I'm s...      0   \n",
       "2       Hey man, I'm really not trying to edit war. It...      0   \n",
       "3       \"\\nMore\\nI can't make any real suggestions on ...      0   \n",
       "4       You, sir, are my hero. Any chance you remember...      0   \n",
       "...                                                   ...    ...   \n",
       "159276  \":::::And for the second time of asking, when ...      0   \n",
       "159277  You should be ashamed of yourself \\n\\nThat is ...      0   \n",
       "159278  Spitzer \\n\\nUmm, theres no actual article for ...      0   \n",
       "159279  And it looks like it was actually you who put ...      0   \n",
       "159280  \"\\nAnd ... I really don't think you understand...      0   \n",
       "\n",
       "                                                    lemma  \\\n",
       "0       explanation why the edits make under my userna...   \n",
       "1       d aww he match this background colour i m seem...   \n",
       "2       hey man i m really not try to edit war it s ju...   \n",
       "3       more i can t make any real suggestion on impro...   \n",
       "4       you sir be my hero any chance you remember wha...   \n",
       "...                                                   ...   \n",
       "159276  and for the second time of ask when your view ...   \n",
       "159277  you should be ashamed of yourself that be a ho...   \n",
       "159278  spitzer umm theres no actual article for prost...   \n",
       "159279  and it look like it be actually you who put on...   \n",
       "159280  and i really don t think you understand i come...   \n",
       "\n",
       "                                                   tokens  \n",
       "0       explanation why the edits make under my userna...  \n",
       "1       d aww he match this background colour i m seem...  \n",
       "2       hey man i m really not try to edit war it s ju...  \n",
       "3       more i can t make any real suggestion on impro...  \n",
       "4       you sir be my hero any chance you remember wha...  \n",
       "...                                                   ...  \n",
       "159276  and for the second time of ask when your view ...  \n",
       "159277  you should be ashamed of yourself that be a ho...  \n",
       "159278  spitzer umm theres no actual article for prost...  \n",
       "159279  and it look like it be actually you who put on...  \n",
       "159280  and i really don t think you understand i come...  \n",
       "\n",
       "[159281 rows x 4 columns]"
      ]
     },
     "execution_count": 110,
     "metadata": {},
     "output_type": "execute_result"
    }
   ],
   "source": [
    "df_cloud = df_lem.copy()\n",
    "df_cloud['tokens'] = df_cloud['lemma']\n",
    "df_cloud"
   ]
  },
  {
   "cell_type": "code",
   "execution_count": 111,
   "metadata": {},
   "outputs": [
    {
     "name": "stderr",
     "output_type": "stream",
     "text": [
      "100%|██████████| 159281/159281 [00:33<00:00, 4709.59it/s]\n"
     ]
    },
    {
     "data": {
      "text/html": [
       "<div>\n",
       "<style scoped>\n",
       "    .dataframe tbody tr th:only-of-type {\n",
       "        vertical-align: middle;\n",
       "    }\n",
       "\n",
       "    .dataframe tbody tr th {\n",
       "        vertical-align: top;\n",
       "    }\n",
       "\n",
       "    .dataframe thead th {\n",
       "        text-align: right;\n",
       "    }\n",
       "</style>\n",
       "<table border=\"1\" class=\"dataframe\">\n",
       "  <thead>\n",
       "    <tr style=\"text-align: right;\">\n",
       "      <th></th>\n",
       "      <th>text</th>\n",
       "      <th>toxic</th>\n",
       "      <th>lemma</th>\n",
       "      <th>tokens</th>\n",
       "    </tr>\n",
       "  </thead>\n",
       "  <tbody>\n",
       "    <tr>\n",
       "      <th>55335</th>\n",
       "      <td>\"45, 5 June 2006 (UTC) \\n\\nYou need to explain...</td>\n",
       "      <td>0</td>\n",
       "      <td>june utc you need to explain why we belong tog...</td>\n",
       "      <td>[june, utc, you, need, to, explain, why, we, b...</td>\n",
       "    </tr>\n",
       "    <tr>\n",
       "      <th>3407</th>\n",
       "      <td>Water controversy \\n\\nThis needs to be expande...</td>\n",
       "      <td>0</td>\n",
       "      <td>water controversy this need to be expand but i...</td>\n",
       "      <td>[water, controversy, this, need, to, be, expan...</td>\n",
       "    </tr>\n",
       "    <tr>\n",
       "      <th>60264</th>\n",
       "      <td>Yep, I was thinking of it myself, and would ha...</td>\n",
       "      <td>0</td>\n",
       "      <td>yep i be think of it myself and would have do ...</td>\n",
       "      <td>[yep, i, be, think, of, it, myself, and, would...</td>\n",
       "    </tr>\n",
       "    <tr>\n",
       "      <th>94698</th>\n",
       "      <td>\"\\n\\n Is Brian really an atheist? \\n\\nIn the r...</td>\n",
       "      <td>0</td>\n",
       "      <td>be brian really an atheist in the recently air...</td>\n",
       "      <td>[be, brian, really, an, atheist, in, the, rece...</td>\n",
       "    </tr>\n",
       "    <tr>\n",
       "      <th>149716</th>\n",
       "      <td>This is already in the article. - Ghost</td>\n",
       "      <td>0</td>\n",
       "      <td>this be already in the article ghost</td>\n",
       "      <td>[this, be, already, in, the, article, ghost]</td>\n",
       "    </tr>\n",
       "  </tbody>\n",
       "</table>\n",
       "</div>"
      ],
      "text/plain": [
       "                                                     text  toxic  \\\n",
       "55335   \"45, 5 June 2006 (UTC) \\n\\nYou need to explain...      0   \n",
       "3407    Water controversy \\n\\nThis needs to be expande...      0   \n",
       "60264   Yep, I was thinking of it myself, and would ha...      0   \n",
       "94698   \"\\n\\n Is Brian really an atheist? \\n\\nIn the r...      0   \n",
       "149716            This is already in the article. - Ghost      0   \n",
       "\n",
       "                                                    lemma  \\\n",
       "55335   june utc you need to explain why we belong tog...   \n",
       "3407    water controversy this need to be expand but i...   \n",
       "60264   yep i be think of it myself and would have do ...   \n",
       "94698   be brian really an atheist in the recently air...   \n",
       "149716               this be already in the article ghost   \n",
       "\n",
       "                                                   tokens  \n",
       "55335   [june, utc, you, need, to, explain, why, we, b...  \n",
       "3407    [water, controversy, this, need, to, be, expan...  \n",
       "60264   [yep, i, be, think, of, it, myself, and, would...  \n",
       "94698   [be, brian, really, an, atheist, in, the, rece...  \n",
       "149716       [this, be, already, in, the, article, ghost]  "
      ]
     },
     "execution_count": 111,
     "metadata": {},
     "output_type": "execute_result"
    }
   ],
   "source": [
    "df_cloud['tokens'] = [','.join(map(str, l)) for l in df_cloud['tokens']]\n",
    "df_cloud['tokens'] = df_cloud['lemma'].progress_apply(word_tokenize) #лемматизируем текст\n",
    "df_cloud.sample(5)"
   ]
  },
  {
   "cell_type": "code",
   "execution_count": 112,
   "metadata": {},
   "outputs": [],
   "source": [
    "stop_words = set(stopwords.words('english')) "
   ]
  },
  {
   "cell_type": "code",
   "execution_count": 113,
   "metadata": {},
   "outputs": [
    {
     "data": {
      "text/plain": [
       "('explanation',\n",
       " 'd',\n",
       " 'hey',\n",
       " 'more',\n",
       " 'you',\n",
       " 'congratulation',\n",
       " 'cocksucker',\n",
       " 'your',\n",
       " 'sorry',\n",
       " 'alignment',\n",
       " 'fair',\n",
       " 'bbq',\n",
       " 'hey',\n",
       " 'before',\n",
       " 'oh',\n",
       " 'juelz',\n",
       " 'bye',\n",
       " 'redirect',\n",
       " 'the',\n",
       " 'don',\n",
       " 'regard',\n",
       " 'good',\n",
       " 'snowflake',\n",
       " 'the',\n",
       " 're',\n",
       " 'radial',\n",
       " 'there',\n",
       " 'yes',\n",
       " 'ok',\n",
       " 'a',\n",
       " 'how',\n",
       " 'not',\n",
       " 'praise',\n",
       " 'i',\n",
       " 'well',\n",
       " 'not',\n",
       " 'mainland',\n",
       " 'pretty',\n",
       " 'hi',\n",
       " 'notability',\n",
       " 'sure',\n",
       " 'tfd',\n",
       " 'you',\n",
       " 'fuck',\n",
       " 'i',\n",
       " 'i',\n",
       " 'you',\n",
       " 'in',\n",
       " 'a',\n",
       " 'jmabel',\n",
       " 'bi',\n",
       " 'get',\n",
       " 'are',\n",
       " 'thanks',\n",
       " 'awesome',\n",
       " 'stupid',\n",
       " 'tony',\n",
       " 'ga',\n",
       " 'my',\n",
       " 'why',\n",
       " 'lock',\n",
       " 'a',\n",
       " 'redirect',\n",
       " 'christian',\n",
       " 'dh',\n",
       " 'all',\n",
       " 'neiln',\n",
       " 'i',\n",
       " 'there',\n",
       " 'parzival',\n",
       " 'oppose',\n",
       " 'i',\n",
       " 'they',\n",
       " 'ambiguous',\n",
       " 'while',\n",
       " 'take',\n",
       " 'that',\n",
       " 'in',\n",
       " 'december',\n",
       " 'hi',\n",
       " 'minimization',\n",
       " 'be',\n",
       " 'screwjob',\n",
       " 'april',\n",
       " 'christ',\n",
       " 'can',\n",
       " 'would',\n",
       " 'oh',\n",
       " 'website',\n",
       " 'thanks',\n",
       " 'personal',\n",
       " 'transliteration',\n",
       " 'almost',\n",
       " 'how',\n",
       " 'lack',\n",
       " 'thanks',\n",
       " 'hi',\n",
       " 'collusion',\n",
       " 'thanks',\n",
       " 'you',\n",
       " 'however',\n",
       " 'check',\n",
       " 'i',\n",
       " 'well',\n",
       " 'what',\n",
       " 'a',\n",
       " 'i',\n",
       " 'what',\n",
       " 'i',\n",
       " 'welcome',\n",
       " 'include',\n",
       " 'comment',\n",
       " 'czech',\n",
       " 'thanks',\n",
       " 'paleontologist',\n",
       " 'also',\n",
       " 'bigfoot',\n",
       " 'also',\n",
       " 'chart',\n",
       " 'hahahaha',\n",
       " 'have',\n",
       " 'conformity',\n",
       " 'hi',\n",
       " 'should',\n",
       " 'sandbox',\n",
       " 'heh',\n",
       " 'ahh',\n",
       " 'ok',\n",
       " 'on',\n",
       " 'the',\n",
       " 'sorry',\n",
       " 'tcm',\n",
       " 'well',\n",
       " 'a',\n",
       " 'meivazhi',\n",
       " 'though',\n",
       " 'yeah',\n",
       " 'image',\n",
       " 'a',\n",
       " 'lmao',\n",
       " 'december',\n",
       " 'new',\n",
       " 'reply',\n",
       " 'p',\n",
       " 'the',\n",
       " 'opinion',\n",
       " 'azari',\n",
       " 'userbox',\n",
       " 'if',\n",
       " 'from',\n",
       " 'socialistm',\n",
       " 'sorry',\n",
       " 'the',\n",
       " 'pd',\n",
       " 'we',\n",
       " 'military',\n",
       " 'between',\n",
       " 'your',\n",
       " 'once',\n",
       " 'unblock',\n",
       " 'attribute',\n",
       " 'actually',\n",
       " 'katelyn',\n",
       " 'fradulent',\n",
       " 'that',\n",
       " 'july',\n",
       " 'and',\n",
       " 'hi',\n",
       " 'you',\n",
       " 'it',\n",
       " 'a',\n",
       " 'note',\n",
       " 'friesers',\n",
       " 'oh',\n",
       " 'lois',\n",
       " 'know',\n",
       " 'i',\n",
       " 'may',\n",
       " 'sorry',\n",
       " 'reply',\n",
       " 'august',\n",
       " 'you',\n",
       " 'eta',\n",
       " 'new',\n",
       " 'december',\n",
       " 'please',\n",
       " 'correct',\n",
       " 'i',\n",
       " 'george',\n",
       " 'sorry',\n",
       " 'absolutely',\n",
       " 'i',\n",
       " 'editor',\n",
       " 'about',\n",
       " 'sockpuppets',\n",
       " 'oh',\n",
       " 'review',\n",
       " 'i',\n",
       " 'homosexual',\n",
       " 'al',\n",
       " 'link',\n",
       " 'your',\n",
       " 'reliable',\n",
       " 'i',\n",
       " 'a',\n",
       " 'i',\n",
       " 'give',\n",
       " 'invite',\n",
       " 'i',\n",
       " 'say',\n",
       " 'i',\n",
       " 'fuck',\n",
       " 'attack',\n",
       " 'please',\n",
       " 'randroide',\n",
       " 'hence',\n",
       " 'pirate',\n",
       " 'and',\n",
       " 'kill',\n",
       " 'new',\n",
       " 'regard',\n",
       " 'december',\n",
       " 'you',\n",
       " 'i',\n",
       " 'please',\n",
       " 'an',\n",
       " 'i',\n",
       " 'very',\n",
       " 'http',\n",
       " 'the',\n",
       " 'i',\n",
       " 'burn',\n",
       " 'decesed',\n",
       " 'fatima',\n",
       " 'i',\n",
       " 'please',\n",
       " 'well',\n",
       " 'i',\n",
       " 'u',\n",
       " 'it',\n",
       " 'deletion',\n",
       " 'listas',\n",
       " 'bad',\n",
       " 'more',\n",
       " 'hi',\n",
       " 'it',\n",
       " 'thanks',\n",
       " 'and',\n",
       " 'and',\n",
       " 'it',\n",
       " 'some',\n",
       " 'yes',\n",
       " 'anyone',\n",
       " 'gore',\n",
       " 'pls',\n",
       " 'neither',\n",
       " 'a',\n",
       " 'for',\n",
       " 'same',\n",
       " 'y',\n",
       " 'thanks',\n",
       " 'if',\n",
       " 'i',\n",
       " 'citation',\n",
       " 'education',\n",
       " 'until',\n",
       " 'we',\n",
       " 'could',\n",
       " 'atheism',\n",
       " 'you',\n",
       " 'you',\n",
       " 'thanks',\n",
       " 'german',\n",
       " 'i',\n",
       " 'i',\n",
       " 'i',\n",
       " 'block',\n",
       " 'i',\n",
       " 'hey',\n",
       " 'i',\n",
       " 'change',\n",
       " 'utc',\n",
       " 'because',\n",
       " 'yes',\n",
       " 'get',\n",
       " 'keep',\n",
       " 'and',\n",
       " 'the',\n",
       " 'level',\n",
       " 'i',\n",
       " 'another',\n",
       " 'article',\n",
       " 'i',\n",
       " 'yes',\n",
       " 'i',\n",
       " 'this',\n",
       " 'it',\n",
       " 'image',\n",
       " 'fuck',\n",
       " 'how',\n",
       " 'well',\n",
       " 'orangemike',\n",
       " 'window',\n",
       " 'btw',\n",
       " 'i',\n",
       " 'shiny',\n",
       " 'will',\n",
       " 'thanks',\n",
       " 'appearance',\n",
       " 'cu',\n",
       " 'per',\n",
       " 'i',\n",
       " 'fuck',\n",
       " 'sorry',\n",
       " 'february',\n",
       " 'best',\n",
       " 'i',\n",
       " 'please',\n",
       " 'keep',\n",
       " 'the',\n",
       " 'over',\n",
       " 's',\n",
       " 'the',\n",
       " 'to',\n",
       " 'matt',\n",
       " 'lol',\n",
       " 'mfd',\n",
       " 'redirect',\n",
       " 'who',\n",
       " 'http',\n",
       " 'god',\n",
       " 'hello',\n",
       " 'i',\n",
       " 'unsure',\n",
       " 'marvin',\n",
       " 'have',\n",
       " 'rfa',\n",
       " 'when',\n",
       " 'this',\n",
       " 'rr',\n",
       " 'i',\n",
       " 'yes',\n",
       " 'thank',\n",
       " 'yes',\n",
       " 'fuck',\n",
       " 'yes',\n",
       " 'okay',\n",
       " 'north',\n",
       " 'the',\n",
       " 'jayjg',\n",
       " 'no',\n",
       " 'future',\n",
       " 'in',\n",
       " 'that',\n",
       " 'okay',\n",
       " 'there',\n",
       " 'after',\n",
       " 'i',\n",
       " 'i',\n",
       " 'ok',\n",
       " 'oppose',\n",
       " 'history',\n",
       " 'please',\n",
       " 'i',\n",
       " 'are',\n",
       " 'congratulation',\n",
       " 'paula',\n",
       " 'it',\n",
       " 'hate',\n",
       " 'page',\n",
       " 'your',\n",
       " 'npov',\n",
       " 'upgrade',\n",
       " 'a',\n",
       " 'ok',\n",
       " 'pov',\n",
       " 'redirect',\n",
       " 'wp',\n",
       " 'be',\n",
       " 'the',\n",
       " 'what',\n",
       " 'redirect',\n",
       " 'just',\n",
       " 'some',\n",
       " 'the',\n",
       " 'ho',\n",
       " 'i',\n",
       " 'hey',\n",
       " 'and',\n",
       " 'be',\n",
       " 'they',\n",
       " 'april',\n",
       " 'dear',\n",
       " 'you',\n",
       " 'peter',\n",
       " 'rfc',\n",
       " 'i',\n",
       " 'and',\n",
       " 'canon',\n",
       " 'capitalization',\n",
       " 'see',\n",
       " 'if',\n",
       " 'please',\n",
       " 'rant',\n",
       " 'hi',\n",
       " 'a',\n",
       " 'i',\n",
       " 'i',\n",
       " 'and',\n",
       " 'this',\n",
       " 'merge',\n",
       " 'everywhere',\n",
       " 'i',\n",
       " 'hi',\n",
       " 'support',\n",
       " 'thank',\n",
       " 'bulgars',\n",
       " 'you',\n",
       " 'mckinsey',\n",
       " 'message',\n",
       " 'thanks',\n",
       " 'well',\n",
       " 'salutation',\n",
       " 'be',\n",
       " 'leadbeater',\n",
       " 'quote',\n",
       " 'the',\n",
       " 'mark',\n",
       " 'i',\n",
       " 'gay',\n",
       " 'unfortunately',\n",
       " 'looks',\n",
       " 'perhaps',\n",
       " 'except',\n",
       " 'right',\n",
       " 'perhaps',\n",
       " 'it',\n",
       " 'i',\n",
       " 'ha',\n",
       " 'fuck',\n",
       " 'thanks',\n",
       " 'yes',\n",
       " 'hi',\n",
       " 'please',\n",
       " 'men',\n",
       " 'there',\n",
       " 'that',\n",
       " 'utc',\n",
       " 'and',\n",
       " 'yobot',\n",
       " 'bias',\n",
       " 'add',\n",
       " 'smer',\n",
       " 'utc',\n",
       " 'i',\n",
       " 'i',\n",
       " 'a',\n",
       " 'great',\n",
       " 'queen',\n",
       " 'january',\n",
       " 'unspecified',\n",
       " 'percent',\n",
       " 'support',\n",
       " 'apparently',\n",
       " 'newsletter',\n",
       " 'should',\n",
       " 'be',\n",
       " 'stay',\n",
       " 'anthony',\n",
       " 'thanks',\n",
       " 'more',\n",
       " 'stop',\n",
       " 'oppose',\n",
       " 'maybe',\n",
       " 'thanks',\n",
       " 'hello',\n",
       " 'f',\n",
       " 'a',\n",
       " 'oh',\n",
       " 'wrong',\n",
       " 'mark',\n",
       " 'can',\n",
       " 'in',\n",
       " 'well',\n",
       " 'tfd',\n",
       " 'artpop',\n",
       " 'crown',\n",
       " 'hamish',\n",
       " 'my',\n",
       " 'die',\n",
       " 'august',\n",
       " 'link',\n",
       " 'it',\n",
       " 'go',\n",
       " 'the',\n",
       " 'sarek',\n",
       " 'keep',\n",
       " 'nazi',\n",
       " 'interest',\n",
       " 'the',\n",
       " 'protect',\n",
       " 'hello',\n",
       " 'my',\n",
       " 'i',\n",
       " 'anytime',\n",
       " 'meet',\n",
       " 'globalization',\n",
       " 'he',\n",
       " 'and',\n",
       " 'to',\n",
       " 'belarus',\n",
       " 'censorship',\n",
       " 'if',\n",
       " 'thanks',\n",
       " 'it',\n",
       " 'i',\n",
       " 'agreed',\n",
       " 'vandalism',\n",
       " 'baer',\n",
       " 'i',\n",
       " 'hello',\n",
       " 'dictionary',\n",
       " 'apparently',\n",
       " 'while',\n",
       " 'december',\n",
       " 'i',\n",
       " 'excellent',\n",
       " 'how',\n",
       " 'afican',\n",
       " 'you',\n",
       " 'all',\n",
       " 'ok',\n",
       " 'sitush',\n",
       " 'december',\n",
       " 'november',\n",
       " 'ok',\n",
       " 'where',\n",
       " 'again',\n",
       " 'i',\n",
       " 'elvis',\n",
       " 'please',\n",
       " 'elizabeth',\n",
       " 'hi',\n",
       " 'welcome',\n",
       " 'i',\n",
       " 'be',\n",
       " 'that',\n",
       " 'the',\n",
       " 'comment',\n",
       " 'it',\n",
       " 'tim',\n",
       " 'no',\n",
       " 'sprecher',\n",
       " 'ipad',\n",
       " 'speedy',\n",
       " 'image',\n",
       " 'the',\n",
       " 'nope',\n",
       " 'the',\n",
       " 'boze',\n",
       " 'imdb',\n",
       " 'i',\n",
       " 'y',\n",
       " 'yes',\n",
       " 'i',\n",
       " 'vince',\n",
       " 'summary',\n",
       " 'it',\n",
       " 'whoever',\n",
       " 'a',\n",
       " 'can',\n",
       " 'sorry',\n",
       " 'we',\n",
       " 'large',\n",
       " 'at',\n",
       " 'you',\n",
       " 'meter',\n",
       " 'you',\n",
       " 'please',\n",
       " 'what',\n",
       " 'utc',\n",
       " 'remove',\n",
       " 'you',\n",
       " 'recaptcha',\n",
       " 'question',\n",
       " 'infobox',\n",
       " 'show',\n",
       " 'why',\n",
       " 'castro',\n",
       " 'antonov',\n",
       " 'another',\n",
       " 'i',\n",
       " 'redirect',\n",
       " 'i',\n",
       " 'for',\n",
       " 'this',\n",
       " 'macedonian',\n",
       " 'if',\n",
       " 'part',\n",
       " 'cfd',\n",
       " 'i',\n",
       " 'all',\n",
       " 'are',\n",
       " 'it',\n",
       " 'hello',\n",
       " 'i',\n",
       " 'when',\n",
       " 'that',\n",
       " 'your',\n",
       " 'two',\n",
       " 'dislike',\n",
       " 'the',\n",
       " 'user',\n",
       " 'i',\n",
       " 'i',\n",
       " 'direct',\n",
       " 'title',\n",
       " 'noel',\n",
       " 'warn',\n",
       " 'should',\n",
       " 'thank',\n",
       " 'please',\n",
       " 'i',\n",
       " 'use',\n",
       " 'however',\n",
       " 'first',\n",
       " 'pretty',\n",
       " 'seem',\n",
       " 'don',\n",
       " 'edit',\n",
       " 'welcome',\n",
       " 'gurch',\n",
       " 'it',\n",
       " 'you',\n",
       " 'season',\n",
       " 'philosopher',\n",
       " 'wp',\n",
       " 'january',\n",
       " 'you',\n",
       " 'see',\n",
       " 'i',\n",
       " 'curse',\n",
       " 'hahaha',\n",
       " 'block',\n",
       " 'and',\n",
       " 'deletion',\n",
       " 'thank',\n",
       " 'well',\n",
       " 'nigel',\n",
       " 'edit',\n",
       " 'nobody',\n",
       " 'i',\n",
       " 'i',\n",
       " 'you',\n",
       " 'holocaust',\n",
       " 'wikipedia',\n",
       " 'censorship',\n",
       " 'april',\n",
       " 'request',\n",
       " 'i',\n",
       " 'i',\n",
       " 'wikipedia',\n",
       " 'hebrew',\n",
       " 'which',\n",
       " 'did',\n",
       " 'you',\n",
       " 'class',\n",
       " 'i',\n",
       " 'welcome',\n",
       " 'stradbroke',\n",
       " 'agf',\n",
       " 'accent',\n",
       " 'delete',\n",
       " 'actually',\n",
       " 'i',\n",
       " 'please',\n",
       " 'precede',\n",
       " 'or',\n",
       " 'you',\n",
       " 'a',\n",
       " 'procedure',\n",
       " 'add',\n",
       " 'please',\n",
       " 'i',\n",
       " 'oh',\n",
       " 'june',\n",
       " 'terri',\n",
       " 'ok',\n",
       " 'past',\n",
       " 'simpson',\n",
       " 'help',\n",
       " 'looks',\n",
       " 'the',\n",
       " 'review',\n",
       " 'regard',\n",
       " 'come',\n",
       " 'i',\n",
       " 'why',\n",
       " 'i',\n",
       " 'regard',\n",
       " 'matt',\n",
       " 'okay',\n",
       " 'valerie',\n",
       " 'shamash',\n",
       " 'i',\n",
       " 'october',\n",
       " 'what',\n",
       " 'agreed',\n",
       " 'hello',\n",
       " 'american',\n",
       " 'regard',\n",
       " 'you',\n",
       " 'the',\n",
       " 'he',\n",
       " 'dar',\n",
       " 'i',\n",
       " 'dxraw',\n",
       " 'this',\n",
       " 'do',\n",
       " 'kudos',\n",
       " 'welcome',\n",
       " 'the',\n",
       " 'don',\n",
       " 'howd',\n",
       " 'i',\n",
       " 'by',\n",
       " 'you',\n",
       " 'fine',\n",
       " 'amber',\n",
       " 'kosovo',\n",
       " 'of',\n",
       " 'i',\n",
       " 'muslim',\n",
       " 'width',\n",
       " 'august',\n",
       " 'pkk',\n",
       " 'omd',\n",
       " 'try',\n",
       " 'ricky',\n",
       " 'triple',\n",
       " 'if',\n",
       " 'a',\n",
       " 'what',\n",
       " 'thanks',\n",
       " 'no',\n",
       " 'celebrity',\n",
       " 'you',\n",
       " 'tm',\n",
       " 'sofia',\n",
       " 'would',\n",
       " 'decline',\n",
       " 'weatherman',\n",
       " 'non',\n",
       " 'i',\n",
       " 'dispatch',\n",
       " 'i',\n",
       " 'here',\n",
       " 'your',\n",
       " 'listas',\n",
       " 'so',\n",
       " 'speedy',\n",
       " 'will',\n",
       " 'request',\n",
       " 'i',\n",
       " 'greek',\n",
       " 'where',\n",
       " 'oh',\n",
       " 'no',\n",
       " 'ga',\n",
       " 'for',\n",
       " 'afd',\n",
       " 'organization',\n",
       " 'action',\n",
       " 'dean',\n",
       " 'woopsies',\n",
       " 'for',\n",
       " 'why',\n",
       " 'gift',\n",
       " 'i',\n",
       " 'no',\n",
       " 'my',\n",
       " 'try',\n",
       " 'unsourced',\n",
       " 'your',\n",
       " 'when',\n",
       " 'we',\n",
       " 'i',\n",
       " 'hello',\n",
       " 'other',\n",
       " 'a',\n",
       " 'some',\n",
       " 'refer',\n",
       " 'mevins',\n",
       " 'they',\n",
       " 'i',\n",
       " 'although',\n",
       " 'do',\n",
       " 'the',\n",
       " 'excellent',\n",
       " 'content',\n",
       " 'ditto',\n",
       " 'be',\n",
       " 'fuck',\n",
       " 'i',\n",
       " 'please',\n",
       " 'dect',\n",
       " 'i',\n",
       " 'you',\n",
       " 'user',\n",
       " 'thanks',\n",
       " 'which',\n",
       " 'alex',\n",
       " 'in',\n",
       " 'the',\n",
       " 'amazing',\n",
       " 'groin',\n",
       " 'may',\n",
       " 'video',\n",
       " 'palmisano',\n",
       " 'history',\n",
       " 'massacre',\n",
       " 'july',\n",
       " 'notice',\n",
       " 'barn',\n",
       " 'may',\n",
       " 'two',\n",
       " 'hi',\n",
       " 'he',\n",
       " 'here',\n",
       " 'aug',\n",
       " 'just',\n",
       " 'oh',\n",
       " 'what',\n",
       " 'rajput',\n",
       " 'if',\n",
       " 'word',\n",
       " 'at',\n",
       " 'just',\n",
       " 'thank',\n",
       " 'the',\n",
       " 'gba',\n",
       " 'propose',\n",
       " 'no',\n",
       " 'the',\n",
       " 'redirect',\n",
       " 'no',\n",
       " 'why',\n",
       " 'therefore',\n",
       " 'user',\n",
       " 'not',\n",
       " 'im',\n",
       " 'chicadee',\n",
       " 'p',\n",
       " 'ohhh',\n",
       " 'new',\n",
       " 'bunchofgrapes',\n",
       " 'and',\n",
       " 'wow',\n",
       " 'glen',\n",
       " 'parody',\n",
       " 'pandur',\n",
       " 'i',\n",
       " 'no',\n",
       " 'i',\n",
       " 'replacement',\n",
       " 'ok',\n",
       " 'hello',\n",
       " 'i',\n",
       " 'he',\n",
       " 'so',\n",
       " 'so',\n",
       " 'beauty',\n",
       " 'on',\n",
       " 'no',\n",
       " 'please',\n",
       " 'alyssa',\n",
       " 'rom',\n",
       " 'fuck',\n",
       " 'in',\n",
       " 'after',\n",
       " 'wow',\n",
       " 'it',\n",
       " 'lamia',\n",
       " 'i',\n",
       " 'i',\n",
       " 'padua',\n",
       " 'ion',\n",
       " 'you',\n",
       " 'ok',\n",
       " 'that',\n",
       " 'the',\n",
       " 'could',\n",
       " 'mediation',\n",
       " 'well',\n",
       " 'the',\n",
       " 'wikipedia',\n",
       " 'flexpay',\n",
       " 'no',\n",
       " 'if',\n",
       " 'i',\n",
       " 'najib',\n",
       " 'lol',\n",
       " 'cfr',\n",
       " 'lead',\n",
       " 'unblock',\n",
       " 'if',\n",
       " 'the',\n",
       " 'try',\n",
       " 'actually',\n",
       " 'i',\n",
       " 'i',\n",
       " 'that',\n",
       " 'the',\n",
       " 'chill',\n",
       " 'a',\n",
       " 'added',\n",
       " 'no',\n",
       " 'batman',\n",
       " 'geometry',\n",
       " 'exactly',\n",
       " 'please',\n",
       " 'that',\n",
       " 'that',\n",
       " 'you',\n",
       " 'furthermore',\n",
       " 'wikipedia',\n",
       " 'they',\n",
       " 'in',\n",
       " 'that',\n",
       " 'that',\n",
       " 'french',\n",
       " 'why',\n",
       " 'davkal',\n",
       " 'thanks',\n",
       " 'transistor',\n",
       " 'i',\n",
       " 'the',\n",
       " 'hmmm',\n",
       " 'this',\n",
       " 'feather',\n",
       " 'bakan',\n",
       " 'message',\n",
       " 'trivia',\n",
       " 'might',\n",
       " 'speedy',\n",
       " 'your',\n",
       " 'speak',\n",
       " 'our',\n",
       " 'speedy',\n",
       " 'plus',\n",
       " 'unblock',\n",
       " 'i',\n",
       " 'you',\n",
       " 'thanks',\n",
       " 'for',\n",
       " 'you',\n",
       " 'the',\n",
       " 'fisherqueen',\n",
       " 'so',\n",
       " 'have',\n",
       " 'nevermind',\n",
       " 'i',\n",
       " 'a',\n",
       " 'please',\n",
       " 'delete',\n",
       " 'millinos',\n",
       " 'just',\n",
       " 'er',\n",
       " 'raffaele',\n",
       " 'yes',\n",
       " 'seriously',\n",
       " 'fu',\n",
       " 'some',\n",
       " 'you',\n",
       " 'sr',\n",
       " 'you',\n",
       " 'a',\n",
       " 'rather',\n",
       " 'the',\n",
       " 'no',\n",
       " 'okay',\n",
       " 'haha',\n",
       " 'leave',\n",
       " 'bloc',\n",
       " 'peta',\n",
       " 'please',\n",
       " 'august',\n",
       " 'email',\n",
       " 'it',\n",
       " 'perhaps',\n",
       " 'other',\n",
       " 'i',\n",
       " 'ooooh',\n",
       " 'omg',\n",
       " 'i',\n",
       " 'hi',\n",
       " 'it',\n",
       " 'april',\n",
       " 'i',\n",
       " 'this',\n",
       " ...)"
      ]
     },
     "execution_count": 113,
     "metadata": {},
     "output_type": "execute_result"
    }
   ],
   "source": [
    "tokens = (df_cloud['tokens'].tolist())\n",
    "tokens = list(zip(*tokens))[0]\n",
    "tokens"
   ]
  },
  {
   "cell_type": "code",
   "execution_count": 115,
   "metadata": {},
   "outputs": [
    {
     "data": {
      "text/plain": [
       "<Text: explanation d hey more you congratulation cocksucker your...>"
      ]
     },
     "execution_count": 115,
     "metadata": {},
     "output_type": "execute_result"
    }
   ],
   "source": [
    "text = nltk.Text(tokens)\n",
    "text"
   ]
  },
  {
   "cell_type": "code",
   "execution_count": 116,
   "metadata": {},
   "outputs": [
    {
     "data": {
      "text/plain": [
       "FreqDist({'i': 15583, 'the': 4936, 'you': 4449, 'please': 3430, 'it': 2744, 'this': 2325, 'thanks': 2307, 'a': 2016, 'hi': 1765, 'no': 1709, ...})"
      ]
     },
     "execution_count": 116,
     "metadata": {},
     "output_type": "execute_result"
    }
   ],
   "source": [
    "fdist = FreqDist(text)\n",
    "fdist"
   ]
  },
  {
   "cell_type": "code",
   "execution_count": 117,
   "metadata": {},
   "outputs": [],
   "source": [
    "filtered_words = [word for word in tokens if word not in stopwords.words('english')]"
   ]
  },
  {
   "cell_type": "code",
   "execution_count": 118,
   "metadata": {},
   "outputs": [
    {
     "data": {
      "text/plain": [
       "<Text: explanation hey congratulation cocksucker sorry alignment fair bbq...>"
      ]
     },
     "execution_count": 118,
     "metadata": {},
     "output_type": "execute_result"
    }
   ],
   "source": [
    "filtered_words = nltk.Text(filtered_words)\n",
    "filtered_words"
   ]
  },
  {
   "cell_type": "code",
   "execution_count": 119,
   "metadata": {},
   "outputs": [
    {
     "data": {
      "text/plain": [
       "FreqDist({'please': 3430, 'thanks': 2307, 'hi': 1765, 'thank': 1423, 'redirect': 1372, 'well': 1360, 'yes': 1130, 'hello': 1121, 'hey': 1086, 'ok': 947, ...})"
      ]
     },
     "execution_count": 119,
     "metadata": {},
     "output_type": "execute_result"
    }
   ],
   "source": [
    "filtered = FreqDist(filtered_words)\n",
    "filtered"
   ]
  },
  {
   "cell_type": "code",
   "execution_count": 123,
   "metadata": {},
   "outputs": [],
   "source": [
    "%matplotlib inline"
   ]
  },
  {
   "cell_type": "code",
   "execution_count": 134,
   "metadata": {},
   "outputs": [
    {
     "data": {
      "image/png": "[encoded data removed]",
      "text/plain": [
       "<Figure size 640x480 with 1 Axes>"
      ]
     },
     "metadata": {},
     "output_type": "display_data"
    },
    {
     "data": {
      "text/plain": [
       "<AxesSubplot:xlabel='Samples', ylabel='Counts'>"
      ]
     },
     "execution_count": 134,
     "metadata": {},
     "output_type": "execute_result"
    }
   ],
   "source": [
    "filtered.plot(30,cumulative=False)"
   ]
  },
  {
   "cell_type": "markdown",
   "metadata": {},
   "source": [
    "### Обучение для TF-IDF"
   ]
  },
  {
   "cell_type": "markdown",
   "metadata": {},
   "source": [
    "#### Разбиение данных"
   ]
  },
  {
   "cell_type": "markdown",
   "metadata": {},
   "source": [
    "<div class=\"alert alert-warning\">\n",
    "<font size=\"5\"><b>Комментарий ревьюера</b></font>\n",
    "\n",
    "Совет: \n",
    "\n",
    "\n",
    "\n",
    "Чтобы получить хорошую метрику в данном проекте важно использовать весь датсет (логистичечкая регрессия, SVM + полный датасет, даст лучше и быстрее результат, чем медленные \"деревянные\" модели с усеченным датасетом). Если не хватает мощности ядро обрушивается,  то тут часто проблема в использовании unicode, убираем и все бежит веселей, если и это не помогает ничего не поделать, тут студент сам смотрит что у него и как ) \n",
    "\n",
    "\n",
    "\n",
    "</div>\n"
   ]
  },
  {
   "cell_type": "markdown",
   "metadata": {},
   "source": [
    "<div class=\"alert alert-info\"> <b>Комментарий студента:</b> Я ограничил, чтобы на ревью долго не считало. Так как вектора на полном считаются 30 минут, лес 25 и т.д. Т.к. я в целом показал работоспособность кода, я убираю ограничение датасета для TF-IDF (кроме BERTa, потому что BERT и по 8 часов считал, и не выдавал ответ. Но ядро не рушил)."
   ]
  },
  {
   "cell_type": "code",
   "execution_count": 40,
   "metadata": {},
   "outputs": [],
   "source": [
    "features_train_lem, features_test_lem, target_train_lem, target_test_lem = train_test_split( #создаем 4 датасета, два признаков (тест+валидация) и два целевых, \n",
    "    df_lem.drop(columns='toxic'), #для датасетов признаков удаляем целевой\n",
    "    df_lem['toxic'], #для целевого оставляем только целевой\n",
    "    test_size=0.2, #с соотношением \n",
    "    random_state=RANDOM_STATE, #с заданной опорой для рандома \n",
    "    stratify= df_lem['toxic']) #с заданной стратификацией по целевому признаку"
   ]
  },
  {
   "cell_type": "markdown",
   "metadata": {},
   "source": [
    "<div class=\"alert alert-success\">\n",
    "<font size=\"5\"><b>Комментарий ревьюера</b></font>\n",
    "\n",
    "Успех:\n",
    "\n",
    "\n",
    "- random_state на месте\n",
    "\n",
    "\n",
    "- правильно разбил на 2 выборки (иногда студенты использующие GS разбивают на 3 датасета)\n",
    "\n",
    "    \n",
    "- здорово что используешь stratify    \n",
    "\n",
    "\n",
    "\n"
   ]
  },
  {
   "cell_type": "markdown",
   "metadata": {},
   "source": [
    "#### Вводим стоп слова"
   ]
  },
  {
   "attachments": {},
   "cell_type": "markdown",
   "metadata": {},
   "source": [
    "Стоп-слова были введены ранее, в пункте \"Облако слов\"."
   ]
  },
  {
   "cell_type": "code",
   "execution_count": 41,
   "metadata": {},
   "outputs": [],
   "source": [
    "# stop_words = set(stopwords.words('english')) "
   ]
  },
  {
   "cell_type": "markdown",
   "metadata": {},
   "source": [
    "Стоп слова - слова, не несущие смысловой нагрузки. Они не должны влиять на обучение."
   ]
  },
  {
   "cell_type": "markdown",
   "metadata": {},
   "source": [
    "<div class=\"alert alert-success\">\n",
    "<font size=\"5\"><b>Комментарий ревьюера</b></font>\n",
    "\n",
    "Успех:\n",
    "\n",
    "\n",
    "Не забыли о стопсловах, они ни к чему и код побежит быстрей\n",
    "\n",
    "    \n",
    "<div class=\"alert alert-warning\">\n",
    "\n",
    "\n",
    "Совет:     \n",
    "\n",
    "Вопросик:\n",
    "\n",
    "А стопслова важней убирать  когда мы используем TF-IDF, или когда используе обычный CountVectorizer? \n",
    "\n"
   ]
  },
  {
   "cell_type": "markdown",
   "metadata": {},
   "source": [
    "<div class=\"alert alert-info\"> <b>Комментарий студента:</b> Могу ошибаться, но, наверное при обычном CountVectorizer важнее. Т.к. метод TF-IDF использует частоту упоминаний в каждой строке и упоминания во всем корпусе, тогда слова I, a, различные предлоги и др. будут иметь меньший вес, и будут меньше влиять, чем уникальные слова. При CountVectorizer такой градации нет, поэтому оставленные в тексте стоп-слова будут влиять на обучение так же, как уникальные и редкие слова.</div>"
   ]
  },
  {
   "cell_type": "markdown",
   "metadata": {},
   "source": [
    "#### Мешки слов"
   ]
  },
  {
   "cell_type": "markdown",
   "metadata": {},
   "source": [
    "Создадим счётчик, далее передаём счётчику корпус текстов. Для этого вызовем `fit_transform()`. \n",
    "\n",
    "Счётчик выделит из корпуса уникальные слова и посчитает количество их вхождений в каждом тексте корпуса. Отдельные буквы счётчик как слова не учитывает."
   ]
  },
  {
   "cell_type": "code",
   "execution_count": 70,
   "metadata": {},
   "outputs": [
    {
     "data": {
      "text/plain": [
       "(1600, 9522)"
      ]
     },
     "execution_count": 70,
     "metadata": {},
     "output_type": "execute_result"
    }
   ],
   "source": [
    "corpus_train = features_train_lem['lemma'].values #создаем корпус текстов\n",
    "count_tf_idf_train = TfidfVectorizer(stop_words=stop_words) #создаем счетчик величин TF-IDF, с учетом стоп слов\n",
    "tf_idf_train = count_tf_idf_train.fit_transform(corpus_train) #передаем счётчику корпус текстов (fit запускается только на обучающей выборке)\n",
    "tf_idf_train.shape"
   ]
  },
  {
   "cell_type": "markdown",
   "metadata": {},
   "source": [
    "<div class=\"alert alert-danger\">\n",
    "<font size=\"5\"><b>Комментарий ревьюера</b></font>\n",
    "\n",
    "Ошибка:\n",
    "\n",
    "\n",
    "\n",
    "Да, в тренажере был текст на кирилице, там перевод в unicode оправдан. В нашем случае (латиница) это лишь  увеличит количество потребляемой памяти и это в лучшем случаи, в худшем он обрушает ядро.\n",
    "\n",
    "\n",
    "\n",
    "\n",
    "\n",
    "</div>"
   ]
  },
  {
   "cell_type": "code",
   "execution_count": 65,
   "metadata": {},
   "outputs": [],
   "source": [
    "# count_tf_idf_train.get_feature_names() #посмотреть словарь уникальных слов"
   ]
  },
  {
   "cell_type": "markdown",
   "metadata": {},
   "source": [
    "Аналогичным образом работаем и с тестовой выборкой. Единственное отличие - `transform` для теста не обучается."
   ]
  },
  {
   "cell_type": "code",
   "execution_count": 71,
   "metadata": {},
   "outputs": [
    {
     "data": {
      "text/plain": [
       "(400, 9522)"
      ]
     },
     "execution_count": 71,
     "metadata": {},
     "output_type": "execute_result"
    }
   ],
   "source": [
    "corpus_test = features_test_lem['lemma'].values\n",
    "tf_idf_test = count_tf_idf_train.transform(corpus_test)\n",
    "tf_idf_test.shape"
   ]
  },
  {
   "cell_type": "markdown",
   "metadata": {},
   "source": [
    "Данные предобработаны, можно переходить к обучению."
   ]
  },
  {
   "cell_type": "markdown",
   "metadata": {},
   "source": [
    "<div class=\"alert alert-warning\">\n",
    "<font size=\"5\"><b>Комментарий ревьюера</b></font>\n",
    "\n",
    "Совет:\n",
    "\n",
    "\n",
    "- .fit_transform на train датасете, .transform на test/valid. Вроде все верно, но после ты подаешь tf_idf_train в GridSearchCV или cross_val_score и он внутри себя разбивая его на тренировочный и валидационный датасет, получается подглядывание в будущее (утечка данных). Решение в использовании pipeline, ниже распишу\n",
    "\n",
    "\n",
    "\n",
    "\n",
    "\n"
   ]
  },
  {
   "cell_type": "markdown",
   "metadata": {},
   "source": [
    "### Обучение"
   ]
  },
  {
   "cell_type": "markdown",
   "metadata": {},
   "source": [
    "#### Модель логистической регрессии"
   ]
  },
  {
   "cell_type": "code",
   "execution_count": 72,
   "metadata": {},
   "outputs": [
    {
     "name": "stdout",
     "output_type": "stream",
     "text": [
      "Среднее значение метрики F1 для модели логистической регрессии с использованием кросс-валидации: 0.5550298252472166\n",
      "CPU times: user 522 ms, sys: 4.05 ms, total: 526 ms\n",
      "Wall time: 534 ms\n"
     ]
    }
   ],
   "source": [
    "%%time\n",
    "\n",
    "log_reg_lem = LogisticRegression(solver='lbfgs', random_state=RANDOM_STATE, max_iter=1000, class_weight= 'balanced') #максимальное количество итераций 1000, \n",
    "log_reg_scores_lem = cross_val_score(log_reg_lem, tf_idf_train, target_train_lem.values, scoring='f1', cv=10)\n",
    "log_reg_f1_lem = log_reg_scores_lem.mean()\n",
    "\n",
    "print(\"Среднее значение метрики F1 для модели логистической регрессии \"\\\n",
    "    \"с использованием кросс-валидации:\", log_reg_f1_lem)"
   ]
  },
  {
   "cell_type": "markdown",
   "metadata": {},
   "source": [
    "<div class=\"alert alert-warning\">\n",
    "<font size=\"5\"><b>Комментарий ревьюера</b></font>\n",
    "\n",
    "\n",
    "\n",
    "Совет 🤔:\n",
    "\n",
    "\n",
    "Логистическая регрессия показывает одни из самых высоких результатов на этом датасете (а Деревянные модели медленные, и результаты плохие), поэтому стоит поперебирать по C\n",
    "\n"
   ]
  },
  {
   "cell_type": "markdown",
   "metadata": {},
   "source": [
    "#### Модель опорных векторов"
   ]
  },
  {
   "cell_type": "code",
   "execution_count": 73,
   "metadata": {},
   "outputs": [
    {
     "name": "stdout",
     "output_type": "stream",
     "text": [
      "Среднее значение метрики F1 для модели SVC с использованием кросс-валидации: 0.42659123055162657\n",
      "CPU times: user 446 ms, sys: 153 µs, total: 446 ms\n",
      "Wall time: 446 ms\n"
     ]
    }
   ],
   "source": [
    "%%time\n",
    "\n",
    "svclassifier_lem = SVC(kernel='linear', class_weight= 'balanced') \n",
    "svclassifier_scores_lem = cross_val_score(svclassifier_lem, tf_idf_train, target_train_lem.values, scoring='f1', cv=2)\n",
    "svclassifier_f1_lem = svclassifier_scores_lem.mean()\n",
    "\n",
    "print(\"Среднее значение метрики F1 для модели SVC \"\\\n",
    "    \"с использованием кросс-валидации:\", svclassifier_f1_lem)"
   ]
  },
  {
   "cell_type": "markdown",
   "metadata": {},
   "source": [
    "#### Модель случайного леса"
   ]
  },
  {
   "cell_type": "code",
   "execution_count": 74,
   "metadata": {},
   "outputs": [
    {
     "name": "stdout",
     "output_type": "stream",
     "text": [
      "Лучшие параметры для модели случайного леса с использованием кросс-валидации: {'n_estimators': 351, 'max_depth': 1}\n",
      "Наибольшее значение метрики F1 для модели случайного леса при лучших гиперпараметрах с использованием кросс-валидации: 0.3963191467112831\n",
      "CPU times: user 31.4 s, sys: 237 ms, total: 31.7 s\n",
      "Wall time: 31.7 s\n"
     ]
    }
   ],
   "source": [
    "%%time\n",
    "\n",
    "forest_lem = RandomForestClassifier(random_state=RANDOM_STATE, class_weight= 'balanced') #модель случайного леса\n",
    "parameters = {'n_estimators': range (1, 500, 50), 'max_depth': range (1, 100, 10)} #перебор гиперпараметров\n",
    "#применение метода гридсёрч со встроенной кросс-валидацией к модели леса с перебором указанных параметров\n",
    "\n",
    "randomized_forest_lem = RandomizedSearchCV(forest_lem, n_iter=15, param_distributions= parameters, scoring='f1', n_jobs= -2, cv=2)\n",
    "#обучение модели\n",
    "randomized_forest_lem.fit(tf_idf_train, target_train_lem.values)\n",
    "\n",
    "#лучшее значение после перебора параметров \n",
    "best_forest_lem = randomized_forest_lem.best_score_\n",
    "\n",
    "print(\"Лучшие параметры для модели случайного леса с \"\\\n",
    "    \"использованием кросс-валидации:\", randomized_forest_lem.best_params_)\n",
    "print(\"Наибольшее значение метрики F1 для модели случайного леса \"\\\n",
    "    \"при лучших гиперпараметрах с использованием кросс-валидации:\", best_forest_lem)"
   ]
  },
  {
   "cell_type": "markdown",
   "metadata": {},
   "source": [
    "#### LightGBM"
   ]
  },
  {
   "cell_type": "code",
   "execution_count": 55,
   "metadata": {},
   "outputs": [
    {
     "name": "stdout",
     "output_type": "stream",
     "text": [
      "Лучшие параметры для модели LGBMClassifier с использованием кросс-валидации: {'n_estimators': 191, 'max_depth': 61, 'learning_rate': 0.30000000000000004}\n",
      "Наибольшее значение метрики F1 для модели LGBMClassifier при лучших гиперпараметрах с использованием кросс-валидации: 0.30671891391315853\n",
      "CPU times: user 1min, sys: 963 ms, total: 1min 1s\n",
      "Wall time: 1min 1s\n"
     ]
    }
   ],
   "source": [
    "%%time\n",
    "\n",
    "lgbm_lem = lgb.LGBMClassifier(class_weight= 'balanced') #\n",
    "parameters = {'n_estimators': range (1, 500, 10), 'max_depth': range (1, 100, 5), 'learning_rate': np.arange(0.1, 0.8, 0.1)}\n",
    "#применение метода гридсёрч со встроенной кросс-валидацией\n",
    "\n",
    "rand_lgbm_lem = RandomizedSearchCV(lgbm_lem, n_iter=20, param_distributions= parameters, scoring='f1', n_jobs= -2, cv=3)\n",
    "#обучение модели\n",
    "rand_lgbm_lem.fit(tf_idf_train, target_train_lem.values)\n",
    "\n",
    "#лучшее значение после перебора параметров \n",
    "best_lgbm_lem = rand_lgbm_lem.best_score_\n",
    "\n",
    "print(\"Лучшие параметры для модели LGBMClassifier с \"\\\n",
    "    \"использованием кросс-валидации:\", rand_lgbm_lem.best_params_)\n",
    "print(\"Наибольшее значение метрики F1 для модели LGBMClassifier \"\\\n",
    "    \"при лучших гиперпараметрах с использованием кросс-валидации:\", best_lgbm_lem)"
   ]
  },
  {
   "cell_type": "markdown",
   "metadata": {},
   "source": [
    "\n",
    "\n",
    "    \n",
    "\n",
    "<div class=\"alert alert-warning\">\n",
    "<font size=\"5\"><b>Комментарий ревьюера</b></font>\n",
    "    \n",
    "    \n",
    "    \n",
    "Совет: \n",
    "\n",
    "\n",
    "\n",
    "\n",
    "Молодец что используешь GrisSearch, но в случаи TFIDF еще лучше использовать связку GridSearchCV + pipeline. \n",
    "\n",
    "\n",
    "О pipeline:\n",
    "\n",
    "[Pipeline](https://scikit-learn.org/stable/modules/generated/sklearn.pipeline.Pipeline.html), это тема которая сразу затрагивает кроссвалидацию, тюнинг \"векторайз\", подбор гиперпараметров модели и о том что код стоит делать компактным.\n",
    "    \n",
    "    \n",
    "- в TfidfVectorizer(stop_words=stopwords) у тебя по умолчанию ngram_range=(1, 1), тут можно подбирать разное число n- грамм (и другие параметры), максимизируя метрику, но как объединить перебор по ngram_range с обучением моделей, чтобы не делать это по отдельности или с использованием цикла?! pipeline! Готовый [пример для работы с текстами](https://medium.com/@yoni.levine/how-to-grid-search-with-a-pipeline-93147835d916). Всё что нужно там есть, хотя очень лаконично. Можешь погуглить по:\n",
    "\n",
    "\n",
    "    \n",
    "    pipeline nlp gridsearchcv\n",
    "\n",
    "\n",
    "\n",
    "- как избежать ошибки подглядывания в будущее, когда мы предварительно работаем с данными (шкалирование, нормализация, TfidfVectorizer итп итд)? pipeline! особенно это важно, когда мы используем кроссвалидацию. Для TfidfVectorizer делаем .fit (обучаемся) на train, а transform на test, но точно также нужно сделать для валидационной выборки. Но GS делает валидационные внутри себя, спрашивается как добраться до нее и избежать подглядывания в будущее? Казалось бы никак, но нет! Pipeline! ) \n",
    "    \n",
    "    \n",
    "- pipeline позволяет делать наш код компактней и читабельней, это большой плюс, когда код будет раздуваться     \n",
    "    \n",
    "    \n",
    "\n",
    "         \n",
    "Если раньше не использовал pipeline то могу посоветовать видео в котором [индус](https://www.youtube.com/watch?v=mOYJCR0IDk8&ab_channel=HimanshuChandra) на английском с сильным акцентом, но на пальцах обьясняет  самое непонятное (по моему опыту): сопряженность методов fit и transform. Там же есть и код и ссылка на текст. Мне помогло )\n",
    "\n",
    "\n",
    "\n",
    "В общем если сделать GS+pipeline будет вообще хорошо )  \n",
    "    \n",
    "<div>   "
   ]
  },
  {
   "cell_type": "markdown",
   "metadata": {},
   "source": [
    "### Выводы по методу TF-IDF"
   ]
  },
  {
   "cell_type": "code",
   "execution_count": 58,
   "metadata": {},
   "outputs": [
    {
     "data": {
      "text/html": [
       "<div>\n",
       "<style scoped>\n",
       "    .dataframe tbody tr th:only-of-type {\n",
       "        vertical-align: middle;\n",
       "    }\n",
       "\n",
       "    .dataframe tbody tr th {\n",
       "        vertical-align: top;\n",
       "    }\n",
       "\n",
       "    .dataframe thead th {\n",
       "        text-align: right;\n",
       "    }\n",
       "</style>\n",
       "<table border=\"1\" class=\"dataframe\">\n",
       "  <thead>\n",
       "    <tr style=\"text-align: right;\">\n",
       "      <th></th>\n",
       "      <th>Модель</th>\n",
       "      <th>Значение метрики F1</th>\n",
       "      <th>Время расчета (весь датасет)</th>\n",
       "    </tr>\n",
       "  </thead>\n",
       "  <tbody>\n",
       "    <tr>\n",
       "      <th>0</th>\n",
       "      <td>Логистическая регрессия</td>\n",
       "      <td>0.555030</td>\n",
       "      <td>~15 секунд</td>\n",
       "    </tr>\n",
       "    <tr>\n",
       "      <th>1</th>\n",
       "      <td>Модель опорных векторов</td>\n",
       "      <td>0.426591</td>\n",
       "      <td>~8 минут</td>\n",
       "    </tr>\n",
       "    <tr>\n",
       "      <th>2</th>\n",
       "      <td>Случайный лес</td>\n",
       "      <td>0.396319</td>\n",
       "      <td>~6 минут</td>\n",
       "    </tr>\n",
       "    <tr>\n",
       "      <th>3</th>\n",
       "      <td>LGBMClassifier</td>\n",
       "      <td>0.306719</td>\n",
       "      <td>~6 минут</td>\n",
       "    </tr>\n",
       "  </tbody>\n",
       "</table>\n",
       "</div>"
      ],
      "text/plain": [
       "                    Модель  Значение метрики F1 Время расчета (весь датасет)\n",
       "0  Логистическая регрессия             0.555030                   ~15 секунд\n",
       "1  Модель опорных векторов             0.426591                     ~8 минут\n",
       "2            Случайный лес             0.396319                     ~6 минут\n",
       "3           LGBMClassifier             0.306719                     ~6 минут"
      ]
     },
     "execution_count": 58,
     "metadata": {},
     "output_type": "execute_result"
    }
   ],
   "source": [
    "models = ['Логистическая регрессия', 'Модель опорных векторов', 'Случайный лес', 'LGBMClassifier']\n",
    "F1 = [log_reg_f1_lem, svclassifier_f1_lem, best_forest_lem, best_lgbm_lem]\n",
    "total_time = ['~15 секунд', '~8 минут', '~6 минут', '~6 минут']\n",
    "\n",
    "tf_result_table = pd.DataFrame({ #созаем датафрейм\n",
    "    'Модель': models, #\n",
    "    'Значение метрики F1': F1,\n",
    "    'Время расчета (весь датасет)': total_time\n",
    "}) #\n",
    "tf_result_table"
   ]
  },
  {
   "cell_type": "markdown",
   "metadata": {},
   "source": [
    "Мы получили два близких значения метрики F1 к требуемому: на логистической регрессии и на модели опорных векторов. Несмотря на то, что значение метрики для регрессии ниже требуемого, она все же может пригодиться, если нужно сделать довольно точные предсказания на скорость. Модель векторов, напротив, самая медленная из всех. Модель леса оказалась самой неточной. \n",
    "\n",
    "Единственная модель, удовлетворяющая условию - `LGBMClassifier`, дает необходимое значение метрики, к тому же предсказывает результат не дольше других моделей (а на полном наборе - быстрее других)."
   ]
  },
  {
   "cell_type": "markdown",
   "metadata": {},
   "source": [
    "### Проверяем лучшую модель"
   ]
  },
  {
   "cell_type": "markdown",
   "metadata": {},
   "source": [
    "Тестируем модель `LGBMClassifier`, которая при предобработке методом `TF-IDF`, показала себя как точную и достаточно быструю (даже с учетом перебора гиперпараметров) модель."
   ]
  },
  {
   "cell_type": "code",
   "execution_count": 57,
   "metadata": {},
   "outputs": [
    {
     "name": "stdout",
     "output_type": "stream",
     "text": [
      "Наименьшее значение метрики F1 на тестовых данных 0.4473684210526316\n",
      "CPU times: user 1.26 s, sys: 16 ms, total: 1.28 s\n",
      "Wall time: 1.27 s\n"
     ]
    }
   ],
   "source": [
    "%%time\n",
    "\n",
    "lgbm_lem_1 = rand_lgbm_lem.best_estimator_\n",
    "lgbm_lem_1.fit(tf_idf_train, target_train_lem.values)\n",
    "\n",
    "predictions_lgbm_lem_1 = lgbm_lem_1.predict(tf_idf_test)\n",
    "\n",
    "lgbm_lem_f1 = f1_score(target_test_lem, predictions_lgbm_lem_1)\n",
    "print(\"Наименьшее значение метрики F1 на тестовых данных\", lgbm_lem_f1)"
   ]
  },
  {
   "cell_type": "markdown",
   "metadata": {},
   "source": [
    "\n",
    "<div class=\"alert alert-warning\">\n",
    "<font size=\"5\"><b>Комментарий ревьюераV</b></font>\n",
    "    \n",
    "    \n",
    "Совет:\n",
    "\n",
    "\n",
    "\n",
    "\n",
    "- Не надо воспринимать  GS как способ получить .best_params_, чтобы подставить их в модель и обучить на них. GS это сделал уже и модельку положил тут: .best_estimator_\n",
    "    \n",
    "    "
   ]
  },
  {
   "cell_type": "markdown",
   "metadata": {},
   "source": [
    "<div class=\"alert alert-info\"> <b>Комментарий студента:</b> Я в восторге от этого, спасибо!</div>"
   ]
  },
  {
   "cell_type": "markdown",
   "metadata": {},
   "source": [
    "Получили значение метрики F1 в пределах 0,77."
   ]
  },
  {
   "cell_type": "markdown",
   "metadata": {},
   "source": [
    "<div class=\"alert alert-success\">\n",
    "<font size=\"5\"><b>Комментарий ревьюера</b></font>\n",
    "\n",
    "Успех: \n",
    "\n",
    "- Все верно, логика моделирования не нарушена, тут тестируем только лучшую модель отобранную на валидации, или парочку лучших, если на валидации результаты близки\n",
    "\n",
    "\n",
    "\n",
    "\n",
    "- Если студент получил на тесте f1 выше 0,75, это считается приемлемым результатом.\n",
    "\n",
    "\n",
    "<div class=\"alert alert-warning\">\n",
    "\n",
    "\n",
    "\n",
    "Совет: \n",
    "\n",
    "\n",
    "Что может помочь добиться лучшего результата для (от простого)? \n",
    "\n",
    "\n",
    "- Использовать вес датасет (для TFIDF это точно возможно) \n",
    "    \n",
    "    \n",
    "- использовать stratify Done!\n",
    "    \n",
    "\n",
    "\n",
    "- можно поиграться порогом\n",
    "   \n",
    "\n",
    "- учесть дисбаланс класов в таргете. (но не oversampling, это скользкая дорожка, через class_weight) Done!\n",
    "\n",
    "\n",
    "    \n",
    "\n",
    "\n",
    "    \n",
    "- подобрать лучшие гиперпараметры с использованием кроссвалидации (тут пригодится GridSearchCV) Done!\n",
    "    \n",
    "\n",
    "\n",
    "    \n",
    " - полезно настраивать векторайзеры и избегать утечки данных при использовании GS и предобработки данных  (тут пригодится pipeline)\n",
    "\n",
    "\n",
    "     \n",
    "\n",
    "- сгенерировать новые фичи, например  например посчитать число слов в тексте, длину слов итп итд. Или с помощью [тематического моделирования](https://pythobyte.com/python-for-nlp-topic-modeling-8fb3d689/) \n",
    "    \n",
    "    \n",
    "    \n",
    "\n",
    "\n",
    "\n",
    "- использование предбученной модели Берта, выбрав соответствующую модель и используя полученные эмбединги, даже на небольшом тренировочном датасете можно обучить модель, которая на test покажет хорошую метрику Done!\n",
    "\n",
    "</div>\n"
   ]
  },
  {
   "cell_type": "markdown",
   "metadata": {},
   "source": [
    "## Выводы"
   ]
  },
  {
   "cell_type": "markdown",
   "metadata": {},
   "source": [
    "В проекте было рассмотрено два метода обработки натурального языка, а именно:\n",
    "\n",
    "- `BERT`,\n",
    "- `TF-IDF`.\n",
    "\n",
    "Преобразовав текст для `BERT`, мы получили значение метрики, не удовлетворяющее условию, а именно, метрику F1 < 0.75. Это связано с тем, что модели обучались не на всем наборе данных, а лишь на 10%. Здесь упираемся в аппаратные ограничения и скорость обучения и перебора параметров. \n",
    "\n",
    "В методе `TF-IDF` мы добились необходимого значения метрики `F1`, для модели `LGBMClassifier`. Она же показала результат на тестовых данных равный 0.78. Здесь омодели обучались уже на всем наборе данных, что значительно увеличило значение метрики `F1`. То есть, даже если этот метод менее точен, чем `BERT` (при условии использования 100% данных), он намного менее требователен к аппаратным ресурсам и намного быстрее."
   ]
  },
  {
   "cell_type": "markdown",
   "metadata": {},
   "source": [
    "\n",
    "<div class=\"alert alert-info\">\n",
    "<font size=\"5\"><b>Комментарий ревьюера</b></font>\n",
    "\n",
    "\n",
    "\n",
    "Максим, у тебя старательно выполненная работа, все четко, осмысленно. Некоторые пункты выполнены в большем чем требуется обьеме. Логика моделирования не нарушена, GS использован корректно. Если хочешь прокачать свой скилл попробуй использовать pipeline.\n",
    "Я оставил небольшие советы и вопросики (если есть время и желание можешь воспользоваться/ответить).\n",
    "    \n",
    "\n",
    "\n",
    "\n",
    "Обязательное к исправлению:\n",
    "\n",
    "\n",
    "\n",
    "\n",
    "- .astype('U') лишнее, стоит экономить ресурсы, иначе может даже ядро обрушиться\n",
    "\n",
    "\n",
    "\n",
    "- не забываем о random_state\n",
    "   \n",
    "\n",
    "    \n",
    "    \n",
    "    \n",
    "Жду исправлений, для принятия проекта. Если какие то вопросы, то сразу спрашивай ) \n",
    "\n",
    "\n",
    "</div>\n"
   ]
  },
  {
   "cell_type": "markdown",
   "metadata": {},
   "source": [
    "## Чек-лист проверки"
   ]
  },
  {
   "cell_type": "markdown",
   "metadata": {},
   "source": [
    "- [x]  Jupyter Notebook открыт\n",
    "- [x]  Весь код выполняется без ошибок\n",
    "- [x]  Ячейки с кодом расположены в порядке исполнения\n",
    "- [x]  Данные загружены и подготовлены\n",
    "- [x]  Модели обучены\n",
    "- [x]  Значение метрики *F1* не меньше 0.75\n",
    "- [x]  Выводы написаны"
   ]
  }
 ],
 "metadata": {
  "ExecuteTimeLog": [
   {
    "duration": 4,
    "start_time": "2023-02-14T07:01:16.148Z"
   },
   {
    "duration": 2893,
    "start_time": "2023-02-14T07:01:18.097Z"
   },
   {
    "duration": 91,
    "start_time": "2023-02-14T07:01:50.689Z"
   },
   {
    "duration": 100,
    "start_time": "2023-02-14T07:02:01.288Z"
   },
   {
    "duration": 27934,
    "start_time": "2023-02-14T07:02:06.490Z"
   },
   {
    "duration": 9041,
    "start_time": "2023-02-14T07:02:46.187Z"
   },
   {
    "duration": 3,
    "start_time": "2023-02-14T07:04:36.316Z"
   },
   {
    "duration": 3,
    "start_time": "2023-02-14T07:08:16.853Z"
   },
   {
    "duration": 4,
    "start_time": "2023-02-14T07:08:18.115Z"
   },
   {
    "duration": 4,
    "start_time": "2023-02-14T07:08:19.940Z"
   },
   {
    "duration": 6646,
    "start_time": "2023-02-14T07:08:46.347Z"
   },
   {
    "duration": 2601,
    "start_time": "2023-02-14T07:09:00.819Z"
   },
   {
    "duration": 8057,
    "start_time": "2023-02-14T07:09:04.251Z"
   },
   {
    "duration": 6608,
    "start_time": "2023-02-14T07:10:20.651Z"
   },
   {
    "duration": 2771,
    "start_time": "2023-02-14T07:10:30.732Z"
   },
   {
    "duration": 738,
    "start_time": "2023-02-14T07:10:34.285Z"
   },
   {
    "duration": 8835,
    "start_time": "2023-02-14T07:10:37.396Z"
   },
   {
    "duration": 10,
    "start_time": "2023-02-14T07:12:35.677Z"
   },
   {
    "duration": 3,
    "start_time": "2023-02-14T07:12:36.197Z"
   },
   {
    "duration": 6395,
    "start_time": "2023-02-14T07:12:50.925Z"
   },
   {
    "duration": 2492,
    "start_time": "2023-02-14T07:12:58.339Z"
   },
   {
    "duration": 3,
    "start_time": "2023-02-14T07:13:01.364Z"
   },
   {
    "duration": 8869,
    "start_time": "2023-02-14T07:13:01.628Z"
   },
   {
    "duration": 6404,
    "start_time": "2023-02-14T07:18:19.239Z"
   },
   {
    "duration": 2579,
    "start_time": "2023-02-14T07:18:25.725Z"
   },
   {
    "duration": 3,
    "start_time": "2023-02-14T07:18:29.357Z"
   },
   {
    "duration": 8896,
    "start_time": "2023-02-14T07:18:30.253Z"
   },
   {
    "duration": 4,
    "start_time": "2023-02-14T07:19:44.093Z"
   },
   {
    "duration": 2528,
    "start_time": "2023-02-14T07:19:45.053Z"
   },
   {
    "duration": 9433,
    "start_time": "2023-02-14T07:19:47.974Z"
   },
   {
    "duration": 2386,
    "start_time": "2023-02-14T07:20:45.053Z"
   },
   {
    "duration": 2,
    "start_time": "2023-02-14T07:20:49.399Z"
   },
   {
    "duration": 32,
    "start_time": "2023-02-14T07:20:52.719Z"
   },
   {
    "duration": 8,
    "start_time": "2023-02-14T07:20:55.759Z"
   },
   {
    "duration": 11,
    "start_time": "2023-02-14T07:23:15.008Z"
   },
   {
    "duration": 12,
    "start_time": "2023-02-14T07:23:18.982Z"
   },
   {
    "duration": 15,
    "start_time": "2023-02-14T07:23:24.560Z"
   },
   {
    "duration": 14,
    "start_time": "2023-02-14T07:23:26.887Z"
   },
   {
    "duration": 12,
    "start_time": "2023-02-14T07:23:28.998Z"
   },
   {
    "duration": 10,
    "start_time": "2023-02-14T07:23:32.070Z"
   },
   {
    "duration": 472,
    "start_time": "2023-02-14T07:25:07.912Z"
   },
   {
    "duration": 126,
    "start_time": "2023-02-14T07:25:21.943Z"
   },
   {
    "duration": 3,
    "start_time": "2023-02-14T07:26:09.807Z"
   },
   {
    "duration": 301,
    "start_time": "2023-02-14T07:29:01.632Z"
   },
   {
    "duration": 0,
    "start_time": "2023-02-14T07:30:30.489Z"
   },
   {
    "duration": 0,
    "start_time": "2023-02-14T07:33:02.283Z"
   },
   {
    "duration": 6,
    "start_time": "2023-02-14T07:33:27.841Z"
   },
   {
    "duration": 7,
    "start_time": "2023-02-14T07:33:40.073Z"
   },
   {
    "duration": 3,
    "start_time": "2023-02-14T07:34:20.753Z"
   },
   {
    "duration": 2727,
    "start_time": "2023-02-14T07:34:20.758Z"
   },
   {
    "duration": 10419,
    "start_time": "2023-02-14T07:34:23.487Z"
   },
   {
    "duration": 2,
    "start_time": "2023-02-14T07:34:33.908Z"
   },
   {
    "duration": 2227,
    "start_time": "2023-02-14T07:34:33.913Z"
   },
   {
    "duration": 30,
    "start_time": "2023-02-14T07:34:36.142Z"
   },
   {
    "duration": 10,
    "start_time": "2023-02-14T07:34:36.174Z"
   },
   {
    "duration": 4,
    "start_time": "2023-02-14T07:34:36.186Z"
   },
   {
    "duration": 94996,
    "start_time": "2023-02-14T07:34:36.191Z"
   },
   {
    "duration": 16,
    "start_time": "2023-02-14T07:37:02.972Z"
   },
   {
    "duration": 15,
    "start_time": "2023-02-14T07:37:32.675Z"
   },
   {
    "duration": 12,
    "start_time": "2023-02-14T07:37:40.330Z"
   },
   {
    "duration": 4,
    "start_time": "2023-02-14T07:37:43.618Z"
   },
   {
    "duration": 6,
    "start_time": "2023-02-14T07:37:48.546Z"
   },
   {
    "duration": 10,
    "start_time": "2023-02-14T07:39:16.481Z"
   },
   {
    "duration": 7,
    "start_time": "2023-02-14T07:39:39.219Z"
   },
   {
    "duration": 4206,
    "start_time": "2023-02-14T07:40:17.595Z"
   },
   {
    "duration": 145,
    "start_time": "2023-02-14T07:40:43.290Z"
   },
   {
    "duration": 162,
    "start_time": "2023-02-14T07:40:50.956Z"
   },
   {
    "duration": 152,
    "start_time": "2023-02-14T07:41:01.210Z"
   },
   {
    "duration": 164,
    "start_time": "2023-02-14T07:41:07.579Z"
   },
   {
    "duration": 215,
    "start_time": "2023-02-14T07:41:27.219Z"
   },
   {
    "duration": 125,
    "start_time": "2023-02-14T07:41:37.836Z"
   },
   {
    "duration": 138,
    "start_time": "2023-02-14T07:42:01.027Z"
   },
   {
    "duration": 137,
    "start_time": "2023-02-14T07:42:12.236Z"
   },
   {
    "duration": 130,
    "start_time": "2023-02-14T07:42:17.827Z"
   },
   {
    "duration": 127,
    "start_time": "2023-02-14T07:42:21.396Z"
   },
   {
    "duration": 133,
    "start_time": "2023-02-14T07:42:51.580Z"
   },
   {
    "duration": 5,
    "start_time": "2023-02-14T07:44:11.667Z"
   },
   {
    "duration": 5,
    "start_time": "2023-02-14T07:44:17.428Z"
   },
   {
    "duration": 12,
    "start_time": "2023-02-14T07:44:43.804Z"
   },
   {
    "duration": 6,
    "start_time": "2023-02-14T07:44:54.549Z"
   },
   {
    "duration": 5,
    "start_time": "2023-02-14T07:45:08.261Z"
   },
   {
    "duration": 6,
    "start_time": "2023-02-14T07:45:18.667Z"
   },
   {
    "duration": 5,
    "start_time": "2023-02-14T08:26:54.148Z"
   },
   {
    "duration": 2097,
    "start_time": "2023-02-14T08:26:57.693Z"
   },
   {
    "duration": 13730,
    "start_time": "2023-02-14T08:27:18.853Z"
   },
   {
    "duration": 733,
    "start_time": "2023-02-14T09:19:25.746Z"
   },
   {
    "duration": 3,
    "start_time": "2023-02-14T10:18:55.728Z"
   },
   {
    "duration": 3,
    "start_time": "2023-02-14T10:18:55.952Z"
   },
   {
    "duration": 3,
    "start_time": "2023-02-14T10:19:00.984Z"
   },
   {
    "duration": 955,
    "start_time": "2023-02-14T10:19:04.503Z"
   },
   {
    "duration": 15,
    "start_time": "2023-02-14T10:19:39.697Z"
   },
   {
    "duration": 416,
    "start_time": "2023-02-14T10:19:40.985Z"
   },
   {
    "duration": 3,
    "start_time": "2023-02-14T10:19:42.674Z"
   },
   {
    "duration": 4,
    "start_time": "2023-02-14T10:19:44.928Z"
   },
   {
    "duration": 5194,
    "start_time": "2023-02-14T10:19:45.952Z"
   },
   {
    "duration": 4,
    "start_time": "2023-02-14T10:19:52.624Z"
   },
   {
    "duration": 806,
    "start_time": "2023-02-14T10:20:00.024Z"
   },
   {
    "duration": 22,
    "start_time": "2023-02-14T10:21:39.031Z"
   },
   {
    "duration": 29,
    "start_time": "2023-02-14T10:21:42.673Z"
   },
   {
    "duration": 18,
    "start_time": "2023-02-14T10:21:43.032Z"
   },
   {
    "duration": 4,
    "start_time": "2023-02-14T10:21:43.536Z"
   },
   {
    "duration": 4,
    "start_time": "2023-02-14T10:21:44.327Z"
   },
   {
    "duration": 5693,
    "start_time": "2023-02-14T10:21:44.768Z"
   },
   {
    "duration": 5,
    "start_time": "2023-02-14T10:21:50.463Z"
   },
   {
    "duration": 20,
    "start_time": "2023-02-14T10:21:55.281Z"
   },
   {
    "duration": 5,
    "start_time": "2023-02-14T10:23:22.584Z"
   },
   {
    "duration": 901,
    "start_time": "2023-02-14T10:23:23.952Z"
   },
   {
    "duration": 2,
    "start_time": "2023-02-14T10:23:37.977Z"
   },
   {
    "duration": 1025,
    "start_time": "2023-02-14T10:23:38.537Z"
   },
   {
    "duration": 3621,
    "start_time": "2023-02-14T10:24:08.911Z"
   },
   {
    "duration": 12213,
    "start_time": "2023-02-14T10:24:12.535Z"
   },
   {
    "duration": 5,
    "start_time": "2023-02-14T10:24:28.049Z"
   },
   {
    "duration": 4,
    "start_time": "2023-02-14T10:24:34.026Z"
   },
   {
    "duration": 5,
    "start_time": "2023-02-14T10:24:35.420Z"
   },
   {
    "duration": 2,
    "start_time": "2023-02-14T10:24:37.922Z"
   },
   {
    "duration": 935,
    "start_time": "2023-02-14T10:24:40.401Z"
   },
   {
    "duration": 38,
    "start_time": "2023-02-14T10:24:43.466Z"
   },
   {
    "duration": 16,
    "start_time": "2023-02-14T10:24:44.072Z"
   },
   {
    "duration": 152,
    "start_time": "2023-02-14T10:24:48.273Z"
   },
   {
    "duration": 5,
    "start_time": "2023-02-14T10:24:48.466Z"
   },
   {
    "duration": 4,
    "start_time": "2023-02-14T10:25:13.761Z"
   },
   {
    "duration": 14,
    "start_time": "2023-02-14T10:25:35.058Z"
   },
   {
    "duration": 265,
    "start_time": "2023-02-14T10:25:36.345Z"
   },
   {
    "duration": 3,
    "start_time": "2023-02-14T10:25:37.969Z"
   },
   {
    "duration": 5,
    "start_time": "2023-02-14T10:25:41.865Z"
   },
   {
    "duration": 5750,
    "start_time": "2023-02-14T10:25:43.127Z"
   },
   {
    "duration": 4,
    "start_time": "2023-02-14T10:25:48.879Z"
   },
   {
    "duration": 209,
    "start_time": "2023-02-14T10:25:56.177Z"
   },
   {
    "duration": 8,
    "start_time": "2023-02-14T10:26:14.831Z"
   },
   {
    "duration": 1331,
    "start_time": "2023-02-14T10:26:25.521Z"
   },
   {
    "duration": 3,
    "start_time": "2023-02-14T10:37:55.445Z"
   },
   {
    "duration": 8,
    "start_time": "2023-02-14T10:37:56.821Z"
   },
   {
    "duration": 3,
    "start_time": "2023-02-14T10:37:58.503Z"
   },
   {
    "duration": 14,
    "start_time": "2023-02-14T10:38:01.340Z"
   },
   {
    "duration": 3,
    "start_time": "2023-02-14T10:38:07.228Z"
   },
   {
    "duration": 9,
    "start_time": "2023-02-14T10:38:07.789Z"
   },
   {
    "duration": 149,
    "start_time": "2023-02-14T10:38:10.189Z"
   },
   {
    "duration": 18,
    "start_time": "2023-02-14T10:38:19.275Z"
   },
   {
    "duration": 38,
    "start_time": "2023-02-14T10:38:38.397Z"
   },
   {
    "duration": 6,
    "start_time": "2023-02-14T10:38:39.309Z"
   },
   {
    "duration": 3,
    "start_time": "2023-02-14T10:38:39.533Z"
   },
   {
    "duration": 5,
    "start_time": "2023-02-14T10:38:39.852Z"
   },
   {
    "duration": 4714,
    "start_time": "2023-02-14T10:38:40.028Z"
   },
   {
    "duration": 3,
    "start_time": "2023-02-14T10:38:44.744Z"
   },
   {
    "duration": 18168,
    "start_time": "2023-02-14T10:38:44.749Z"
   },
   {
    "duration": 3,
    "start_time": "2023-02-14T10:39:09.147Z"
   },
   {
    "duration": 7528,
    "start_time": "2023-02-14T10:39:09.700Z"
   },
   {
    "duration": 3,
    "start_time": "2023-02-14T10:39:17.230Z"
   },
   {
    "duration": 43,
    "start_time": "2023-02-14T10:39:17.235Z"
   },
   {
    "duration": 39,
    "start_time": "2023-02-14T10:39:17.281Z"
   },
   {
    "duration": 151,
    "start_time": "2023-02-14T10:39:17.322Z"
   },
   {
    "duration": 2,
    "start_time": "2023-02-14T10:39:19.040Z"
   },
   {
    "duration": 31,
    "start_time": "2023-02-14T10:39:19.557Z"
   },
   {
    "duration": 408,
    "start_time": "2023-02-14T10:39:21.516Z"
   },
   {
    "duration": 394,
    "start_time": "2023-02-14T10:39:24.647Z"
   },
   {
    "duration": 22621,
    "start_time": "2023-02-14T10:39:27.221Z"
   },
   {
    "duration": 110249,
    "start_time": "2023-02-14T10:40:03.070Z"
   },
   {
    "duration": 13,
    "start_time": "2023-02-14T10:42:10.918Z"
   },
   {
    "duration": 18,
    "start_time": "2023-02-14T10:42:49.693Z"
   },
   {
    "duration": 7,
    "start_time": "2023-02-14T10:43:05.870Z"
   },
   {
    "duration": 350,
    "start_time": "2023-02-14T10:43:22.578Z"
   },
   {
    "duration": 115,
    "start_time": "2023-02-14T10:45:13.575Z"
   },
   {
    "duration": 604,
    "start_time": "2023-02-14T10:45:31.927Z"
   },
   {
    "duration": 61927,
    "start_time": "2023-02-14T10:47:41.079Z"
   },
   {
    "duration": 10,
    "start_time": "2023-02-14T10:49:05.173Z"
   },
   {
    "duration": 1270,
    "start_time": "2023-02-14T10:49:11.535Z"
   },
   {
    "duration": 15,
    "start_time": "2023-02-14T13:12:17.507Z"
   },
   {
    "duration": 39,
    "start_time": "2023-02-14T13:13:23.918Z"
   },
   {
    "duration": 33,
    "start_time": "2023-02-14T13:13:25.768Z"
   },
   {
    "duration": 49,
    "start_time": "2023-02-14T13:14:37.093Z"
   },
   {
    "duration": 34,
    "start_time": "2023-02-14T13:14:43.979Z"
   },
   {
    "duration": 172,
    "start_time": "2023-02-14T13:14:50.464Z"
   },
   {
    "duration": 105,
    "start_time": "2023-02-14T13:14:55.752Z"
   },
   {
    "duration": 4,
    "start_time": "2023-02-14T13:14:56.888Z"
   },
   {
    "duration": 23,
    "start_time": "2023-02-14T13:14:57.632Z"
   },
   {
    "duration": 474,
    "start_time": "2023-02-14T13:15:08.258Z"
   },
   {
    "duration": 520,
    "start_time": "2023-02-14T13:15:17.690Z"
   },
   {
    "duration": 24732,
    "start_time": "2023-02-14T13:15:25.331Z"
   },
   {
    "duration": 155,
    "start_time": "2023-02-14T13:16:16.241Z"
   },
   {
    "duration": 54,
    "start_time": "2023-02-14T13:16:20.252Z"
   },
   {
    "duration": 539,
    "start_time": "2023-02-14T13:16:25.035Z"
   },
   {
    "duration": 454,
    "start_time": "2023-02-14T13:16:29.318Z"
   },
   {
    "duration": 31750,
    "start_time": "2023-02-14T13:16:32.629Z"
   },
   {
    "duration": 6,
    "start_time": "2023-02-14T13:51:22.930Z"
   },
   {
    "duration": 1694,
    "start_time": "2023-02-14T13:52:03.883Z"
   },
   {
    "duration": 55,
    "start_time": "2023-02-14T13:52:12.400Z"
   },
   {
    "duration": 647,
    "start_time": "2023-02-14T13:53:27.641Z"
   },
   {
    "duration": 15,
    "start_time": "2023-02-14T13:53:45.979Z"
   },
   {
    "duration": 663,
    "start_time": "2023-02-14T13:59:05.123Z"
   },
   {
    "duration": 15,
    "start_time": "2023-02-14T14:00:37.643Z"
   },
   {
    "duration": 4,
    "start_time": "2023-02-14T14:01:06.427Z"
   },
   {
    "duration": 5,
    "start_time": "2023-02-14T14:01:11.477Z"
   },
   {
    "duration": 5,
    "start_time": "2023-02-14T14:01:27.574Z"
   },
   {
    "duration": 5,
    "start_time": "2023-02-14T14:01:58.851Z"
   },
   {
    "duration": 23,
    "start_time": "2023-02-14T14:02:33.982Z"
   },
   {
    "duration": 5,
    "start_time": "2023-02-14T14:03:04.424Z"
   },
   {
    "duration": 11,
    "start_time": "2023-02-14T14:03:11.601Z"
   },
   {
    "duration": 6,
    "start_time": "2023-02-14T14:03:19.250Z"
   },
   {
    "duration": 2108,
    "start_time": "2023-02-14T14:05:05.331Z"
   },
   {
    "duration": 1489,
    "start_time": "2023-02-14T14:05:21.388Z"
   },
   {
    "duration": 18,
    "start_time": "2023-02-14T14:05:31.884Z"
   },
   {
    "duration": 6,
    "start_time": "2023-02-14T14:05:42.333Z"
   },
   {
    "duration": 18,
    "start_time": "2023-02-14T14:07:32.133Z"
   },
   {
    "duration": 19,
    "start_time": "2023-02-14T14:07:55.159Z"
   },
   {
    "duration": 89,
    "start_time": "2023-02-14T14:08:12.076Z"
   },
   {
    "duration": 850,
    "start_time": "2023-02-14T14:08:37.557Z"
   },
   {
    "duration": 39,
    "start_time": "2023-02-14T14:08:44.453Z"
   },
   {
    "duration": 99,
    "start_time": "2023-02-14T14:09:06.757Z"
   },
   {
    "duration": 994,
    "start_time": "2023-02-14T14:09:13.547Z"
   },
   {
    "duration": 36,
    "start_time": "2023-02-14T14:09:17.131Z"
   },
   {
    "duration": 7,
    "start_time": "2023-02-14T14:09:18.148Z"
   },
   {
    "duration": 9,
    "start_time": "2023-02-14T14:09:53.140Z"
   },
   {
    "duration": 77,
    "start_time": "2023-02-14T14:10:20.948Z"
   },
   {
    "duration": 8,
    "start_time": "2023-02-14T14:10:22.162Z"
   },
   {
    "duration": 164,
    "start_time": "2023-02-14T14:10:27.263Z"
   },
   {
    "duration": 253,
    "start_time": "2023-02-14T14:10:29.788Z"
   },
   {
    "duration": 8073,
    "start_time": "2023-02-14T14:10:34.132Z"
   },
   {
    "duration": 1112,
    "start_time": "2023-02-14T14:10:58.797Z"
   },
   {
    "duration": 23,
    "start_time": "2023-02-14T14:11:00.733Z"
   },
   {
    "duration": 8,
    "start_time": "2023-02-14T14:11:02.093Z"
   },
   {
    "duration": 126,
    "start_time": "2023-02-14T14:11:51.484Z"
   },
   {
    "duration": 184,
    "start_time": "2023-02-14T14:12:10.084Z"
   },
   {
    "duration": 382,
    "start_time": "2023-02-14T14:12:20.189Z"
   },
   {
    "duration": 567,
    "start_time": "2023-02-14T14:12:35.072Z"
   },
   {
    "duration": 1570,
    "start_time": "2023-02-14T14:12:40.869Z"
   },
   {
    "duration": 23,
    "start_time": "2023-02-14T14:12:42.441Z"
   },
   {
    "duration": 5,
    "start_time": "2023-02-14T14:13:21.029Z"
   },
   {
    "duration": 865,
    "start_time": "2023-02-14T14:13:24.572Z"
   },
   {
    "duration": 20,
    "start_time": "2023-02-14T14:13:25.439Z"
   },
   {
    "duration": 4,
    "start_time": "2023-02-14T14:13:27.158Z"
   },
   {
    "duration": 4,
    "start_time": "2023-02-14T14:13:29.597Z"
   },
   {
    "duration": 746,
    "start_time": "2023-02-14T14:14:48.226Z"
   },
   {
    "duration": 82,
    "start_time": "2023-02-14T14:14:59.038Z"
   },
   {
    "duration": 3,
    "start_time": "2023-02-14T14:15:08.578Z"
   },
   {
    "duration": 4,
    "start_time": "2023-02-14T14:15:09.633Z"
   },
   {
    "duration": 6,
    "start_time": "2023-02-14T14:15:12.866Z"
   },
   {
    "duration": 25,
    "start_time": "2023-02-14T14:16:12.948Z"
   },
   {
    "duration": 2,
    "start_time": "2023-02-14T14:16:32.639Z"
   },
   {
    "duration": 637,
    "start_time": "2023-02-14T14:16:35.165Z"
   },
   {
    "duration": 4,
    "start_time": "2023-02-14T14:16:36.366Z"
   },
   {
    "duration": 30,
    "start_time": "2023-02-14T14:16:37.435Z"
   },
   {
    "duration": 672,
    "start_time": "2023-02-14T14:17:42.575Z"
   },
   {
    "duration": 33,
    "start_time": "2023-02-14T14:17:44.339Z"
   },
   {
    "duration": 2,
    "start_time": "2023-02-14T14:17:47.345Z"
   },
   {
    "duration": 4,
    "start_time": "2023-02-14T14:17:48.165Z"
   },
   {
    "duration": 6,
    "start_time": "2023-02-14T14:17:52.727Z"
   },
   {
    "duration": 31,
    "start_time": "2023-02-14T14:18:35.742Z"
   },
   {
    "duration": 28,
    "start_time": "2023-02-14T14:18:45.331Z"
   },
   {
    "duration": 35,
    "start_time": "2023-02-14T14:18:59.733Z"
   },
   {
    "duration": 688,
    "start_time": "2023-02-14T14:19:08.183Z"
   },
   {
    "duration": 62,
    "start_time": "2023-02-14T14:19:10.758Z"
   },
   {
    "duration": 712,
    "start_time": "2023-02-14T14:19:28.029Z"
   },
   {
    "duration": 51,
    "start_time": "2023-02-14T14:19:30.581Z"
   },
   {
    "duration": 132,
    "start_time": "2023-02-14T14:20:10.831Z"
   },
   {
    "duration": 631,
    "start_time": "2023-02-14T14:20:15.958Z"
   },
   {
    "duration": 117,
    "start_time": "2023-02-14T14:20:17.938Z"
   },
   {
    "duration": 683,
    "start_time": "2023-02-14T14:20:27.798Z"
   },
   {
    "duration": 123,
    "start_time": "2023-02-14T14:20:29.542Z"
   },
   {
    "duration": 847,
    "start_time": "2023-02-14T14:20:40.415Z"
   },
   {
    "duration": 51,
    "start_time": "2023-02-14T14:20:41.264Z"
   },
   {
    "duration": 758,
    "start_time": "2023-02-14T14:22:13.271Z"
   },
   {
    "duration": 44,
    "start_time": "2023-02-14T14:22:14.886Z"
   },
   {
    "duration": 4,
    "start_time": "2023-02-14T14:22:16.286Z"
   },
   {
    "duration": 5,
    "start_time": "2023-02-14T14:22:18.074Z"
   },
   {
    "duration": 3,
    "start_time": "2023-02-14T14:22:32.947Z"
   },
   {
    "duration": 688,
    "start_time": "2023-02-14T14:22:57.064Z"
   },
   {
    "duration": 56,
    "start_time": "2023-02-14T14:22:58.535Z"
   },
   {
    "duration": 11,
    "start_time": "2023-02-14T14:22:59.790Z"
   },
   {
    "duration": 731,
    "start_time": "2023-02-14T14:24:19.539Z"
   },
   {
    "duration": 38,
    "start_time": "2023-02-14T14:24:21.974Z"
   },
   {
    "duration": 12,
    "start_time": "2023-02-14T14:24:25.855Z"
   },
   {
    "duration": 15,
    "start_time": "2023-02-14T14:24:45.240Z"
   },
   {
    "duration": 30,
    "start_time": "2023-02-14T14:25:10.441Z"
   },
   {
    "duration": 69,
    "start_time": "2023-02-14T14:25:17.968Z"
   },
   {
    "duration": 100,
    "start_time": "2023-02-14T14:25:28.999Z"
   },
   {
    "duration": 34,
    "start_time": "2023-02-14T14:25:30.296Z"
   },
   {
    "duration": 11,
    "start_time": "2023-02-14T14:25:44.383Z"
   },
   {
    "duration": 4,
    "start_time": "2023-02-14T14:25:45.665Z"
   },
   {
    "duration": 472,
    "start_time": "2023-02-14T14:25:53.790Z"
   },
   {
    "duration": 644,
    "start_time": "2023-02-14T14:26:29.018Z"
   },
   {
    "duration": 40,
    "start_time": "2023-02-14T14:26:30.128Z"
   },
   {
    "duration": 26,
    "start_time": "2023-02-14T14:26:33.447Z"
   },
   {
    "duration": 12,
    "start_time": "2023-02-14T14:26:35.422Z"
   },
   {
    "duration": 13,
    "start_time": "2023-02-14T14:26:36.722Z"
   },
   {
    "duration": 5,
    "start_time": "2023-02-14T14:26:38.032Z"
   },
   {
    "duration": 428,
    "start_time": "2023-02-14T14:26:38.935Z"
   },
   {
    "duration": 698,
    "start_time": "2023-02-14T14:27:02.271Z"
   },
   {
    "duration": 37,
    "start_time": "2023-02-14T14:27:06.248Z"
   },
   {
    "duration": 18,
    "start_time": "2023-02-14T14:27:49.695Z"
   },
   {
    "duration": 6,
    "start_time": "2023-02-14T14:27:51.703Z"
   },
   {
    "duration": 697,
    "start_time": "2023-02-14T14:28:48.461Z"
   },
   {
    "duration": 5,
    "start_time": "2023-02-14T14:28:49.731Z"
   },
   {
    "duration": 702,
    "start_time": "2023-02-14T14:29:10.999Z"
   },
   {
    "duration": 36,
    "start_time": "2023-02-14T14:29:12.260Z"
   },
   {
    "duration": 673,
    "start_time": "2023-02-14T14:29:43.992Z"
   },
   {
    "duration": 30,
    "start_time": "2023-02-14T14:29:45.271Z"
   },
   {
    "duration": 11,
    "start_time": "2023-02-14T14:29:54.448Z"
   },
   {
    "duration": 778,
    "start_time": "2023-02-14T14:30:05.177Z"
   },
   {
    "duration": 18,
    "start_time": "2023-02-14T14:30:05.957Z"
   },
   {
    "duration": 23,
    "start_time": "2023-02-14T14:30:06.752Z"
   },
   {
    "duration": 701,
    "start_time": "2023-02-14T14:31:18.479Z"
   },
   {
    "duration": 1648,
    "start_time": "2023-02-14T14:31:19.944Z"
   },
   {
    "duration": 750,
    "start_time": "2023-02-14T14:31:41.804Z"
   },
   {
    "duration": 769,
    "start_time": "2023-02-14T14:31:43.073Z"
   },
   {
    "duration": 4,
    "start_time": "2023-02-14T14:33:23.983Z"
   },
   {
    "duration": 15,
    "start_time": "2023-02-14T14:33:30.426Z"
   },
   {
    "duration": 718,
    "start_time": "2023-02-14T14:34:02.257Z"
   },
   {
    "duration": 16,
    "start_time": "2023-02-14T14:34:04.099Z"
   },
   {
    "duration": 654,
    "start_time": "2023-02-14T14:34:41.873Z"
   },
   {
    "duration": 84,
    "start_time": "2023-02-14T14:34:43.600Z"
   },
   {
    "duration": 90,
    "start_time": "2023-02-14T14:35:08.678Z"
   },
   {
    "duration": 678,
    "start_time": "2023-02-14T14:35:11.792Z"
   },
   {
    "duration": 71,
    "start_time": "2023-02-14T14:35:13.545Z"
   },
   {
    "duration": 16,
    "start_time": "2023-02-14T14:35:24.918Z"
   },
   {
    "duration": 3,
    "start_time": "2023-02-14T14:35:54.393Z"
   },
   {
    "duration": 4,
    "start_time": "2023-02-14T14:35:54.855Z"
   },
   {
    "duration": 6,
    "start_time": "2023-02-14T14:35:59.129Z"
   },
   {
    "duration": 7,
    "start_time": "2023-02-14T14:38:04.991Z"
   },
   {
    "duration": 4,
    "start_time": "2023-02-14T14:38:06.561Z"
   },
   {
    "duration": 11,
    "start_time": "2023-02-14T14:38:29.242Z"
   },
   {
    "duration": 11,
    "start_time": "2023-02-14T14:39:20.282Z"
   },
   {
    "duration": 10,
    "start_time": "2023-02-14T14:39:53.744Z"
   },
   {
    "duration": 632,
    "start_time": "2023-02-14T14:39:59.633Z"
   },
   {
    "duration": 15,
    "start_time": "2023-02-14T14:40:00.268Z"
   },
   {
    "duration": 3,
    "start_time": "2023-02-14T14:40:00.971Z"
   },
   {
    "duration": 4,
    "start_time": "2023-02-14T14:40:01.620Z"
   },
   {
    "duration": 12,
    "start_time": "2023-02-14T14:40:02.858Z"
   },
   {
    "duration": 7,
    "start_time": "2023-02-14T14:40:28.739Z"
   },
   {
    "duration": 14,
    "start_time": "2023-02-14T14:40:34.910Z"
   },
   {
    "duration": 11,
    "start_time": "2023-02-14T14:44:12.843Z"
   },
   {
    "duration": 5,
    "start_time": "2023-02-14T14:44:29.757Z"
   },
   {
    "duration": 635,
    "start_time": "2023-02-14T14:44:49.499Z"
   },
   {
    "duration": 20,
    "start_time": "2023-02-14T14:44:50.906Z"
   },
   {
    "duration": 3,
    "start_time": "2023-02-14T14:45:05.123Z"
   },
   {
    "duration": 4,
    "start_time": "2023-02-14T14:45:06.009Z"
   },
   {
    "duration": 14,
    "start_time": "2023-02-14T14:45:06.787Z"
   },
   {
    "duration": 6,
    "start_time": "2023-02-14T14:45:43.916Z"
   },
   {
    "duration": 3,
    "start_time": "2023-02-14T14:45:53.299Z"
   },
   {
    "duration": 2,
    "start_time": "2023-02-14T14:46:00.843Z"
   },
   {
    "duration": 627,
    "start_time": "2023-02-14T14:46:05.540Z"
   },
   {
    "duration": 639,
    "start_time": "2023-02-14T14:46:21.474Z"
   },
   {
    "duration": 3,
    "start_time": "2023-02-14T14:46:22.587Z"
   },
   {
    "duration": 15,
    "start_time": "2023-02-14T14:46:25.318Z"
   },
   {
    "duration": 5,
    "start_time": "2023-02-14T14:46:45.028Z"
   },
   {
    "duration": 15,
    "start_time": "2023-02-14T14:47:15.644Z"
   },
   {
    "duration": 3,
    "start_time": "2023-02-14T14:47:18.978Z"
   },
   {
    "duration": 3,
    "start_time": "2023-02-14T14:47:24.171Z"
   },
   {
    "duration": 6,
    "start_time": "2023-02-14T14:47:25.563Z"
   },
   {
    "duration": 4,
    "start_time": "2023-02-14T14:47:27.655Z"
   },
   {
    "duration": 82,
    "start_time": "2023-02-14T14:49:30.427Z"
   },
   {
    "duration": 11,
    "start_time": "2023-02-14T14:49:37.062Z"
   },
   {
    "duration": 5,
    "start_time": "2023-02-14T14:50:00.332Z"
   },
   {
    "duration": 4,
    "start_time": "2023-02-14T14:50:19.939Z"
   },
   {
    "duration": 734,
    "start_time": "2023-02-14T14:50:24.948Z"
   },
   {
    "duration": 4,
    "start_time": "2023-02-14T14:50:25.684Z"
   },
   {
    "duration": 27,
    "start_time": "2023-02-14T14:50:25.689Z"
   },
   {
    "duration": 21,
    "start_time": "2023-02-14T14:50:25.718Z"
   },
   {
    "duration": 4,
    "start_time": "2023-02-14T14:50:25.875Z"
   },
   {
    "duration": 7,
    "start_time": "2023-02-14T14:50:26.737Z"
   },
   {
    "duration": 5,
    "start_time": "2023-02-14T14:50:27.179Z"
   },
   {
    "duration": 98,
    "start_time": "2023-02-14T14:50:27.539Z"
   },
   {
    "duration": 10,
    "start_time": "2023-02-14T14:50:28.668Z"
   },
   {
    "duration": 82,
    "start_time": "2023-02-14T14:50:47.948Z"
   },
   {
    "duration": 6,
    "start_time": "2023-02-14T14:50:48.694Z"
   },
   {
    "duration": 94,
    "start_time": "2023-02-14T14:50:56.931Z"
   },
   {
    "duration": 11,
    "start_time": "2023-02-14T14:50:58.039Z"
   },
   {
    "duration": 3,
    "start_time": "2023-02-14T14:51:28.069Z"
   },
   {
    "duration": 5,
    "start_time": "2023-02-14T14:51:50.974Z"
   },
   {
    "duration": 28,
    "start_time": "2023-02-14T14:52:51.131Z"
   },
   {
    "duration": 26,
    "start_time": "2023-02-14T14:52:56.631Z"
   },
   {
    "duration": 103,
    "start_time": "2023-02-14T14:53:12.580Z"
   },
   {
    "duration": 4,
    "start_time": "2023-02-14T14:53:13.045Z"
   },
   {
    "duration": 7,
    "start_time": "2023-02-14T14:53:13.524Z"
   },
   {
    "duration": 203,
    "start_time": "2023-02-14T14:53:23.141Z"
   },
   {
    "duration": 9,
    "start_time": "2023-02-14T14:53:23.620Z"
   },
   {
    "duration": 5,
    "start_time": "2023-02-14T14:53:25.061Z"
   }
  ],
  "kernelspec": {
   "display_name": "Python 3 (ipykernel)",
   "language": "python",
   "name": "python3"
  },
  "language_info": {
   "codemirror_mode": {
    "name": "ipython",
    "version": 3
   },
   "file_extension": ".py",
   "mimetype": "text/x-python",
   "name": "python",
   "nbconvert_exporter": "python",
   "pygments_lexer": "ipython3",
   "version": "3.9.13"
  },
  "toc": {
   "base_numbering": 1,
   "nav_menu": {},
   "number_sections": true,
   "sideBar": true,
   "skip_h1_title": true,
   "title_cell": "Содержание",
   "title_sidebar": "Contents",
   "toc_cell": true,
   "toc_position": {
    "height": "calc(100% - 180px)",
    "left": "10px",
    "top": "150px",
    "width": "302.391px"
   },
   "toc_section_display": true,
   "toc_window_display": false
  },
  "vscode": {
   "interpreter": {
    "hash": "af7472ffbb6f11e94eca2dc243fc9b09d1dc0fb11170c3918ea151f7aad82d25"
   }
  }
 },
 "nbformat": 4,
 "nbformat_minor": 2
}
